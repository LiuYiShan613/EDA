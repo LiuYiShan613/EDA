{
  "nbformat": 4,
  "nbformat_minor": 0,
  "metadata": {
    "colab": {
      "name": "EDA.ipynb",
      "provenance": [],
      "collapsed_sections": [],
      "authorship_tag": "ABX9TyPHShp0HLuCBIdKQF3c2Frb",
      "include_colab_link": true
    },
    "kernelspec": {
      "name": "python3",
      "display_name": "Python 3"
    },
    "language_info": {
      "name": "python"
    }
  },
  "cells": [
    {
      "cell_type": "markdown",
      "metadata": {
        "id": "view-in-github",
        "colab_type": "text"
      },
      "source": [
        "<a href=\"https://colab.research.google.com/github/LiuYiShan613/EDA/blob/main/EDA.ipynb\" target=\"_parent\"><img src=\"https://colab.research.google.com/assets/colab-badge.svg\" alt=\"Open In Colab\"/></a>"
      ]
    },
    {
      "cell_type": "code",
      "metadata": {
        "colab": {
          "base_uri": "https://localhost:8080/"
        },
        "id": "V-YGa_bf2Dsc",
        "outputId": "c283151e-c7ae-42a2-ae77-b92b079136c2"
      },
      "source": [
        "from google.colab import drive\n",
        "drive.mount('/content/drive')"
      ],
      "execution_count": 1,
      "outputs": [
        {
          "output_type": "stream",
          "name": "stdout",
          "text": [
            "Drive already mounted at /content/drive; to attempt to forcibly remount, call drive.mount(\"/content/drive\", force_remount=True).\n"
          ]
        }
      ]
    },
    {
      "cell_type": "code",
      "metadata": {
        "id": "hXymUoOh2jed"
      },
      "source": [
        "import pandas as pd\n",
        "import numpy as np\n",
        "#顯示小數到第二位\n",
        "pd.set_option('display.float_format', lambda x:'%.2f'% x)"
      ],
      "execution_count": 2,
      "outputs": []
    },
    {
      "cell_type": "code",
      "metadata": {
        "colab": {
          "base_uri": "https://localhost:8080/",
          "height": 206
        },
        "id": "iOQE_Uwt2mNV",
        "outputId": "a30a296c-3a8d-4f61-a129-e4986869f67d"
      },
      "source": [
        "sales_data = pd.read_csv('/content/drive/MyDrive/data/data3_project.csv')\n",
        "#查看前5筆檔案欄位資訊\n",
        "sales_data.head(5)"
      ],
      "execution_count": 3,
      "outputs": [
        {
          "output_type": "execute_result",
          "data": {
            "text/html": [
              "<div>\n",
              "<style scoped>\n",
              "    .dataframe tbody tr th:only-of-type {\n",
              "        vertical-align: middle;\n",
              "    }\n",
              "\n",
              "    .dataframe tbody tr th {\n",
              "        vertical-align: top;\n",
              "    }\n",
              "\n",
              "    .dataframe thead th {\n",
              "        text-align: right;\n",
              "    }\n",
              "</style>\n",
              "<table border=\"1\" class=\"dataframe\">\n",
              "  <thead>\n",
              "    <tr style=\"text-align: right;\">\n",
              "      <th></th>\n",
              "      <th>InvoiceNo</th>\n",
              "      <th>StockCode</th>\n",
              "      <th>Description</th>\n",
              "      <th>Quantity</th>\n",
              "      <th>InvoiceDate</th>\n",
              "      <th>UnitPrice</th>\n",
              "      <th>CustomerID</th>\n",
              "      <th>Country</th>\n",
              "      <th>member_start_date</th>\n",
              "      <th>first_trans_date</th>\n",
              "    </tr>\n",
              "  </thead>\n",
              "  <tbody>\n",
              "    <tr>\n",
              "      <th>0</th>\n",
              "      <td>PS5327001158</td>\n",
              "      <td>JA01</td>\n",
              "      <td>晶淬雪潔顏乳100ml</td>\n",
              "      <td>8.00</td>\n",
              "      <td>2019-01-01</td>\n",
              "      <td>1259.00</td>\n",
              "      <td>9100002488768.00</td>\n",
              "      <td>中區</td>\n",
              "      <td>2019-12-09</td>\n",
              "      <td>2018-06-24</td>\n",
              "    </tr>\n",
              "    <tr>\n",
              "      <th>1</th>\n",
              "      <td>PS5335020955</td>\n",
              "      <td>KG06</td>\n",
              "      <td>多肽亮眼乳霜20g-保濕型</td>\n",
              "      <td>8.00</td>\n",
              "      <td>2019-01-01</td>\n",
              "      <td>839.00</td>\n",
              "      <td>9100002556566.00</td>\n",
              "      <td>中區</td>\n",
              "      <td>2018-10-21</td>\n",
              "      <td>2018-10-21</td>\n",
              "    </tr>\n",
              "    <tr>\n",
              "      <th>2</th>\n",
              "      <td>PS5335020955</td>\n",
              "      <td>BJ102</td>\n",
              "      <td>檸檬精油10ml MUI</td>\n",
              "      <td>8.00</td>\n",
              "      <td>2019-01-01</td>\n",
              "      <td>839.00</td>\n",
              "      <td>9100002556566.00</td>\n",
              "      <td>中區</td>\n",
              "      <td>2018-10-21</td>\n",
              "      <td>2018-10-21</td>\n",
              "    </tr>\n",
              "    <tr>\n",
              "      <th>3</th>\n",
              "      <td>PS5335020955</td>\n",
              "      <td>JZA3G1</td>\n",
              "      <td>柚見快樂精油15ml MUI</td>\n",
              "      <td>-8.00</td>\n",
              "      <td>2019-01-01</td>\n",
              "      <td>-1501.00</td>\n",
              "      <td>9100002556566.00</td>\n",
              "      <td>中區</td>\n",
              "      <td>2018-10-21</td>\n",
              "      <td>2018-10-21</td>\n",
              "    </tr>\n",
              "    <tr>\n",
              "      <th>4</th>\n",
              "      <td>PS5444006919</td>\n",
              "      <td>BJ103</td>\n",
              "      <td>細花冬青香氛油10ml MUI</td>\n",
              "      <td>8.00</td>\n",
              "      <td>2019-01-01</td>\n",
              "      <td>672.00</td>\n",
              "      <td>9100002582077.00</td>\n",
              "      <td>南區</td>\n",
              "      <td>2018-12-04</td>\n",
              "      <td>2018-12-04</td>\n",
              "    </tr>\n",
              "  </tbody>\n",
              "</table>\n",
              "</div>"
            ],
            "text/plain": [
              "      InvoiceNo StockCode  ... member_start_date  first_trans_date\n",
              "0  PS5327001158      JA01  ...        2019-12-09        2018-06-24\n",
              "1  PS5335020955      KG06  ...        2018-10-21        2018-10-21\n",
              "2  PS5335020955     BJ102  ...        2018-10-21        2018-10-21\n",
              "3  PS5335020955    JZA3G1  ...        2018-10-21        2018-10-21\n",
              "4  PS5444006919     BJ103  ...        2018-12-04        2018-12-04\n",
              "\n",
              "[5 rows x 10 columns]"
            ]
          },
          "metadata": {},
          "execution_count": 3
        }
      ]
    },
    {
      "cell_type": "code",
      "metadata": {
        "colab": {
          "base_uri": "https://localhost:8080/",
          "height": 206
        },
        "id": "V2l6a3kx3YY0",
        "outputId": "43bf7c35-75d4-4c17-d060-00d80f13c65e"
      },
      "source": [
        "sales_data.tail(5)"
      ],
      "execution_count": 4,
      "outputs": [
        {
          "output_type": "execute_result",
          "data": {
            "text/html": [
              "<div>\n",
              "<style scoped>\n",
              "    .dataframe tbody tr th:only-of-type {\n",
              "        vertical-align: middle;\n",
              "    }\n",
              "\n",
              "    .dataframe tbody tr th {\n",
              "        vertical-align: top;\n",
              "    }\n",
              "\n",
              "    .dataframe thead th {\n",
              "        text-align: right;\n",
              "    }\n",
              "</style>\n",
              "<table border=\"1\" class=\"dataframe\">\n",
              "  <thead>\n",
              "    <tr style=\"text-align: right;\">\n",
              "      <th></th>\n",
              "      <th>InvoiceNo</th>\n",
              "      <th>StockCode</th>\n",
              "      <th>Description</th>\n",
              "      <th>Quantity</th>\n",
              "      <th>InvoiceDate</th>\n",
              "      <th>UnitPrice</th>\n",
              "      <th>CustomerID</th>\n",
              "      <th>Country</th>\n",
              "      <th>member_start_date</th>\n",
              "      <th>first_trans_date</th>\n",
              "    </tr>\n",
              "  </thead>\n",
              "  <tbody>\n",
              "    <tr>\n",
              "      <th>1404430</th>\n",
              "      <td>PS5324024941</td>\n",
              "      <td>KQ02</td>\n",
              "      <td>玫瑰晶萃活膚液130ml</td>\n",
              "      <td>16.00</td>\n",
              "      <td>2020-12-31</td>\n",
              "      <td>2946.00</td>\n",
              "      <td>9100000595826.00</td>\n",
              "      <td>中區</td>\n",
              "      <td>2010-03-15</td>\n",
              "      <td>2012-07-11</td>\n",
              "    </tr>\n",
              "    <tr>\n",
              "      <th>1404431</th>\n",
              "      <td>PS5219002027</td>\n",
              "      <td>GAXFG1</td>\n",
              "      <td>真正除臭抗菌噴霧(銀離子迷迭香)250ml</td>\n",
              "      <td>8.00</td>\n",
              "      <td>2020-12-31</td>\n",
              "      <td>309.00</td>\n",
              "      <td>9100003028369.00</td>\n",
              "      <td>竹區</td>\n",
              "      <td>2020-12-08</td>\n",
              "      <td>2020-11-26</td>\n",
              "    </tr>\n",
              "    <tr>\n",
              "      <th>1404432</th>\n",
              "      <td>PS5219002027</td>\n",
              "      <td>MAB2G1</td>\n",
              "      <td>BA-5肌密全效噴霧奇蹟水70ml</td>\n",
              "      <td>8.00</td>\n",
              "      <td>2020-12-31</td>\n",
              "      <td>1094.00</td>\n",
              "      <td>9100003028369.00</td>\n",
              "      <td>竹區</td>\n",
              "      <td>2020-12-08</td>\n",
              "      <td>2020-11-26</td>\n",
              "    </tr>\n",
              "    <tr>\n",
              "      <th>1404433</th>\n",
              "      <td>PS5219002027</td>\n",
              "      <td>WD096</td>\n",
              "      <td>緊緻保濕裸膚羽翼面膜25ml-零售單包</td>\n",
              "      <td>16.00</td>\n",
              "      <td>2020-12-31</td>\n",
              "      <td>165.00</td>\n",
              "      <td>9100003028369.00</td>\n",
              "      <td>竹區</td>\n",
              "      <td>2020-12-08</td>\n",
              "      <td>2020-11-26</td>\n",
              "    </tr>\n",
              "    <tr>\n",
              "      <th>1404434</th>\n",
              "      <td>PS5219002028</td>\n",
              "      <td>GAXFG2</td>\n",
              "      <td>真正除臭抗菌噴霧(銀離子迷迭香)350ml</td>\n",
              "      <td>8.00</td>\n",
              "      <td>2020-12-31</td>\n",
              "      <td>441.00</td>\n",
              "      <td>9100003039464.00</td>\n",
              "      <td>竹區</td>\n",
              "      <td>2020-12-23</td>\n",
              "      <td>2020-12-10</td>\n",
              "    </tr>\n",
              "  </tbody>\n",
              "</table>\n",
              "</div>"
            ],
            "text/plain": [
              "            InvoiceNo StockCode  ... member_start_date  first_trans_date\n",
              "1404430  PS5324024941      KQ02  ...        2010-03-15        2012-07-11\n",
              "1404431  PS5219002027    GAXFG1  ...        2020-12-08        2020-11-26\n",
              "1404432  PS5219002027    MAB2G1  ...        2020-12-08        2020-11-26\n",
              "1404433  PS5219002027     WD096  ...        2020-12-08        2020-11-26\n",
              "1404434  PS5219002028    GAXFG2  ...        2020-12-23        2020-12-10\n",
              "\n",
              "[5 rows x 10 columns]"
            ]
          },
          "metadata": {},
          "execution_count": 4
        }
      ]
    },
    {
      "cell_type": "code",
      "metadata": {
        "colab": {
          "base_uri": "https://localhost:8080/"
        },
        "id": "_VuzTPdu33th",
        "outputId": "61d6a517-a5f5-4974-b76d-2aeb01a3b61d"
      },
      "source": [
        "sales_data.info()"
      ],
      "execution_count": 5,
      "outputs": [
        {
          "output_type": "stream",
          "name": "stdout",
          "text": [
            "<class 'pandas.core.frame.DataFrame'>\n",
            "RangeIndex: 1404435 entries, 0 to 1404434\n",
            "Data columns (total 10 columns):\n",
            " #   Column             Non-Null Count    Dtype  \n",
            "---  ------             --------------    -----  \n",
            " 0   InvoiceNo          1404435 non-null  object \n",
            " 1   StockCode          1404435 non-null  object \n",
            " 2   Description        1404435 non-null  object \n",
            " 3   Quantity           1404435 non-null  float64\n",
            " 4   InvoiceDate        1404435 non-null  object \n",
            " 5   UnitPrice          1404435 non-null  float64\n",
            " 6   CustomerID         1403724 non-null  float64\n",
            " 7   Country            1404435 non-null  object \n",
            " 8   member_start_date  1366651 non-null  object \n",
            " 9   first_trans_date   1400412 non-null  object \n",
            "dtypes: float64(3), object(7)\n",
            "memory usage: 107.2+ MB\n"
          ]
        }
      ]
    },
    {
      "cell_type": "code",
      "metadata": {
        "colab": {
          "base_uri": "https://localhost:8080/"
        },
        "id": "1vPM7V6q2qv9",
        "outputId": "b93a09ff-3a0c-41d6-f1ac-539ed86018ee"
      },
      "source": [
        "sales_data.shape"
      ],
      "execution_count": 6,
      "outputs": [
        {
          "output_type": "execute_result",
          "data": {
            "text/plain": [
              "(1404435, 10)"
            ]
          },
          "metadata": {},
          "execution_count": 6
        }
      ]
    },
    {
      "cell_type": "code",
      "metadata": {
        "colab": {
          "base_uri": "https://localhost:8080/"
        },
        "id": "ThQtBWe32xnk",
        "outputId": "c4f9589f-1040-4e4b-c1de-3b81097c0de2"
      },
      "source": [
        "sales_data.Description.value_counts()"
      ],
      "execution_count": 7,
      "outputs": [
        {
          "output_type": "execute_result",
          "data": {
            "text/plain": [
              "全背順氣活力SPA課程單堂         58636\n",
              "清除環境中腸病毒濕紙巾10抽        52599\n",
              "plus5智頻美塑儀課程單堂        46660\n",
              "(新)溫熱刮痧課程單堂           34129\n",
              "全身健康優化SPA課程單堂         33770\n",
              "                      ...  \n",
              "精準無痕BOTOX(單堂會員)30U        1\n",
              "溫感緊緻輕盈(內)褲-膚色2XL          1\n",
              "精準無痕保堤拉(單堂會員)100U         1\n",
              "如膠似漆ISLA15                1\n",
              "極線音波拉提900條(原價)            1\n",
              "Name: Description, Length: 870, dtype: int64"
            ]
          },
          "metadata": {},
          "execution_count": 7
        }
      ]
    },
    {
      "cell_type": "code",
      "metadata": {
        "colab": {
          "base_uri": "https://localhost:8080/"
        },
        "id": "cvaSfvvT4ASP",
        "outputId": "838ede0b-8cb2-4d00-f5e7-c2c614838a47"
      },
      "source": [
        "sales_data['Description'].value_counts()"
      ],
      "execution_count": 8,
      "outputs": [
        {
          "output_type": "execute_result",
          "data": {
            "text/plain": [
              "全背順氣活力SPA課程單堂         58636\n",
              "清除環境中腸病毒濕紙巾10抽        52599\n",
              "plus5智頻美塑儀課程單堂        46660\n",
              "(新)溫熱刮痧課程單堂           34129\n",
              "全身健康優化SPA課程單堂         33770\n",
              "                      ...  \n",
              "精準無痕BOTOX(單堂會員)30U        1\n",
              "溫感緊緻輕盈(內)褲-膚色2XL          1\n",
              "精準無痕保堤拉(單堂會員)100U         1\n",
              "如膠似漆ISLA15                1\n",
              "極線音波拉提900條(原價)            1\n",
              "Name: Description, Length: 870, dtype: int64"
            ]
          },
          "metadata": {},
          "execution_count": 8
        }
      ]
    },
    {
      "cell_type": "code",
      "metadata": {
        "colab": {
          "base_uri": "https://localhost:8080/"
        },
        "id": "K2UPmSpO4AcO",
        "outputId": "0ed25f5f-8f04-428b-d289-cb7391863fe7"
      },
      "source": [
        "#看data個欄位中有沒有null值\n",
        "sales_data.isna().any()"
      ],
      "execution_count": 9,
      "outputs": [
        {
          "output_type": "execute_result",
          "data": {
            "text/plain": [
              "InvoiceNo            False\n",
              "StockCode            False\n",
              "Description          False\n",
              "Quantity             False\n",
              "InvoiceDate          False\n",
              "UnitPrice            False\n",
              "CustomerID            True\n",
              "Country              False\n",
              "member_start_date     True\n",
              "first_trans_date      True\n",
              "dtype: bool"
            ]
          },
          "metadata": {},
          "execution_count": 9
        }
      ]
    },
    {
      "cell_type": "code",
      "metadata": {
        "id": "KFIJ-lMJ4xL3",
        "colab": {
          "base_uri": "https://localhost:8080/",
          "height": 423
        },
        "outputId": "20d1392a-fed9-46fd-9f1b-0eaeac4c4d55"
      },
      "source": [
        "sales_data.loc[sales_data['CustomerID'].isnull()]"
      ],
      "execution_count": 10,
      "outputs": [
        {
          "output_type": "execute_result",
          "data": {
            "text/html": [
              "<div>\n",
              "<style scoped>\n",
              "    .dataframe tbody tr th:only-of-type {\n",
              "        vertical-align: middle;\n",
              "    }\n",
              "\n",
              "    .dataframe tbody tr th {\n",
              "        vertical-align: top;\n",
              "    }\n",
              "\n",
              "    .dataframe thead th {\n",
              "        text-align: right;\n",
              "    }\n",
              "</style>\n",
              "<table border=\"1\" class=\"dataframe\">\n",
              "  <thead>\n",
              "    <tr style=\"text-align: right;\">\n",
              "      <th></th>\n",
              "      <th>InvoiceNo</th>\n",
              "      <th>StockCode</th>\n",
              "      <th>Description</th>\n",
              "      <th>Quantity</th>\n",
              "      <th>InvoiceDate</th>\n",
              "      <th>UnitPrice</th>\n",
              "      <th>CustomerID</th>\n",
              "      <th>Country</th>\n",
              "      <th>member_start_date</th>\n",
              "      <th>first_trans_date</th>\n",
              "    </tr>\n",
              "  </thead>\n",
              "  <tbody>\n",
              "    <tr>\n",
              "      <th>1544</th>\n",
              "      <td>PS1001008016</td>\n",
              "      <td>MD-1265</td>\n",
              "      <td>2019營運售全背</td>\n",
              "      <td>32.00</td>\n",
              "      <td>2019-01-03</td>\n",
              "      <td>1859.00</td>\n",
              "      <td>nan</td>\n",
              "      <td>總管理處</td>\n",
              "      <td>NaN</td>\n",
              "      <td>NaN</td>\n",
              "    </tr>\n",
              "    <tr>\n",
              "      <th>1545</th>\n",
              "      <td>PS1001008016</td>\n",
              "      <td>JZA4G2</td>\n",
              "      <td>輕鬆．清新複方按摩油30ml</td>\n",
              "      <td>40.00</td>\n",
              "      <td>2019-01-03</td>\n",
              "      <td>2699.00</td>\n",
              "      <td>nan</td>\n",
              "      <td>總管理處</td>\n",
              "      <td>NaN</td>\n",
              "      <td>NaN</td>\n",
              "    </tr>\n",
              "    <tr>\n",
              "      <th>3470</th>\n",
              "      <td>PS1001008018</td>\n",
              "      <td>MD-1266</td>\n",
              "      <td>2019營運售太極</td>\n",
              "      <td>8.00</td>\n",
              "      <td>2019-01-05</td>\n",
              "      <td>509.00</td>\n",
              "      <td>nan</td>\n",
              "      <td>總管理處</td>\n",
              "      <td>NaN</td>\n",
              "      <td>NaN</td>\n",
              "    </tr>\n",
              "    <tr>\n",
              "      <th>3471</th>\n",
              "      <td>PS1001008018</td>\n",
              "      <td>K8016</td>\n",
              "      <td>植粹清香沐浴精500ml</td>\n",
              "      <td>8.00</td>\n",
              "      <td>2019-01-05</td>\n",
              "      <td>497.00</td>\n",
              "      <td>nan</td>\n",
              "      <td>總管理處</td>\n",
              "      <td>NaN</td>\n",
              "      <td>NaN</td>\n",
              "    </tr>\n",
              "    <tr>\n",
              "      <th>3472</th>\n",
              "      <td>PS1001008018</td>\n",
              "      <td>K8017</td>\n",
              "      <td>植粹養護洗髮精500ml</td>\n",
              "      <td>8.00</td>\n",
              "      <td>2019-01-05</td>\n",
              "      <td>497.00</td>\n",
              "      <td>nan</td>\n",
              "      <td>總管理處</td>\n",
              "      <td>NaN</td>\n",
              "      <td>NaN</td>\n",
              "    </tr>\n",
              "    <tr>\n",
              "      <th>...</th>\n",
              "      <td>...</td>\n",
              "      <td>...</td>\n",
              "      <td>...</td>\n",
              "      <td>...</td>\n",
              "      <td>...</td>\n",
              "      <td>...</td>\n",
              "      <td>...</td>\n",
              "      <td>...</td>\n",
              "      <td>...</td>\n",
              "      <td>...</td>\n",
              "    </tr>\n",
              "    <tr>\n",
              "      <th>1370084</th>\n",
              "      <td>PS5525021426</td>\n",
              "      <td>BJ079</td>\n",
              "      <td>佐登妮絲６號複方精油10ml</td>\n",
              "      <td>8.00</td>\n",
              "      <td>2020-12-14</td>\n",
              "      <td>1099.00</td>\n",
              "      <td>nan</td>\n",
              "      <td>高屏全區</td>\n",
              "      <td>NaN</td>\n",
              "      <td>NaN</td>\n",
              "    </tr>\n",
              "    <tr>\n",
              "      <th>1370085</th>\n",
              "      <td>PS5525021426</td>\n",
              "      <td>JYA1G1</td>\n",
              "      <td>玫瑰複方精油5ml HALAL</td>\n",
              "      <td>8.00</td>\n",
              "      <td>2020-12-14</td>\n",
              "      <td>1099.00</td>\n",
              "      <td>nan</td>\n",
              "      <td>高屏全區</td>\n",
              "      <td>NaN</td>\n",
              "      <td>NaN</td>\n",
              "    </tr>\n",
              "    <tr>\n",
              "      <th>1382674</th>\n",
              "      <td>PS5455008904</td>\n",
              "      <td>ZFE02</td>\n",
              "      <td>工本費</td>\n",
              "      <td>8.00</td>\n",
              "      <td>2020-12-21</td>\n",
              "      <td>509.00</td>\n",
              "      <td>nan</td>\n",
              "      <td>南區</td>\n",
              "      <td>NaN</td>\n",
              "      <td>NaN</td>\n",
              "    </tr>\n",
              "    <tr>\n",
              "      <th>1396234</th>\n",
              "      <td>PS5414018463</td>\n",
              "      <td>JZB4G1</td>\n",
              "      <td>呼暢護隨精油30ml</td>\n",
              "      <td>-8.00</td>\n",
              "      <td>2020-12-28</td>\n",
              "      <td>-1720.00</td>\n",
              "      <td>nan</td>\n",
              "      <td>南區</td>\n",
              "      <td>NaN</td>\n",
              "      <td>NaN</td>\n",
              "    </tr>\n",
              "    <tr>\n",
              "      <th>1396235</th>\n",
              "      <td>PS5414018463</td>\n",
              "      <td>KQ02</td>\n",
              "      <td>玫瑰晶萃活膚液130ml</td>\n",
              "      <td>8.00</td>\n",
              "      <td>2020-12-28</td>\n",
              "      <td>1838.00</td>\n",
              "      <td>nan</td>\n",
              "      <td>南區</td>\n",
              "      <td>NaN</td>\n",
              "      <td>NaN</td>\n",
              "    </tr>\n",
              "  </tbody>\n",
              "</table>\n",
              "<p>711 rows × 10 columns</p>\n",
              "</div>"
            ],
            "text/plain": [
              "            InvoiceNo StockCode  ... member_start_date  first_trans_date\n",
              "1544     PS1001008016   MD-1265  ...               NaN               NaN\n",
              "1545     PS1001008016    JZA4G2  ...               NaN               NaN\n",
              "3470     PS1001008018   MD-1266  ...               NaN               NaN\n",
              "3471     PS1001008018     K8016  ...               NaN               NaN\n",
              "3472     PS1001008018     K8017  ...               NaN               NaN\n",
              "...               ...       ...  ...               ...               ...\n",
              "1370084  PS5525021426     BJ079  ...               NaN               NaN\n",
              "1370085  PS5525021426    JYA1G1  ...               NaN               NaN\n",
              "1382674  PS5455008904     ZFE02  ...               NaN               NaN\n",
              "1396234  PS5414018463    JZB4G1  ...               NaN               NaN\n",
              "1396235  PS5414018463      KQ02  ...               NaN               NaN\n",
              "\n",
              "[711 rows x 10 columns]"
            ]
          },
          "metadata": {},
          "execution_count": 10
        }
      ]
    },
    {
      "cell_type": "code",
      "metadata": {
        "colab": {
          "base_uri": "https://localhost:8080/",
          "height": 423
        },
        "id": "u-7jexYN6Uew",
        "outputId": "5c1a9bce-a0fe-4430-cd9d-2ad33a1c6fc8"
      },
      "source": [
        "sales_data.drop(sales_data[sales_data['CustomerID'].isnull()].index,inplace=True)\n",
        "sales_data"
      ],
      "execution_count": 11,
      "outputs": [
        {
          "output_type": "execute_result",
          "data": {
            "text/html": [
              "<div>\n",
              "<style scoped>\n",
              "    .dataframe tbody tr th:only-of-type {\n",
              "        vertical-align: middle;\n",
              "    }\n",
              "\n",
              "    .dataframe tbody tr th {\n",
              "        vertical-align: top;\n",
              "    }\n",
              "\n",
              "    .dataframe thead th {\n",
              "        text-align: right;\n",
              "    }\n",
              "</style>\n",
              "<table border=\"1\" class=\"dataframe\">\n",
              "  <thead>\n",
              "    <tr style=\"text-align: right;\">\n",
              "      <th></th>\n",
              "      <th>InvoiceNo</th>\n",
              "      <th>StockCode</th>\n",
              "      <th>Description</th>\n",
              "      <th>Quantity</th>\n",
              "      <th>InvoiceDate</th>\n",
              "      <th>UnitPrice</th>\n",
              "      <th>CustomerID</th>\n",
              "      <th>Country</th>\n",
              "      <th>member_start_date</th>\n",
              "      <th>first_trans_date</th>\n",
              "    </tr>\n",
              "  </thead>\n",
              "  <tbody>\n",
              "    <tr>\n",
              "      <th>0</th>\n",
              "      <td>PS5327001158</td>\n",
              "      <td>JA01</td>\n",
              "      <td>晶淬雪潔顏乳100ml</td>\n",
              "      <td>8.00</td>\n",
              "      <td>2019-01-01</td>\n",
              "      <td>1259.00</td>\n",
              "      <td>9100002488768.00</td>\n",
              "      <td>中區</td>\n",
              "      <td>2019-12-09</td>\n",
              "      <td>2018-06-24</td>\n",
              "    </tr>\n",
              "    <tr>\n",
              "      <th>1</th>\n",
              "      <td>PS5335020955</td>\n",
              "      <td>KG06</td>\n",
              "      <td>多肽亮眼乳霜20g-保濕型</td>\n",
              "      <td>8.00</td>\n",
              "      <td>2019-01-01</td>\n",
              "      <td>839.00</td>\n",
              "      <td>9100002556566.00</td>\n",
              "      <td>中區</td>\n",
              "      <td>2018-10-21</td>\n",
              "      <td>2018-10-21</td>\n",
              "    </tr>\n",
              "    <tr>\n",
              "      <th>2</th>\n",
              "      <td>PS5335020955</td>\n",
              "      <td>BJ102</td>\n",
              "      <td>檸檬精油10ml MUI</td>\n",
              "      <td>8.00</td>\n",
              "      <td>2019-01-01</td>\n",
              "      <td>839.00</td>\n",
              "      <td>9100002556566.00</td>\n",
              "      <td>中區</td>\n",
              "      <td>2018-10-21</td>\n",
              "      <td>2018-10-21</td>\n",
              "    </tr>\n",
              "    <tr>\n",
              "      <th>3</th>\n",
              "      <td>PS5335020955</td>\n",
              "      <td>JZA3G1</td>\n",
              "      <td>柚見快樂精油15ml MUI</td>\n",
              "      <td>-8.00</td>\n",
              "      <td>2019-01-01</td>\n",
              "      <td>-1501.00</td>\n",
              "      <td>9100002556566.00</td>\n",
              "      <td>中區</td>\n",
              "      <td>2018-10-21</td>\n",
              "      <td>2018-10-21</td>\n",
              "    </tr>\n",
              "    <tr>\n",
              "      <th>4</th>\n",
              "      <td>PS5444006919</td>\n",
              "      <td>BJ103</td>\n",
              "      <td>細花冬青香氛油10ml MUI</td>\n",
              "      <td>8.00</td>\n",
              "      <td>2019-01-01</td>\n",
              "      <td>672.00</td>\n",
              "      <td>9100002582077.00</td>\n",
              "      <td>南區</td>\n",
              "      <td>2018-12-04</td>\n",
              "      <td>2018-12-04</td>\n",
              "    </tr>\n",
              "    <tr>\n",
              "      <th>...</th>\n",
              "      <td>...</td>\n",
              "      <td>...</td>\n",
              "      <td>...</td>\n",
              "      <td>...</td>\n",
              "      <td>...</td>\n",
              "      <td>...</td>\n",
              "      <td>...</td>\n",
              "      <td>...</td>\n",
              "      <td>...</td>\n",
              "      <td>...</td>\n",
              "    </tr>\n",
              "    <tr>\n",
              "      <th>1404430</th>\n",
              "      <td>PS5324024941</td>\n",
              "      <td>KQ02</td>\n",
              "      <td>玫瑰晶萃活膚液130ml</td>\n",
              "      <td>16.00</td>\n",
              "      <td>2020-12-31</td>\n",
              "      <td>2946.00</td>\n",
              "      <td>9100000595826.00</td>\n",
              "      <td>中區</td>\n",
              "      <td>2010-03-15</td>\n",
              "      <td>2012-07-11</td>\n",
              "    </tr>\n",
              "    <tr>\n",
              "      <th>1404431</th>\n",
              "      <td>PS5219002027</td>\n",
              "      <td>GAXFG1</td>\n",
              "      <td>真正除臭抗菌噴霧(銀離子迷迭香)250ml</td>\n",
              "      <td>8.00</td>\n",
              "      <td>2020-12-31</td>\n",
              "      <td>309.00</td>\n",
              "      <td>9100003028369.00</td>\n",
              "      <td>竹區</td>\n",
              "      <td>2020-12-08</td>\n",
              "      <td>2020-11-26</td>\n",
              "    </tr>\n",
              "    <tr>\n",
              "      <th>1404432</th>\n",
              "      <td>PS5219002027</td>\n",
              "      <td>MAB2G1</td>\n",
              "      <td>BA-5肌密全效噴霧奇蹟水70ml</td>\n",
              "      <td>8.00</td>\n",
              "      <td>2020-12-31</td>\n",
              "      <td>1094.00</td>\n",
              "      <td>9100003028369.00</td>\n",
              "      <td>竹區</td>\n",
              "      <td>2020-12-08</td>\n",
              "      <td>2020-11-26</td>\n",
              "    </tr>\n",
              "    <tr>\n",
              "      <th>1404433</th>\n",
              "      <td>PS5219002027</td>\n",
              "      <td>WD096</td>\n",
              "      <td>緊緻保濕裸膚羽翼面膜25ml-零售單包</td>\n",
              "      <td>16.00</td>\n",
              "      <td>2020-12-31</td>\n",
              "      <td>165.00</td>\n",
              "      <td>9100003028369.00</td>\n",
              "      <td>竹區</td>\n",
              "      <td>2020-12-08</td>\n",
              "      <td>2020-11-26</td>\n",
              "    </tr>\n",
              "    <tr>\n",
              "      <th>1404434</th>\n",
              "      <td>PS5219002028</td>\n",
              "      <td>GAXFG2</td>\n",
              "      <td>真正除臭抗菌噴霧(銀離子迷迭香)350ml</td>\n",
              "      <td>8.00</td>\n",
              "      <td>2020-12-31</td>\n",
              "      <td>441.00</td>\n",
              "      <td>9100003039464.00</td>\n",
              "      <td>竹區</td>\n",
              "      <td>2020-12-23</td>\n",
              "      <td>2020-12-10</td>\n",
              "    </tr>\n",
              "  </tbody>\n",
              "</table>\n",
              "<p>1403724 rows × 10 columns</p>\n",
              "</div>"
            ],
            "text/plain": [
              "            InvoiceNo StockCode  ... member_start_date  first_trans_date\n",
              "0        PS5327001158      JA01  ...        2019-12-09        2018-06-24\n",
              "1        PS5335020955      KG06  ...        2018-10-21        2018-10-21\n",
              "2        PS5335020955     BJ102  ...        2018-10-21        2018-10-21\n",
              "3        PS5335020955    JZA3G1  ...        2018-10-21        2018-10-21\n",
              "4        PS5444006919     BJ103  ...        2018-12-04        2018-12-04\n",
              "...               ...       ...  ...               ...               ...\n",
              "1404430  PS5324024941      KQ02  ...        2010-03-15        2012-07-11\n",
              "1404431  PS5219002027    GAXFG1  ...        2020-12-08        2020-11-26\n",
              "1404432  PS5219002027    MAB2G1  ...        2020-12-08        2020-11-26\n",
              "1404433  PS5219002027     WD096  ...        2020-12-08        2020-11-26\n",
              "1404434  PS5219002028    GAXFG2  ...        2020-12-23        2020-12-10\n",
              "\n",
              "[1403724 rows x 10 columns]"
            ]
          },
          "metadata": {},
          "execution_count": 11
        }
      ]
    },
    {
      "cell_type": "code",
      "metadata": {
        "colab": {
          "base_uri": "https://localhost:8080/"
        },
        "id": "x1kHEuEY6Uls",
        "outputId": "f90b36d2-75da-481b-d2c8-f556620d75e6"
      },
      "source": [
        "sales_data.shape"
      ],
      "execution_count": 12,
      "outputs": [
        {
          "output_type": "execute_result",
          "data": {
            "text/plain": [
              "(1403724, 10)"
            ]
          },
          "metadata": {},
          "execution_count": 12
        }
      ]
    },
    {
      "cell_type": "code",
      "metadata": {
        "colab": {
          "base_uri": "https://localhost:8080/",
          "height": 423
        },
        "id": "BUd8OlFr7gLm",
        "outputId": "9c46adaa-b5df-4c04-c8a0-4cdf7b78b52b"
      },
      "source": [
        "sales_data['Revenue'] = sales_data['Quantity'] * abs(sales_data['UnitPrice'])\n",
        "sales_data"
      ],
      "execution_count": 13,
      "outputs": [
        {
          "output_type": "execute_result",
          "data": {
            "text/html": [
              "<div>\n",
              "<style scoped>\n",
              "    .dataframe tbody tr th:only-of-type {\n",
              "        vertical-align: middle;\n",
              "    }\n",
              "\n",
              "    .dataframe tbody tr th {\n",
              "        vertical-align: top;\n",
              "    }\n",
              "\n",
              "    .dataframe thead th {\n",
              "        text-align: right;\n",
              "    }\n",
              "</style>\n",
              "<table border=\"1\" class=\"dataframe\">\n",
              "  <thead>\n",
              "    <tr style=\"text-align: right;\">\n",
              "      <th></th>\n",
              "      <th>InvoiceNo</th>\n",
              "      <th>StockCode</th>\n",
              "      <th>Description</th>\n",
              "      <th>Quantity</th>\n",
              "      <th>InvoiceDate</th>\n",
              "      <th>UnitPrice</th>\n",
              "      <th>CustomerID</th>\n",
              "      <th>Country</th>\n",
              "      <th>member_start_date</th>\n",
              "      <th>first_trans_date</th>\n",
              "      <th>Revenue</th>\n",
              "    </tr>\n",
              "  </thead>\n",
              "  <tbody>\n",
              "    <tr>\n",
              "      <th>0</th>\n",
              "      <td>PS5327001158</td>\n",
              "      <td>JA01</td>\n",
              "      <td>晶淬雪潔顏乳100ml</td>\n",
              "      <td>8.00</td>\n",
              "      <td>2019-01-01</td>\n",
              "      <td>1259.00</td>\n",
              "      <td>9100002488768.00</td>\n",
              "      <td>中區</td>\n",
              "      <td>2019-12-09</td>\n",
              "      <td>2018-06-24</td>\n",
              "      <td>10072.00</td>\n",
              "    </tr>\n",
              "    <tr>\n",
              "      <th>1</th>\n",
              "      <td>PS5335020955</td>\n",
              "      <td>KG06</td>\n",
              "      <td>多肽亮眼乳霜20g-保濕型</td>\n",
              "      <td>8.00</td>\n",
              "      <td>2019-01-01</td>\n",
              "      <td>839.00</td>\n",
              "      <td>9100002556566.00</td>\n",
              "      <td>中區</td>\n",
              "      <td>2018-10-21</td>\n",
              "      <td>2018-10-21</td>\n",
              "      <td>6712.00</td>\n",
              "    </tr>\n",
              "    <tr>\n",
              "      <th>2</th>\n",
              "      <td>PS5335020955</td>\n",
              "      <td>BJ102</td>\n",
              "      <td>檸檬精油10ml MUI</td>\n",
              "      <td>8.00</td>\n",
              "      <td>2019-01-01</td>\n",
              "      <td>839.00</td>\n",
              "      <td>9100002556566.00</td>\n",
              "      <td>中區</td>\n",
              "      <td>2018-10-21</td>\n",
              "      <td>2018-10-21</td>\n",
              "      <td>6712.00</td>\n",
              "    </tr>\n",
              "    <tr>\n",
              "      <th>3</th>\n",
              "      <td>PS5335020955</td>\n",
              "      <td>JZA3G1</td>\n",
              "      <td>柚見快樂精油15ml MUI</td>\n",
              "      <td>-8.00</td>\n",
              "      <td>2019-01-01</td>\n",
              "      <td>-1501.00</td>\n",
              "      <td>9100002556566.00</td>\n",
              "      <td>中區</td>\n",
              "      <td>2018-10-21</td>\n",
              "      <td>2018-10-21</td>\n",
              "      <td>-12008.00</td>\n",
              "    </tr>\n",
              "    <tr>\n",
              "      <th>4</th>\n",
              "      <td>PS5444006919</td>\n",
              "      <td>BJ103</td>\n",
              "      <td>細花冬青香氛油10ml MUI</td>\n",
              "      <td>8.00</td>\n",
              "      <td>2019-01-01</td>\n",
              "      <td>672.00</td>\n",
              "      <td>9100002582077.00</td>\n",
              "      <td>南區</td>\n",
              "      <td>2018-12-04</td>\n",
              "      <td>2018-12-04</td>\n",
              "      <td>5376.00</td>\n",
              "    </tr>\n",
              "    <tr>\n",
              "      <th>...</th>\n",
              "      <td>...</td>\n",
              "      <td>...</td>\n",
              "      <td>...</td>\n",
              "      <td>...</td>\n",
              "      <td>...</td>\n",
              "      <td>...</td>\n",
              "      <td>...</td>\n",
              "      <td>...</td>\n",
              "      <td>...</td>\n",
              "      <td>...</td>\n",
              "      <td>...</td>\n",
              "    </tr>\n",
              "    <tr>\n",
              "      <th>1404430</th>\n",
              "      <td>PS5324024941</td>\n",
              "      <td>KQ02</td>\n",
              "      <td>玫瑰晶萃活膚液130ml</td>\n",
              "      <td>16.00</td>\n",
              "      <td>2020-12-31</td>\n",
              "      <td>2946.00</td>\n",
              "      <td>9100000595826.00</td>\n",
              "      <td>中區</td>\n",
              "      <td>2010-03-15</td>\n",
              "      <td>2012-07-11</td>\n",
              "      <td>47136.00</td>\n",
              "    </tr>\n",
              "    <tr>\n",
              "      <th>1404431</th>\n",
              "      <td>PS5219002027</td>\n",
              "      <td>GAXFG1</td>\n",
              "      <td>真正除臭抗菌噴霧(銀離子迷迭香)250ml</td>\n",
              "      <td>8.00</td>\n",
              "      <td>2020-12-31</td>\n",
              "      <td>309.00</td>\n",
              "      <td>9100003028369.00</td>\n",
              "      <td>竹區</td>\n",
              "      <td>2020-12-08</td>\n",
              "      <td>2020-11-26</td>\n",
              "      <td>2472.00</td>\n",
              "    </tr>\n",
              "    <tr>\n",
              "      <th>1404432</th>\n",
              "      <td>PS5219002027</td>\n",
              "      <td>MAB2G1</td>\n",
              "      <td>BA-5肌密全效噴霧奇蹟水70ml</td>\n",
              "      <td>8.00</td>\n",
              "      <td>2020-12-31</td>\n",
              "      <td>1094.00</td>\n",
              "      <td>9100003028369.00</td>\n",
              "      <td>竹區</td>\n",
              "      <td>2020-12-08</td>\n",
              "      <td>2020-11-26</td>\n",
              "      <td>8752.00</td>\n",
              "    </tr>\n",
              "    <tr>\n",
              "      <th>1404433</th>\n",
              "      <td>PS5219002027</td>\n",
              "      <td>WD096</td>\n",
              "      <td>緊緻保濕裸膚羽翼面膜25ml-零售單包</td>\n",
              "      <td>16.00</td>\n",
              "      <td>2020-12-31</td>\n",
              "      <td>165.00</td>\n",
              "      <td>9100003028369.00</td>\n",
              "      <td>竹區</td>\n",
              "      <td>2020-12-08</td>\n",
              "      <td>2020-11-26</td>\n",
              "      <td>2640.00</td>\n",
              "    </tr>\n",
              "    <tr>\n",
              "      <th>1404434</th>\n",
              "      <td>PS5219002028</td>\n",
              "      <td>GAXFG2</td>\n",
              "      <td>真正除臭抗菌噴霧(銀離子迷迭香)350ml</td>\n",
              "      <td>8.00</td>\n",
              "      <td>2020-12-31</td>\n",
              "      <td>441.00</td>\n",
              "      <td>9100003039464.00</td>\n",
              "      <td>竹區</td>\n",
              "      <td>2020-12-23</td>\n",
              "      <td>2020-12-10</td>\n",
              "      <td>3528.00</td>\n",
              "    </tr>\n",
              "  </tbody>\n",
              "</table>\n",
              "<p>1403724 rows × 11 columns</p>\n",
              "</div>"
            ],
            "text/plain": [
              "            InvoiceNo StockCode  ... first_trans_date   Revenue\n",
              "0        PS5327001158      JA01  ...       2018-06-24  10072.00\n",
              "1        PS5335020955      KG06  ...       2018-10-21   6712.00\n",
              "2        PS5335020955     BJ102  ...       2018-10-21   6712.00\n",
              "3        PS5335020955    JZA3G1  ...       2018-10-21 -12008.00\n",
              "4        PS5444006919     BJ103  ...       2018-12-04   5376.00\n",
              "...               ...       ...  ...              ...       ...\n",
              "1404430  PS5324024941      KQ02  ...       2012-07-11  47136.00\n",
              "1404431  PS5219002027    GAXFG1  ...       2020-11-26   2472.00\n",
              "1404432  PS5219002027    MAB2G1  ...       2020-11-26   8752.00\n",
              "1404433  PS5219002027     WD096  ...       2020-11-26   2640.00\n",
              "1404434  PS5219002028    GAXFG2  ...       2020-12-10   3528.00\n",
              "\n",
              "[1403724 rows x 11 columns]"
            ]
          },
          "metadata": {},
          "execution_count": 13
        }
      ]
    },
    {
      "cell_type": "code",
      "metadata": {
        "colab": {
          "base_uri": "https://localhost:8080/"
        },
        "id": "wr7wyiJnUlGk",
        "outputId": "b826189b-a304-4235-ea4f-1f0a40fa11c4"
      },
      "source": [
        "sales_data.Revenue.describe()"
      ],
      "execution_count": 14,
      "outputs": [
        {
          "output_type": "execute_result",
          "data": {
            "text/plain": [
              "count     1403724.00\n",
              "mean        82668.84\n",
              "std        922440.49\n",
              "min     -41471304.00\n",
              "25%          4672.00\n",
              "50%          8752.00\n",
              "75%         25904.00\n",
              "max     702441768.00\n",
              "Name: Revenue, dtype: float64"
            ]
          },
          "metadata": {},
          "execution_count": 14
        }
      ]
    },
    {
      "cell_type": "code",
      "metadata": {
        "colab": {
          "base_uri": "https://localhost:8080/",
          "height": 294
        },
        "id": "JWGrtFFbU0s2",
        "outputId": "97e9ebd2-8471-4ca4-a7fd-db532ba0d3d0"
      },
      "source": [
        "# 1.describe() 2.plot.box() 去看資料分布有沒有異常值\n",
        "sales_data['Revenue'].plot.box()"
      ],
      "execution_count": 15,
      "outputs": [
        {
          "output_type": "execute_result",
          "data": {
            "text/plain": [
              "<matplotlib.axes._subplots.AxesSubplot at 0x7feca6fd2590>"
            ]
          },
          "metadata": {},
          "execution_count": 15
        },
        {
          "output_type": "display_data",
          "data": {
            "image/png": "[encoded data removed]",
            "text/plain": [
              "<Figure size 432x288 with 1 Axes>"
            ]
          },
          "metadata": {
            "needs_background": "light"
          }
        }
      ]
    },
    {
      "cell_type": "code",
      "metadata": {
        "id": "2l5wh-ZsU0uZ"
      },
      "source": [
        "sales_data1 = sales_data.copy()"
      ],
      "execution_count": 16,
      "outputs": []
    },
    {
      "cell_type": "markdown",
      "metadata": {
        "id": "l0xDrZ4AXK5G"
      },
      "source": [
        "# z-score()"
      ]
    },
    {
      "cell_type": "markdown",
      "metadata": {
        "id": "5nMgO0eOXdVQ"
      },
      "source": [
        "Outliers=Observations with z-score>3 or <-3"
      ]
    },
    {
      "cell_type": "code",
      "metadata": {
        "colab": {
          "base_uri": "https://localhost:8080/",
          "height": 0
        },
        "id": "FLutDXiVXiUI",
        "outputId": "070839d0-1420-4a1b-a576-ed6113df0df0"
      },
      "source": [
        "#ddof=0 \n",
        "sales_data['Revenue_zscore']=(sales_data['Revenue']-sales_data['Revenue'].mean())/sales_data['Revenue'].std(ddof=0)\n",
        "sales_data.head()"
      ],
      "execution_count": 17,
      "outputs": [
        {
          "output_type": "execute_result",
          "data": {
            "text/html": [
              "<div>\n",
              "<style scoped>\n",
              "    .dataframe tbody tr th:only-of-type {\n",
              "        vertical-align: middle;\n",
              "    }\n",
              "\n",
              "    .dataframe tbody tr th {\n",
              "        vertical-align: top;\n",
              "    }\n",
              "\n",
              "    .dataframe thead th {\n",
              "        text-align: right;\n",
              "    }\n",
              "</style>\n",
              "<table border=\"1\" class=\"dataframe\">\n",
              "  <thead>\n",
              "    <tr style=\"text-align: right;\">\n",
              "      <th></th>\n",
              "      <th>InvoiceNo</th>\n",
              "      <th>StockCode</th>\n",
              "      <th>Description</th>\n",
              "      <th>Quantity</th>\n",
              "      <th>InvoiceDate</th>\n",
              "      <th>UnitPrice</th>\n",
              "      <th>CustomerID</th>\n",
              "      <th>Country</th>\n",
              "      <th>member_start_date</th>\n",
              "      <th>first_trans_date</th>\n",
              "      <th>Revenue</th>\n",
              "      <th>Revenue_zscore</th>\n",
              "    </tr>\n",
              "  </thead>\n",
              "  <tbody>\n",
              "    <tr>\n",
              "      <th>0</th>\n",
              "      <td>PS5327001158</td>\n",
              "      <td>JA01</td>\n",
              "      <td>晶淬雪潔顏乳100ml</td>\n",
              "      <td>8.00</td>\n",
              "      <td>2019-01-01</td>\n",
              "      <td>1259.00</td>\n",
              "      <td>9100002488768.00</td>\n",
              "      <td>中區</td>\n",
              "      <td>2019-12-09</td>\n",
              "      <td>2018-06-24</td>\n",
              "      <td>10072.00</td>\n",
              "      <td>-0.08</td>\n",
              "    </tr>\n",
              "    <tr>\n",
              "      <th>1</th>\n",
              "      <td>PS5335020955</td>\n",
              "      <td>KG06</td>\n",
              "      <td>多肽亮眼乳霜20g-保濕型</td>\n",
              "      <td>8.00</td>\n",
              "      <td>2019-01-01</td>\n",
              "      <td>839.00</td>\n",
              "      <td>9100002556566.00</td>\n",
              "      <td>中區</td>\n",
              "      <td>2018-10-21</td>\n",
              "      <td>2018-10-21</td>\n",
              "      <td>6712.00</td>\n",
              "      <td>-0.08</td>\n",
              "    </tr>\n",
              "    <tr>\n",
              "      <th>2</th>\n",
              "      <td>PS5335020955</td>\n",
              "      <td>BJ102</td>\n",
              "      <td>檸檬精油10ml MUI</td>\n",
              "      <td>8.00</td>\n",
              "      <td>2019-01-01</td>\n",
              "      <td>839.00</td>\n",
              "      <td>9100002556566.00</td>\n",
              "      <td>中區</td>\n",
              "      <td>2018-10-21</td>\n",
              "      <td>2018-10-21</td>\n",
              "      <td>6712.00</td>\n",
              "      <td>-0.08</td>\n",
              "    </tr>\n",
              "    <tr>\n",
              "      <th>3</th>\n",
              "      <td>PS5335020955</td>\n",
              "      <td>JZA3G1</td>\n",
              "      <td>柚見快樂精油15ml MUI</td>\n",
              "      <td>-8.00</td>\n",
              "      <td>2019-01-01</td>\n",
              "      <td>-1501.00</td>\n",
              "      <td>9100002556566.00</td>\n",
              "      <td>中區</td>\n",
              "      <td>2018-10-21</td>\n",
              "      <td>2018-10-21</td>\n",
              "      <td>-12008.00</td>\n",
              "      <td>-0.10</td>\n",
              "    </tr>\n",
              "    <tr>\n",
              "      <th>4</th>\n",
              "      <td>PS5444006919</td>\n",
              "      <td>BJ103</td>\n",
              "      <td>細花冬青香氛油10ml MUI</td>\n",
              "      <td>8.00</td>\n",
              "      <td>2019-01-01</td>\n",
              "      <td>672.00</td>\n",
              "      <td>9100002582077.00</td>\n",
              "      <td>南區</td>\n",
              "      <td>2018-12-04</td>\n",
              "      <td>2018-12-04</td>\n",
              "      <td>5376.00</td>\n",
              "      <td>-0.08</td>\n",
              "    </tr>\n",
              "  </tbody>\n",
              "</table>\n",
              "</div>"
            ],
            "text/plain": [
              "      InvoiceNo StockCode  ...   Revenue  Revenue_zscore\n",
              "0  PS5327001158      JA01  ...  10072.00           -0.08\n",
              "1  PS5335020955      KG06  ...   6712.00           -0.08\n",
              "2  PS5335020955     BJ102  ...   6712.00           -0.08\n",
              "3  PS5335020955    JZA3G1  ... -12008.00           -0.10\n",
              "4  PS5444006919     BJ103  ...   5376.00           -0.08\n",
              "\n",
              "[5 rows x 12 columns]"
            ]
          },
          "metadata": {},
          "execution_count": 17
        }
      ]
    },
    {
      "cell_type": "code",
      "metadata": {
        "colab": {
          "base_uri": "https://localhost:8080/",
          "height": 0
        },
        "id": "JHnR87jxZGVx",
        "outputId": "6924b399-83aa-46cb-de85-fb95767e3962"
      },
      "source": [
        "sales_data['Outlier'] = (abs(sales_data['Revenue_zscore'])>3).astype(int)\n",
        "sales_data.loc[sales_data['Outlier']>0,['Revenue','Revenue_zscore']]"
      ],
      "execution_count": 18,
      "outputs": [
        {
          "output_type": "execute_result",
          "data": {
            "text/html": [
              "<div>\n",
              "<style scoped>\n",
              "    .dataframe tbody tr th:only-of-type {\n",
              "        vertical-align: middle;\n",
              "    }\n",
              "\n",
              "    .dataframe tbody tr th {\n",
              "        vertical-align: top;\n",
              "    }\n",
              "\n",
              "    .dataframe thead th {\n",
              "        text-align: right;\n",
              "    }\n",
              "</style>\n",
              "<table border=\"1\" class=\"dataframe\">\n",
              "  <thead>\n",
              "    <tr style=\"text-align: right;\">\n",
              "      <th></th>\n",
              "      <th>Revenue</th>\n",
              "      <th>Revenue_zscore</th>\n",
              "    </tr>\n",
              "  </thead>\n",
              "  <tbody>\n",
              "    <tr>\n",
              "      <th>1699</th>\n",
              "      <td>4844064.00</td>\n",
              "      <td>5.16</td>\n",
              "    </tr>\n",
              "    <tr>\n",
              "      <th>4458</th>\n",
              "      <td>4023600.00</td>\n",
              "      <td>4.27</td>\n",
              "    </tr>\n",
              "    <tr>\n",
              "      <th>4668</th>\n",
              "      <td>5788320.00</td>\n",
              "      <td>6.19</td>\n",
              "    </tr>\n",
              "    <tr>\n",
              "      <th>5070</th>\n",
              "      <td>11329248.00</td>\n",
              "      <td>12.19</td>\n",
              "    </tr>\n",
              "    <tr>\n",
              "      <th>6362</th>\n",
              "      <td>4023600.00</td>\n",
              "      <td>4.27</td>\n",
              "    </tr>\n",
              "    <tr>\n",
              "      <th>...</th>\n",
              "      <td>...</td>\n",
              "      <td>...</td>\n",
              "    </tr>\n",
              "    <tr>\n",
              "      <th>1402112</th>\n",
              "      <td>6006792.00</td>\n",
              "      <td>6.42</td>\n",
              "    </tr>\n",
              "    <tr>\n",
              "      <th>1402113</th>\n",
              "      <td>4755136.00</td>\n",
              "      <td>5.07</td>\n",
              "    </tr>\n",
              "    <tr>\n",
              "      <th>1402115</th>\n",
              "      <td>5851016.00</td>\n",
              "      <td>6.25</td>\n",
              "    </tr>\n",
              "    <tr>\n",
              "      <th>1402120</th>\n",
              "      <td>17226552.00</td>\n",
              "      <td>18.59</td>\n",
              "    </tr>\n",
              "    <tr>\n",
              "      <th>1403200</th>\n",
              "      <td>5950008.00</td>\n",
              "      <td>6.36</td>\n",
              "    </tr>\n",
              "  </tbody>\n",
              "</table>\n",
              "<p>692 rows × 2 columns</p>\n",
              "</div>"
            ],
            "text/plain": [
              "            Revenue  Revenue_zscore\n",
              "1699     4844064.00            5.16\n",
              "4458     4023600.00            4.27\n",
              "4668     5788320.00            6.19\n",
              "5070    11329248.00           12.19\n",
              "6362     4023600.00            4.27\n",
              "...             ...             ...\n",
              "1402112  6006792.00            6.42\n",
              "1402113  4755136.00            5.07\n",
              "1402115  5851016.00            6.25\n",
              "1402120 17226552.00           18.59\n",
              "1403200  5950008.00            6.36\n",
              "\n",
              "[692 rows x 2 columns]"
            ]
          },
          "metadata": {},
          "execution_count": 18
        }
      ]
    },
    {
      "cell_type": "code",
      "metadata": {
        "colab": {
          "base_uri": "https://localhost:8080/",
          "height": 0
        },
        "id": "mXy7QjUEeU_U",
        "outputId": "37c74739-65d8-42fd-8e53-023de889bcc0"
      },
      "source": [
        "sales_data.loc[sales_data['Outlier']==0,['Revenue','Revenue_zscore']]"
      ],
      "execution_count": 19,
      "outputs": [
        {
          "output_type": "execute_result",
          "data": {
            "text/html": [
              "<div>\n",
              "<style scoped>\n",
              "    .dataframe tbody tr th:only-of-type {\n",
              "        vertical-align: middle;\n",
              "    }\n",
              "\n",
              "    .dataframe tbody tr th {\n",
              "        vertical-align: top;\n",
              "    }\n",
              "\n",
              "    .dataframe thead th {\n",
              "        text-align: right;\n",
              "    }\n",
              "</style>\n",
              "<table border=\"1\" class=\"dataframe\">\n",
              "  <thead>\n",
              "    <tr style=\"text-align: right;\">\n",
              "      <th></th>\n",
              "      <th>Revenue</th>\n",
              "      <th>Revenue_zscore</th>\n",
              "    </tr>\n",
              "  </thead>\n",
              "  <tbody>\n",
              "    <tr>\n",
              "      <th>0</th>\n",
              "      <td>10072.00</td>\n",
              "      <td>-0.08</td>\n",
              "    </tr>\n",
              "    <tr>\n",
              "      <th>1</th>\n",
              "      <td>6712.00</td>\n",
              "      <td>-0.08</td>\n",
              "    </tr>\n",
              "    <tr>\n",
              "      <th>2</th>\n",
              "      <td>6712.00</td>\n",
              "      <td>-0.08</td>\n",
              "    </tr>\n",
              "    <tr>\n",
              "      <th>3</th>\n",
              "      <td>-12008.00</td>\n",
              "      <td>-0.10</td>\n",
              "    </tr>\n",
              "    <tr>\n",
              "      <th>4</th>\n",
              "      <td>5376.00</td>\n",
              "      <td>-0.08</td>\n",
              "    </tr>\n",
              "    <tr>\n",
              "      <th>...</th>\n",
              "      <td>...</td>\n",
              "      <td>...</td>\n",
              "    </tr>\n",
              "    <tr>\n",
              "      <th>1404430</th>\n",
              "      <td>47136.00</td>\n",
              "      <td>-0.04</td>\n",
              "    </tr>\n",
              "    <tr>\n",
              "      <th>1404431</th>\n",
              "      <td>2472.00</td>\n",
              "      <td>-0.09</td>\n",
              "    </tr>\n",
              "    <tr>\n",
              "      <th>1404432</th>\n",
              "      <td>8752.00</td>\n",
              "      <td>-0.08</td>\n",
              "    </tr>\n",
              "    <tr>\n",
              "      <th>1404433</th>\n",
              "      <td>2640.00</td>\n",
              "      <td>-0.09</td>\n",
              "    </tr>\n",
              "    <tr>\n",
              "      <th>1404434</th>\n",
              "      <td>3528.00</td>\n",
              "      <td>-0.09</td>\n",
              "    </tr>\n",
              "  </tbody>\n",
              "</table>\n",
              "<p>1403032 rows × 2 columns</p>\n",
              "</div>"
            ],
            "text/plain": [
              "          Revenue  Revenue_zscore\n",
              "0        10072.00           -0.08\n",
              "1         6712.00           -0.08\n",
              "2         6712.00           -0.08\n",
              "3       -12008.00           -0.10\n",
              "4         5376.00           -0.08\n",
              "...           ...             ...\n",
              "1404430  47136.00           -0.04\n",
              "1404431   2472.00           -0.09\n",
              "1404432   8752.00           -0.08\n",
              "1404433   2640.00           -0.09\n",
              "1404434   3528.00           -0.09\n",
              "\n",
              "[1403032 rows x 2 columns]"
            ]
          },
          "metadata": {},
          "execution_count": 19
        }
      ]
    },
    {
      "cell_type": "code",
      "metadata": {
        "colab": {
          "base_uri": "https://localhost:8080/"
        },
        "id": "U-zTz61feVEA",
        "outputId": "a150cc7d-5cf3-4871-8b09-fbdc138fb649"
      },
      "source": [
        "sales_data = sales_data[sales_data['Outlier']==0]\n",
        "sales_data.shape"
      ],
      "execution_count": 20,
      "outputs": [
        {
          "output_type": "execute_result",
          "data": {
            "text/plain": [
              "(1403032, 13)"
            ]
          },
          "metadata": {},
          "execution_count": 20
        }
      ]
    },
    {
      "cell_type": "code",
      "metadata": {
        "colab": {
          "base_uri": "https://localhost:8080/",
          "height": 0
        },
        "id": "JU9eBtEIev24",
        "outputId": "1c2b3d10-de1c-4dd5-f2cd-13d38a328fc8"
      },
      "source": [
        "import seaborn as sns\n",
        "import matplotlib.pyplot as plt\n",
        "\n",
        "figure, axis = plt.subplots(1, 2,figsize=(18,8))\n",
        "sales_data['Revenue'].plot.box(ax=axis[0])\n",
        "axis[0].set_title('Revenue box')\n",
        "sales_data['Revenue'].plot.hist(ax=axis[1])\n",
        "axis[1].set_title('Revenue hist')\n",
        "plt.show()"
      ],
      "execution_count": 21,
      "outputs": [
        {
          "output_type": "display_data",
          "data": {
            "image/png": "[encoded data removed]",
            "text/plain": [
              "<Figure size 1296x576 with 2 Axes>"
            ]
          },
          "metadata": {
            "needs_background": "light"
          }
        }
      ]
    },
    {
      "cell_type": "markdown",
      "metadata": {
        "id": "YS_6OjuCg4Nn"
      },
      "source": [
        "# IQR"
      ]
    },
    {
      "cell_type": "markdown",
      "metadata": {
        "id": "c9G-5oPpg0i-"
      },
      "source": [
        "IQR=Q3-Q1\n",
        "Outliers = Observatons > Q3+1.5IQR or Q1-1.5IQR"
      ]
    },
    {
      "cell_type": "code",
      "metadata": {
        "id": "fW1JVHMlg-Xf"
      },
      "source": [
        "def Outlier_treatment(datacolumn):\n",
        "  Q1,Q3 = np.percentile(datacolumn,[25,75])\n",
        "  IQR = Q3-Q1\n",
        "  lower_range = Q1-(1.5 * IQR)\n",
        "  high_range = Q3+(1.5 * IQR)\n",
        "  return lower_range, high_range"
      ],
      "execution_count": 22,
      "outputs": []
    },
    {
      "cell_type": "code",
      "metadata": {
        "colab": {
          "base_uri": "https://localhost:8080/",
          "height": 423
        },
        "id": "g8WXrNQmg-bG",
        "outputId": "298bb9a7-2622-4c06-ee4c-2bcdbccdc13e"
      },
      "source": [
        "lowerbound, highbound = Outlier_treatment(sales_data1['Revenue'])\n",
        "sales_data1[(sales_data1['Revenue']<lowerbound) | (sales_data1['Revenue']>highbound)]"
      ],
      "execution_count": 23,
      "outputs": [
        {
          "output_type": "execute_result",
          "data": {
            "text/html": [
              "<div>\n",
              "<style scoped>\n",
              "    .dataframe tbody tr th:only-of-type {\n",
              "        vertical-align: middle;\n",
              "    }\n",
              "\n",
              "    .dataframe tbody tr th {\n",
              "        vertical-align: top;\n",
              "    }\n",
              "\n",
              "    .dataframe thead th {\n",
              "        text-align: right;\n",
              "    }\n",
              "</style>\n",
              "<table border=\"1\" class=\"dataframe\">\n",
              "  <thead>\n",
              "    <tr style=\"text-align: right;\">\n",
              "      <th></th>\n",
              "      <th>InvoiceNo</th>\n",
              "      <th>StockCode</th>\n",
              "      <th>Description</th>\n",
              "      <th>Quantity</th>\n",
              "      <th>InvoiceDate</th>\n",
              "      <th>UnitPrice</th>\n",
              "      <th>CustomerID</th>\n",
              "      <th>Country</th>\n",
              "      <th>member_start_date</th>\n",
              "      <th>first_trans_date</th>\n",
              "      <th>Revenue</th>\n",
              "    </tr>\n",
              "  </thead>\n",
              "  <tbody>\n",
              "    <tr>\n",
              "      <th>9</th>\n",
              "      <td>PS5262016031</td>\n",
              "      <td>HA89A01</td>\n",
              "      <td>肌因彈潤課程單堂</td>\n",
              "      <td>48.00</td>\n",
              "      <td>2019-01-01</td>\n",
              "      <td>9559.00</td>\n",
              "      <td>9100000407160.00</td>\n",
              "      <td>竹區</td>\n",
              "      <td>2007-01-02</td>\n",
              "      <td>2012-07-28</td>\n",
              "      <td>458832.00</td>\n",
              "    </tr>\n",
              "    <tr>\n",
              "      <th>10</th>\n",
              "      <td>PS5262016032</td>\n",
              "      <td>HB90A01</td>\n",
              "      <td>全背順氣活力SPA課程單堂</td>\n",
              "      <td>96.00</td>\n",
              "      <td>2019-01-01</td>\n",
              "      <td>11559.00</td>\n",
              "      <td>9100000407160.00</td>\n",
              "      <td>竹區</td>\n",
              "      <td>2007-01-02</td>\n",
              "      <td>2012-07-28</td>\n",
              "      <td>1109664.00</td>\n",
              "    </tr>\n",
              "    <tr>\n",
              "      <th>13</th>\n",
              "      <td>PS530A050714</td>\n",
              "      <td>FB40A01</td>\n",
              "      <td>旗艦暖宮腹活SPA課程單堂</td>\n",
              "      <td>96.00</td>\n",
              "      <td>2019-01-01</td>\n",
              "      <td>13259.00</td>\n",
              "      <td>9100002554883.00</td>\n",
              "      <td>中區</td>\n",
              "      <td>2018-10-18</td>\n",
              "      <td>2018-10-18</td>\n",
              "      <td>1272864.00</td>\n",
              "    </tr>\n",
              "    <tr>\n",
              "      <th>19</th>\n",
              "      <td>PS5323017890</td>\n",
              "      <td>K0464B</td>\n",
              "      <td>DC龍血緊緻修護面膜26ml+5g-單包</td>\n",
              "      <td>-56.00</td>\n",
              "      <td>2019-01-01</td>\n",
              "      <td>-1006.00</td>\n",
              "      <td>9100000045758.00</td>\n",
              "      <td>中區</td>\n",
              "      <td>2001-05-20</td>\n",
              "      <td>2012-07-17</td>\n",
              "      <td>-56336.00</td>\n",
              "    </tr>\n",
              "    <tr>\n",
              "      <th>31</th>\n",
              "      <td>PS5213017253</td>\n",
              "      <td>HA50A01</td>\n",
              "      <td>胜肽美顏SPA護理單堂</td>\n",
              "      <td>48.00</td>\n",
              "      <td>2019-01-01</td>\n",
              "      <td>6059.00</td>\n",
              "      <td>9100001531076.00</td>\n",
              "      <td>台北B區</td>\n",
              "      <td>2013-11-23</td>\n",
              "      <td>2013-04-09</td>\n",
              "      <td>290832.00</td>\n",
              "    </tr>\n",
              "    <tr>\n",
              "      <th>...</th>\n",
              "      <td>...</td>\n",
              "      <td>...</td>\n",
              "      <td>...</td>\n",
              "      <td>...</td>\n",
              "      <td>...</td>\n",
              "      <td>...</td>\n",
              "      <td>...</td>\n",
              "      <td>...</td>\n",
              "      <td>...</td>\n",
              "      <td>...</td>\n",
              "      <td>...</td>\n",
              "    </tr>\n",
              "    <tr>\n",
              "      <th>1404400</th>\n",
              "      <td>PS5324024939</td>\n",
              "      <td>JAA3G2</td>\n",
              "      <td>玻尿酸超保濕精華96%原液60ml</td>\n",
              "      <td>16.00</td>\n",
              "      <td>2020-12-31</td>\n",
              "      <td>4239.00</td>\n",
              "      <td>9100000043037.00</td>\n",
              "      <td>中區</td>\n",
              "      <td>2004-11-11</td>\n",
              "      <td>2012-07-23</td>\n",
              "      <td>67824.00</td>\n",
              "    </tr>\n",
              "    <tr>\n",
              "      <th>1404401</th>\n",
              "      <td>PS5324024939</td>\n",
              "      <td>KQ02</td>\n",
              "      <td>玫瑰晶萃活膚液130ml</td>\n",
              "      <td>24.00</td>\n",
              "      <td>2020-12-31</td>\n",
              "      <td>5395.00</td>\n",
              "      <td>9100000043037.00</td>\n",
              "      <td>中區</td>\n",
              "      <td>2004-11-11</td>\n",
              "      <td>2012-07-23</td>\n",
              "      <td>129480.00</td>\n",
              "    </tr>\n",
              "    <tr>\n",
              "      <th>1404418</th>\n",
              "      <td>PS5324024940</td>\n",
              "      <td>KQ06</td>\n",
              "      <td>玫瑰晶萃瞬效霜30ml</td>\n",
              "      <td>16.00</td>\n",
              "      <td>2020-12-31</td>\n",
              "      <td>4083.00</td>\n",
              "      <td>9100000706055.00</td>\n",
              "      <td>中區</td>\n",
              "      <td>2011-12-21</td>\n",
              "      <td>2014-03-10</td>\n",
              "      <td>65328.00</td>\n",
              "    </tr>\n",
              "    <tr>\n",
              "      <th>1404421</th>\n",
              "      <td>PS5324024940</td>\n",
              "      <td>MAA7G1</td>\n",
              "      <td>白金密集煥白面膜18ml*6pcs</td>\n",
              "      <td>32.00</td>\n",
              "      <td>2020-12-31</td>\n",
              "      <td>6923.00</td>\n",
              "      <td>9100000706055.00</td>\n",
              "      <td>中區</td>\n",
              "      <td>2011-12-21</td>\n",
              "      <td>2014-03-10</td>\n",
              "      <td>221536.00</td>\n",
              "    </tr>\n",
              "    <tr>\n",
              "      <th>1404424</th>\n",
              "      <td>PS5324024941</td>\n",
              "      <td>WD096</td>\n",
              "      <td>緊緻保濕裸膚羽翼面膜25ml-零售單包</td>\n",
              "      <td>48.00</td>\n",
              "      <td>2020-12-31</td>\n",
              "      <td>3354.00</td>\n",
              "      <td>9100000595826.00</td>\n",
              "      <td>中區</td>\n",
              "      <td>2010-03-15</td>\n",
              "      <td>2012-07-11</td>\n",
              "      <td>160992.00</td>\n",
              "    </tr>\n",
              "  </tbody>\n",
              "</table>\n",
              "<p>222528 rows × 11 columns</p>\n",
              "</div>"
            ],
            "text/plain": [
              "            InvoiceNo StockCode  ... first_trans_date    Revenue\n",
              "9        PS5262016031   HA89A01  ...       2012-07-28  458832.00\n",
              "10       PS5262016032   HB90A01  ...       2012-07-28 1109664.00\n",
              "13       PS530A050714   FB40A01  ...       2018-10-18 1272864.00\n",
              "19       PS5323017890    K0464B  ...       2012-07-17  -56336.00\n",
              "31       PS5213017253   HA50A01  ...       2013-04-09  290832.00\n",
              "...               ...       ...  ...              ...        ...\n",
              "1404400  PS5324024939    JAA3G2  ...       2012-07-23   67824.00\n",
              "1404401  PS5324024939      KQ02  ...       2012-07-23  129480.00\n",
              "1404418  PS5324024940      KQ06  ...       2014-03-10   65328.00\n",
              "1404421  PS5324024940    MAA7G1  ...       2014-03-10  221536.00\n",
              "1404424  PS5324024941     WD096  ...       2012-07-11  160992.00\n",
              "\n",
              "[222528 rows x 11 columns]"
            ]
          },
          "metadata": {},
          "execution_count": 23
        }
      ]
    },
    {
      "cell_type": "code",
      "metadata": {
        "id": "R_F-7da5pDXv"
      },
      "source": [
        "sales_data1.drop(sales_data1[(sales_data1['Revenue']<lowerbound) | (sales_data1['Revenue']>highbound)].index, inplace=True)  "
      ],
      "execution_count": 24,
      "outputs": []
    },
    {
      "cell_type": "code",
      "metadata": {
        "colab": {
          "base_uri": "https://localhost:8080/",
          "height": 265
        },
        "id": "Lie-g6TlzNEP",
        "outputId": "9cb25d94-d0df-4fa2-a7a6-ec817fb48f04"
      },
      "source": [
        "#單畫一張圖\n",
        "sales_data1['Revenue'].plot.box()\n",
        "plt.show()"
      ],
      "execution_count": 25,
      "outputs": [
        {
          "output_type": "display_data",
          "data": {
            "image/png": "[encoded data removed]",
            "text/plain": [
              "<Figure size 432x288 with 1 Axes>"
            ]
          },
          "metadata": {
            "needs_background": "light"
          }
        }
      ]
    },
    {
      "cell_type": "code",
      "metadata": {
        "colab": {
          "base_uri": "https://localhost:8080/",
          "height": 499
        },
        "id": "zKlETiZhp3JY",
        "outputId": "a74a8734-ac50-4a53-916b-38390f437e7e"
      },
      "source": [
        "figure, axis = plt.subplots(1, 2,figsize=(18,8))\n",
        "sales_data1['Revenue'].plot.box(ax=axis[0])\n",
        "axis[0].set_title('Revenue box')\n",
        "sales_data1['Revenue'].plot.hist(ax=axis[1])\n",
        "axis[1].set_title('Revenue hist')\n",
        "plt.show()"
      ],
      "execution_count": 26,
      "outputs": [
        {
          "output_type": "display_data",
          "data": {
            "image/png": "[encoded data removed]",
            "text/plain": [
              "<Figure size 1296x576 with 2 Axes>"
            ]
          },
          "metadata": {
            "needs_background": "light"
          }
        }
      ]
    },
    {
      "cell_type": "markdown",
      "metadata": {
        "id": "uTiiueO8smUt"
      },
      "source": [
        "# EDA"
      ]
    },
    {
      "cell_type": "markdown",
      "metadata": {
        "id": "jcGiyF_GtcQB"
      },
      "source": [
        "### Monthly Revenue"
      ]
    },
    {
      "cell_type": "code",
      "metadata": {
        "colab": {
          "base_uri": "https://localhost:8080/",
          "height": 0
        },
        "id": "rrc1cQCnewB_",
        "outputId": "5e8da6bd-a07a-40af-d3be-30d53d4c2a61"
      },
      "source": [
        "sales_data1.head()"
      ],
      "execution_count": 27,
      "outputs": [
        {
          "output_type": "execute_result",
          "data": {
            "text/html": [
              "<div>\n",
              "<style scoped>\n",
              "    .dataframe tbody tr th:only-of-type {\n",
              "        vertical-align: middle;\n",
              "    }\n",
              "\n",
              "    .dataframe tbody tr th {\n",
              "        vertical-align: top;\n",
              "    }\n",
              "\n",
              "    .dataframe thead th {\n",
              "        text-align: right;\n",
              "    }\n",
              "</style>\n",
              "<table border=\"1\" class=\"dataframe\">\n",
              "  <thead>\n",
              "    <tr style=\"text-align: right;\">\n",
              "      <th></th>\n",
              "      <th>InvoiceNo</th>\n",
              "      <th>StockCode</th>\n",
              "      <th>Description</th>\n",
              "      <th>Quantity</th>\n",
              "      <th>InvoiceDate</th>\n",
              "      <th>UnitPrice</th>\n",
              "      <th>CustomerID</th>\n",
              "      <th>Country</th>\n",
              "      <th>member_start_date</th>\n",
              "      <th>first_trans_date</th>\n",
              "      <th>Revenue</th>\n",
              "    </tr>\n",
              "  </thead>\n",
              "  <tbody>\n",
              "    <tr>\n",
              "      <th>0</th>\n",
              "      <td>PS5327001158</td>\n",
              "      <td>JA01</td>\n",
              "      <td>晶淬雪潔顏乳100ml</td>\n",
              "      <td>8.00</td>\n",
              "      <td>2019-01-01</td>\n",
              "      <td>1259.00</td>\n",
              "      <td>9100002488768.00</td>\n",
              "      <td>中區</td>\n",
              "      <td>2019-12-09</td>\n",
              "      <td>2018-06-24</td>\n",
              "      <td>10072.00</td>\n",
              "    </tr>\n",
              "    <tr>\n",
              "      <th>1</th>\n",
              "      <td>PS5335020955</td>\n",
              "      <td>KG06</td>\n",
              "      <td>多肽亮眼乳霜20g-保濕型</td>\n",
              "      <td>8.00</td>\n",
              "      <td>2019-01-01</td>\n",
              "      <td>839.00</td>\n",
              "      <td>9100002556566.00</td>\n",
              "      <td>中區</td>\n",
              "      <td>2018-10-21</td>\n",
              "      <td>2018-10-21</td>\n",
              "      <td>6712.00</td>\n",
              "    </tr>\n",
              "    <tr>\n",
              "      <th>2</th>\n",
              "      <td>PS5335020955</td>\n",
              "      <td>BJ102</td>\n",
              "      <td>檸檬精油10ml MUI</td>\n",
              "      <td>8.00</td>\n",
              "      <td>2019-01-01</td>\n",
              "      <td>839.00</td>\n",
              "      <td>9100002556566.00</td>\n",
              "      <td>中區</td>\n",
              "      <td>2018-10-21</td>\n",
              "      <td>2018-10-21</td>\n",
              "      <td>6712.00</td>\n",
              "    </tr>\n",
              "    <tr>\n",
              "      <th>3</th>\n",
              "      <td>PS5335020955</td>\n",
              "      <td>JZA3G1</td>\n",
              "      <td>柚見快樂精油15ml MUI</td>\n",
              "      <td>-8.00</td>\n",
              "      <td>2019-01-01</td>\n",
              "      <td>-1501.00</td>\n",
              "      <td>9100002556566.00</td>\n",
              "      <td>中區</td>\n",
              "      <td>2018-10-21</td>\n",
              "      <td>2018-10-21</td>\n",
              "      <td>-12008.00</td>\n",
              "    </tr>\n",
              "    <tr>\n",
              "      <th>4</th>\n",
              "      <td>PS5444006919</td>\n",
              "      <td>BJ103</td>\n",
              "      <td>細花冬青香氛油10ml MUI</td>\n",
              "      <td>8.00</td>\n",
              "      <td>2019-01-01</td>\n",
              "      <td>672.00</td>\n",
              "      <td>9100002582077.00</td>\n",
              "      <td>南區</td>\n",
              "      <td>2018-12-04</td>\n",
              "      <td>2018-12-04</td>\n",
              "      <td>5376.00</td>\n",
              "    </tr>\n",
              "  </tbody>\n",
              "</table>\n",
              "</div>"
            ],
            "text/plain": [
              "      InvoiceNo StockCode  ... first_trans_date   Revenue\n",
              "0  PS5327001158      JA01  ...       2018-06-24  10072.00\n",
              "1  PS5335020955      KG06  ...       2018-10-21   6712.00\n",
              "2  PS5335020955     BJ102  ...       2018-10-21   6712.00\n",
              "3  PS5335020955    JZA3G1  ...       2018-10-21 -12008.00\n",
              "4  PS5444006919     BJ103  ...       2018-12-04   5376.00\n",
              "\n",
              "[5 rows x 11 columns]"
            ]
          },
          "metadata": {},
          "execution_count": 27
        }
      ]
    },
    {
      "cell_type": "code",
      "metadata": {
        "colab": {
          "base_uri": "https://localhost:8080/"
        },
        "id": "nbL3V1hwszT9",
        "outputId": "101b4107-aa0e-434a-f2ed-b61576f3116e"
      },
      "source": [
        "sales_data1.info()"
      ],
      "execution_count": 28,
      "outputs": [
        {
          "output_type": "stream",
          "name": "stdout",
          "text": [
            "<class 'pandas.core.frame.DataFrame'>\n",
            "Int64Index: 1181196 entries, 0 to 1404434\n",
            "Data columns (total 11 columns):\n",
            " #   Column             Non-Null Count    Dtype  \n",
            "---  ------             --------------    -----  \n",
            " 0   InvoiceNo          1181196 non-null  object \n",
            " 1   StockCode          1181196 non-null  object \n",
            " 2   Description        1181196 non-null  object \n",
            " 3   Quantity           1181196 non-null  float64\n",
            " 4   InvoiceDate        1181196 non-null  object \n",
            " 5   UnitPrice          1181196 non-null  float64\n",
            " 6   CustomerID         1181196 non-null  float64\n",
            " 7   Country            1181196 non-null  object \n",
            " 8   member_start_date  1144520 non-null  object \n",
            " 9   first_trans_date   1177960 non-null  object \n",
            " 10  Revenue            1181196 non-null  float64\n",
            "dtypes: float64(4), object(7)\n",
            "memory usage: 108.1+ MB\n"
          ]
        }
      ]
    },
    {
      "cell_type": "code",
      "metadata": {
        "colab": {
          "base_uri": "https://localhost:8080/"
        },
        "id": "dOIsosn3s3Zm",
        "outputId": "73be4bc0-d7a2-4a1f-bcd8-9ea9bfbe7798"
      },
      "source": [
        "sales_data1['InvoiceDate'] = pd.to_datetime(sales_data1['InvoiceDate'])\n",
        "sales_data1.info()"
      ],
      "execution_count": 29,
      "outputs": [
        {
          "output_type": "stream",
          "name": "stdout",
          "text": [
            "<class 'pandas.core.frame.DataFrame'>\n",
            "Int64Index: 1181196 entries, 0 to 1404434\n",
            "Data columns (total 11 columns):\n",
            " #   Column             Non-Null Count    Dtype         \n",
            "---  ------             --------------    -----         \n",
            " 0   InvoiceNo          1181196 non-null  object        \n",
            " 1   StockCode          1181196 non-null  object        \n",
            " 2   Description        1181196 non-null  object        \n",
            " 3   Quantity           1181196 non-null  float64       \n",
            " 4   InvoiceDate        1181196 non-null  datetime64[ns]\n",
            " 5   UnitPrice          1181196 non-null  float64       \n",
            " 6   CustomerID         1181196 non-null  float64       \n",
            " 7   Country            1181196 non-null  object        \n",
            " 8   member_start_date  1144520 non-null  object        \n",
            " 9   first_trans_date   1177960 non-null  object        \n",
            " 10  Revenue            1181196 non-null  float64       \n",
            "dtypes: datetime64[ns](1), float64(4), object(6)\n",
            "memory usage: 108.1+ MB\n"
          ]
        }
      ]
    },
    {
      "cell_type": "code",
      "metadata": {
        "colab": {
          "base_uri": "https://localhost:8080/",
          "height": 0
        },
        "id": "f6gXfokYtLZq",
        "outputId": "021c9b61-3b0d-4da4-a602-35acb29199f4"
      },
      "source": [
        "sales_data1['YearMonth'] = sales_data1['InvoiceDate'].map(lambda date:100 * date.year+date.month)\n",
        "sales_data1.head()"
      ],
      "execution_count": 30,
      "outputs": [
        {
          "output_type": "execute_result",
          "data": {
            "text/html": [
              "<div>\n",
              "<style scoped>\n",
              "    .dataframe tbody tr th:only-of-type {\n",
              "        vertical-align: middle;\n",
              "    }\n",
              "\n",
              "    .dataframe tbody tr th {\n",
              "        vertical-align: top;\n",
              "    }\n",
              "\n",
              "    .dataframe thead th {\n",
              "        text-align: right;\n",
              "    }\n",
              "</style>\n",
              "<table border=\"1\" class=\"dataframe\">\n",
              "  <thead>\n",
              "    <tr style=\"text-align: right;\">\n",
              "      <th></th>\n",
              "      <th>InvoiceNo</th>\n",
              "      <th>StockCode</th>\n",
              "      <th>Description</th>\n",
              "      <th>Quantity</th>\n",
              "      <th>InvoiceDate</th>\n",
              "      <th>UnitPrice</th>\n",
              "      <th>CustomerID</th>\n",
              "      <th>Country</th>\n",
              "      <th>member_start_date</th>\n",
              "      <th>first_trans_date</th>\n",
              "      <th>Revenue</th>\n",
              "      <th>YearMonth</th>\n",
              "    </tr>\n",
              "  </thead>\n",
              "  <tbody>\n",
              "    <tr>\n",
              "      <th>0</th>\n",
              "      <td>PS5327001158</td>\n",
              "      <td>JA01</td>\n",
              "      <td>晶淬雪潔顏乳100ml</td>\n",
              "      <td>8.00</td>\n",
              "      <td>2019-01-01</td>\n",
              "      <td>1259.00</td>\n",
              "      <td>9100002488768.00</td>\n",
              "      <td>中區</td>\n",
              "      <td>2019-12-09</td>\n",
              "      <td>2018-06-24</td>\n",
              "      <td>10072.00</td>\n",
              "      <td>201901</td>\n",
              "    </tr>\n",
              "    <tr>\n",
              "      <th>1</th>\n",
              "      <td>PS5335020955</td>\n",
              "      <td>KG06</td>\n",
              "      <td>多肽亮眼乳霜20g-保濕型</td>\n",
              "      <td>8.00</td>\n",
              "      <td>2019-01-01</td>\n",
              "      <td>839.00</td>\n",
              "      <td>9100002556566.00</td>\n",
              "      <td>中區</td>\n",
              "      <td>2018-10-21</td>\n",
              "      <td>2018-10-21</td>\n",
              "      <td>6712.00</td>\n",
              "      <td>201901</td>\n",
              "    </tr>\n",
              "    <tr>\n",
              "      <th>2</th>\n",
              "      <td>PS5335020955</td>\n",
              "      <td>BJ102</td>\n",
              "      <td>檸檬精油10ml MUI</td>\n",
              "      <td>8.00</td>\n",
              "      <td>2019-01-01</td>\n",
              "      <td>839.00</td>\n",
              "      <td>9100002556566.00</td>\n",
              "      <td>中區</td>\n",
              "      <td>2018-10-21</td>\n",
              "      <td>2018-10-21</td>\n",
              "      <td>6712.00</td>\n",
              "      <td>201901</td>\n",
              "    </tr>\n",
              "    <tr>\n",
              "      <th>3</th>\n",
              "      <td>PS5335020955</td>\n",
              "      <td>JZA3G1</td>\n",
              "      <td>柚見快樂精油15ml MUI</td>\n",
              "      <td>-8.00</td>\n",
              "      <td>2019-01-01</td>\n",
              "      <td>-1501.00</td>\n",
              "      <td>9100002556566.00</td>\n",
              "      <td>中區</td>\n",
              "      <td>2018-10-21</td>\n",
              "      <td>2018-10-21</td>\n",
              "      <td>-12008.00</td>\n",
              "      <td>201901</td>\n",
              "    </tr>\n",
              "    <tr>\n",
              "      <th>4</th>\n",
              "      <td>PS5444006919</td>\n",
              "      <td>BJ103</td>\n",
              "      <td>細花冬青香氛油10ml MUI</td>\n",
              "      <td>8.00</td>\n",
              "      <td>2019-01-01</td>\n",
              "      <td>672.00</td>\n",
              "      <td>9100002582077.00</td>\n",
              "      <td>南區</td>\n",
              "      <td>2018-12-04</td>\n",
              "      <td>2018-12-04</td>\n",
              "      <td>5376.00</td>\n",
              "      <td>201901</td>\n",
              "    </tr>\n",
              "  </tbody>\n",
              "</table>\n",
              "</div>"
            ],
            "text/plain": [
              "      InvoiceNo StockCode  ...   Revenue  YearMonth\n",
              "0  PS5327001158      JA01  ...  10072.00     201901\n",
              "1  PS5335020955      KG06  ...   6712.00     201901\n",
              "2  PS5335020955     BJ102  ...   6712.00     201901\n",
              "3  PS5335020955    JZA3G1  ... -12008.00     201901\n",
              "4  PS5444006919     BJ103  ...   5376.00     201901\n",
              "\n",
              "[5 rows x 12 columns]"
            ]
          },
          "metadata": {},
          "execution_count": 30
        }
      ]
    },
    {
      "cell_type": "code",
      "metadata": {
        "colab": {
          "base_uri": "https://localhost:8080/",
          "height": 0
        },
        "id": "qmBlE46ktLcs",
        "outputId": "9a336e76-3be8-4daa-990f-c8c2b60fcfff"
      },
      "source": [
        "tx_revenue = sales_data1.groupby(['YearMonth'])['Revenue'].sum().reset_index()\n",
        "tx_revenue"
      ],
      "execution_count": 31,
      "outputs": [
        {
          "output_type": "execute_result",
          "data": {
            "text/html": [
              "<div>\n",
              "<style scoped>\n",
              "    .dataframe tbody tr th:only-of-type {\n",
              "        vertical-align: middle;\n",
              "    }\n",
              "\n",
              "    .dataframe tbody tr th {\n",
              "        vertical-align: top;\n",
              "    }\n",
              "\n",
              "    .dataframe thead th {\n",
              "        text-align: right;\n",
              "    }\n",
              "</style>\n",
              "<table border=\"1\" class=\"dataframe\">\n",
              "  <thead>\n",
              "    <tr style=\"text-align: right;\">\n",
              "      <th></th>\n",
              "      <th>YearMonth</th>\n",
              "      <th>Revenue</th>\n",
              "    </tr>\n",
              "  </thead>\n",
              "  <tbody>\n",
              "    <tr>\n",
              "      <th>0</th>\n",
              "      <td>201901</td>\n",
              "      <td>425743824.00</td>\n",
              "    </tr>\n",
              "    <tr>\n",
              "      <th>1</th>\n",
              "      <td>201902</td>\n",
              "      <td>300617976.00</td>\n",
              "    </tr>\n",
              "    <tr>\n",
              "      <th>2</th>\n",
              "      <td>201903</td>\n",
              "      <td>699778888.00</td>\n",
              "    </tr>\n",
              "    <tr>\n",
              "      <th>3</th>\n",
              "      <td>201904</td>\n",
              "      <td>516812544.00</td>\n",
              "    </tr>\n",
              "    <tr>\n",
              "      <th>4</th>\n",
              "      <td>201905</td>\n",
              "      <td>551044368.00</td>\n",
              "    </tr>\n",
              "    <tr>\n",
              "      <th>5</th>\n",
              "      <td>201906</td>\n",
              "      <td>453681976.00</td>\n",
              "    </tr>\n",
              "    <tr>\n",
              "      <th>6</th>\n",
              "      <td>201907</td>\n",
              "      <td>480213760.00</td>\n",
              "    </tr>\n",
              "    <tr>\n",
              "      <th>7</th>\n",
              "      <td>201908</td>\n",
              "      <td>500785128.00</td>\n",
              "    </tr>\n",
              "    <tr>\n",
              "      <th>8</th>\n",
              "      <td>201909</td>\n",
              "      <td>553368896.00</td>\n",
              "    </tr>\n",
              "    <tr>\n",
              "      <th>9</th>\n",
              "      <td>201910</td>\n",
              "      <td>643763416.00</td>\n",
              "    </tr>\n",
              "    <tr>\n",
              "      <th>10</th>\n",
              "      <td>201911</td>\n",
              "      <td>602731880.00</td>\n",
              "    </tr>\n",
              "    <tr>\n",
              "      <th>11</th>\n",
              "      <td>201912</td>\n",
              "      <td>650472000.00</td>\n",
              "    </tr>\n",
              "    <tr>\n",
              "      <th>12</th>\n",
              "      <td>202001</td>\n",
              "      <td>506539352.00</td>\n",
              "    </tr>\n",
              "    <tr>\n",
              "      <th>13</th>\n",
              "      <td>202002</td>\n",
              "      <td>510690080.00</td>\n",
              "    </tr>\n",
              "    <tr>\n",
              "      <th>14</th>\n",
              "      <td>202003</td>\n",
              "      <td>591391280.00</td>\n",
              "    </tr>\n",
              "    <tr>\n",
              "      <th>15</th>\n",
              "      <td>202004</td>\n",
              "      <td>567085392.00</td>\n",
              "    </tr>\n",
              "    <tr>\n",
              "      <th>16</th>\n",
              "      <td>202005</td>\n",
              "      <td>645260568.00</td>\n",
              "    </tr>\n",
              "    <tr>\n",
              "      <th>17</th>\n",
              "      <td>202006</td>\n",
              "      <td>625529096.00</td>\n",
              "    </tr>\n",
              "    <tr>\n",
              "      <th>18</th>\n",
              "      <td>202007</td>\n",
              "      <td>489143240.00</td>\n",
              "    </tr>\n",
              "    <tr>\n",
              "      <th>19</th>\n",
              "      <td>202008</td>\n",
              "      <td>549924200.00</td>\n",
              "    </tr>\n",
              "    <tr>\n",
              "      <th>20</th>\n",
              "      <td>202009</td>\n",
              "      <td>491556200.00</td>\n",
              "    </tr>\n",
              "    <tr>\n",
              "      <th>21</th>\n",
              "      <td>202010</td>\n",
              "      <td>513489528.00</td>\n",
              "    </tr>\n",
              "    <tr>\n",
              "      <th>22</th>\n",
              "      <td>202011</td>\n",
              "      <td>586158760.00</td>\n",
              "    </tr>\n",
              "    <tr>\n",
              "      <th>23</th>\n",
              "      <td>202012</td>\n",
              "      <td>584113720.00</td>\n",
              "    </tr>\n",
              "  </tbody>\n",
              "</table>\n",
              "</div>"
            ],
            "text/plain": [
              "    YearMonth      Revenue\n",
              "0      201901 425743824.00\n",
              "1      201902 300617976.00\n",
              "2      201903 699778888.00\n",
              "3      201904 516812544.00\n",
              "4      201905 551044368.00\n",
              "5      201906 453681976.00\n",
              "6      201907 480213760.00\n",
              "7      201908 500785128.00\n",
              "8      201909 553368896.00\n",
              "9      201910 643763416.00\n",
              "10     201911 602731880.00\n",
              "11     201912 650472000.00\n",
              "12     202001 506539352.00\n",
              "13     202002 510690080.00\n",
              "14     202003 591391280.00\n",
              "15     202004 567085392.00\n",
              "16     202005 645260568.00\n",
              "17     202006 625529096.00\n",
              "18     202007 489143240.00\n",
              "19     202008 549924200.00\n",
              "20     202009 491556200.00\n",
              "21     202010 513489528.00\n",
              "22     202011 586158760.00\n",
              "23     202012 584113720.00"
            ]
          },
          "metadata": {},
          "execution_count": 31
        }
      ]
    },
    {
      "cell_type": "code",
      "metadata": {
        "colab": {
          "base_uri": "https://localhost:8080/"
        },
        "id": "RX3Z3yMPx0By",
        "outputId": "3be29ef9-463f-42bb-989b-85b0515444b5"
      },
      "source": [
        "tx_revenue.info()"
      ],
      "execution_count": 32,
      "outputs": [
        {
          "output_type": "stream",
          "name": "stdout",
          "text": [
            "<class 'pandas.core.frame.DataFrame'>\n",
            "RangeIndex: 24 entries, 0 to 23\n",
            "Data columns (total 2 columns):\n",
            " #   Column     Non-Null Count  Dtype  \n",
            "---  ------     --------------  -----  \n",
            " 0   YearMonth  24 non-null     int64  \n",
            " 1   Revenue    24 non-null     float64\n",
            "dtypes: float64(1), int64(1)\n",
            "memory usage: 512.0 bytes\n"
          ]
        }
      ]
    },
    {
      "cell_type": "code",
      "metadata": {
        "colab": {
          "base_uri": "https://localhost:8080/"
        },
        "id": "2RuK9cZ8x0E_",
        "outputId": "d6d1e45d-053c-4547-e77c-00aa47cda1d2"
      },
      "source": [
        "tx_revenue['YearMonth'] = tx_revenue['YearMonth'].astype(str)\n",
        "tx_revenue.info()"
      ],
      "execution_count": 33,
      "outputs": [
        {
          "output_type": "stream",
          "name": "stdout",
          "text": [
            "<class 'pandas.core.frame.DataFrame'>\n",
            "RangeIndex: 24 entries, 0 to 23\n",
            "Data columns (total 2 columns):\n",
            " #   Column     Non-Null Count  Dtype  \n",
            "---  ------     --------------  -----  \n",
            " 0   YearMonth  24 non-null     object \n",
            " 1   Revenue    24 non-null     float64\n",
            "dtypes: float64(1), object(1)\n",
            "memory usage: 512.0+ bytes\n"
          ]
        }
      ]
    },
    {
      "cell_type": "code",
      "metadata": {
        "colab": {
          "base_uri": "https://localhost:8080/",
          "height": 0
        },
        "id": "N8u9e_a_1Vug",
        "outputId": "f8bf952d-3518-45e3-d655-991d5fb81a80"
      },
      "source": [
        "figure,axes = plt.subplots(figsize=(20,6))\n",
        "sns.lineplot(ax=axes, x='YearMonth', y='Revenue', data=tx_revenue)\n",
        "plt.show()"
      ],
      "execution_count": 34,
      "outputs": [
        {
          "output_type": "display_data",
          "data": {
            "image/png": "[encoded data removed]",
            "text/plain": [
              "<Figure size 1440x432 with 1 Axes>"
            ]
          },
          "metadata": {
            "needs_background": "light"
          }
        }
      ]
    },
    {
      "cell_type": "markdown",
      "metadata": {
        "id": "3Beu67v435iY"
      },
      "source": [
        "### Monthly Growth Rate"
      ]
    },
    {
      "cell_type": "code",
      "metadata": {
        "colab": {
          "base_uri": "https://localhost:8080/",
          "height": 0
        },
        "id": "cNhJlFYn33ba",
        "outputId": "1a8db8fd-a85c-434d-82af-c54c5b962cdb"
      },
      "source": [
        "#成長率公式 : 公式和前一個colum的revenue差異的百分比\n",
        "tx_revenue['GrothRate'] = tx_revenue['Revenue'].pct_change()\n",
        "tx_revenue"
      ],
      "execution_count": 35,
      "outputs": [
        {
          "output_type": "execute_result",
          "data": {
            "text/html": [
              "<div>\n",
              "<style scoped>\n",
              "    .dataframe tbody tr th:only-of-type {\n",
              "        vertical-align: middle;\n",
              "    }\n",
              "\n",
              "    .dataframe tbody tr th {\n",
              "        vertical-align: top;\n",
              "    }\n",
              "\n",
              "    .dataframe thead th {\n",
              "        text-align: right;\n",
              "    }\n",
              "</style>\n",
              "<table border=\"1\" class=\"dataframe\">\n",
              "  <thead>\n",
              "    <tr style=\"text-align: right;\">\n",
              "      <th></th>\n",
              "      <th>YearMonth</th>\n",
              "      <th>Revenue</th>\n",
              "      <th>GrothRate</th>\n",
              "    </tr>\n",
              "  </thead>\n",
              "  <tbody>\n",
              "    <tr>\n",
              "      <th>0</th>\n",
              "      <td>201901</td>\n",
              "      <td>425743824.00</td>\n",
              "      <td>nan</td>\n",
              "    </tr>\n",
              "    <tr>\n",
              "      <th>1</th>\n",
              "      <td>201902</td>\n",
              "      <td>300617976.00</td>\n",
              "      <td>-0.29</td>\n",
              "    </tr>\n",
              "    <tr>\n",
              "      <th>2</th>\n",
              "      <td>201903</td>\n",
              "      <td>699778888.00</td>\n",
              "      <td>1.33</td>\n",
              "    </tr>\n",
              "    <tr>\n",
              "      <th>3</th>\n",
              "      <td>201904</td>\n",
              "      <td>516812544.00</td>\n",
              "      <td>-0.26</td>\n",
              "    </tr>\n",
              "    <tr>\n",
              "      <th>4</th>\n",
              "      <td>201905</td>\n",
              "      <td>551044368.00</td>\n",
              "      <td>0.07</td>\n",
              "    </tr>\n",
              "    <tr>\n",
              "      <th>5</th>\n",
              "      <td>201906</td>\n",
              "      <td>453681976.00</td>\n",
              "      <td>-0.18</td>\n",
              "    </tr>\n",
              "    <tr>\n",
              "      <th>6</th>\n",
              "      <td>201907</td>\n",
              "      <td>480213760.00</td>\n",
              "      <td>0.06</td>\n",
              "    </tr>\n",
              "    <tr>\n",
              "      <th>7</th>\n",
              "      <td>201908</td>\n",
              "      <td>500785128.00</td>\n",
              "      <td>0.04</td>\n",
              "    </tr>\n",
              "    <tr>\n",
              "      <th>8</th>\n",
              "      <td>201909</td>\n",
              "      <td>553368896.00</td>\n",
              "      <td>0.11</td>\n",
              "    </tr>\n",
              "    <tr>\n",
              "      <th>9</th>\n",
              "      <td>201910</td>\n",
              "      <td>643763416.00</td>\n",
              "      <td>0.16</td>\n",
              "    </tr>\n",
              "    <tr>\n",
              "      <th>10</th>\n",
              "      <td>201911</td>\n",
              "      <td>602731880.00</td>\n",
              "      <td>-0.06</td>\n",
              "    </tr>\n",
              "    <tr>\n",
              "      <th>11</th>\n",
              "      <td>201912</td>\n",
              "      <td>650472000.00</td>\n",
              "      <td>0.08</td>\n",
              "    </tr>\n",
              "    <tr>\n",
              "      <th>12</th>\n",
              "      <td>202001</td>\n",
              "      <td>506539352.00</td>\n",
              "      <td>-0.22</td>\n",
              "    </tr>\n",
              "    <tr>\n",
              "      <th>13</th>\n",
              "      <td>202002</td>\n",
              "      <td>510690080.00</td>\n",
              "      <td>0.01</td>\n",
              "    </tr>\n",
              "    <tr>\n",
              "      <th>14</th>\n",
              "      <td>202003</td>\n",
              "      <td>591391280.00</td>\n",
              "      <td>0.16</td>\n",
              "    </tr>\n",
              "    <tr>\n",
              "      <th>15</th>\n",
              "      <td>202004</td>\n",
              "      <td>567085392.00</td>\n",
              "      <td>-0.04</td>\n",
              "    </tr>\n",
              "    <tr>\n",
              "      <th>16</th>\n",
              "      <td>202005</td>\n",
              "      <td>645260568.00</td>\n",
              "      <td>0.14</td>\n",
              "    </tr>\n",
              "    <tr>\n",
              "      <th>17</th>\n",
              "      <td>202006</td>\n",
              "      <td>625529096.00</td>\n",
              "      <td>-0.03</td>\n",
              "    </tr>\n",
              "    <tr>\n",
              "      <th>18</th>\n",
              "      <td>202007</td>\n",
              "      <td>489143240.00</td>\n",
              "      <td>-0.22</td>\n",
              "    </tr>\n",
              "    <tr>\n",
              "      <th>19</th>\n",
              "      <td>202008</td>\n",
              "      <td>549924200.00</td>\n",
              "      <td>0.12</td>\n",
              "    </tr>\n",
              "    <tr>\n",
              "      <th>20</th>\n",
              "      <td>202009</td>\n",
              "      <td>491556200.00</td>\n",
              "      <td>-0.11</td>\n",
              "    </tr>\n",
              "    <tr>\n",
              "      <th>21</th>\n",
              "      <td>202010</td>\n",
              "      <td>513489528.00</td>\n",
              "      <td>0.04</td>\n",
              "    </tr>\n",
              "    <tr>\n",
              "      <th>22</th>\n",
              "      <td>202011</td>\n",
              "      <td>586158760.00</td>\n",
              "      <td>0.14</td>\n",
              "    </tr>\n",
              "    <tr>\n",
              "      <th>23</th>\n",
              "      <td>202012</td>\n",
              "      <td>584113720.00</td>\n",
              "      <td>-0.00</td>\n",
              "    </tr>\n",
              "  </tbody>\n",
              "</table>\n",
              "</div>"
            ],
            "text/plain": [
              "   YearMonth      Revenue  GrothRate\n",
              "0     201901 425743824.00        nan\n",
              "1     201902 300617976.00      -0.29\n",
              "2     201903 699778888.00       1.33\n",
              "3     201904 516812544.00      -0.26\n",
              "4     201905 551044368.00       0.07\n",
              "5     201906 453681976.00      -0.18\n",
              "6     201907 480213760.00       0.06\n",
              "7     201908 500785128.00       0.04\n",
              "8     201909 553368896.00       0.11\n",
              "9     201910 643763416.00       0.16\n",
              "10    201911 602731880.00      -0.06\n",
              "11    201912 650472000.00       0.08\n",
              "12    202001 506539352.00      -0.22\n",
              "13    202002 510690080.00       0.01\n",
              "14    202003 591391280.00       0.16\n",
              "15    202004 567085392.00      -0.04\n",
              "16    202005 645260568.00       0.14\n",
              "17    202006 625529096.00      -0.03\n",
              "18    202007 489143240.00      -0.22\n",
              "19    202008 549924200.00       0.12\n",
              "20    202009 491556200.00      -0.11\n",
              "21    202010 513489528.00       0.04\n",
              "22    202011 586158760.00       0.14\n",
              "23    202012 584113720.00      -0.00"
            ]
          },
          "metadata": {},
          "execution_count": 35
        }
      ]
    },
    {
      "cell_type": "code",
      "metadata": {
        "colab": {
          "base_uri": "https://localhost:8080/"
        },
        "id": "79xDvl4h4_X9",
        "outputId": "e04473d2-5406-4016-904d-b28eb6f27aa0"
      },
      "source": [
        "tx_revenue.info()"
      ],
      "execution_count": 36,
      "outputs": [
        {
          "output_type": "stream",
          "name": "stdout",
          "text": [
            "<class 'pandas.core.frame.DataFrame'>\n",
            "RangeIndex: 24 entries, 0 to 23\n",
            "Data columns (total 3 columns):\n",
            " #   Column     Non-Null Count  Dtype  \n",
            "---  ------     --------------  -----  \n",
            " 0   YearMonth  24 non-null     object \n",
            " 1   Revenue    24 non-null     float64\n",
            " 2   GrothRate  23 non-null     float64\n",
            "dtypes: float64(2), object(1)\n",
            "memory usage: 704.0+ bytes\n"
          ]
        }
      ]
    },
    {
      "cell_type": "code",
      "metadata": {
        "colab": {
          "base_uri": "https://localhost:8080/",
          "height": 0
        },
        "id": "91AVZgUU4WoM",
        "outputId": "2ed87487-a044-4d37-a77e-4990ff31bff7"
      },
      "source": [
        "figure,axes = plt.subplots(figsize=(30,8))\n",
        "sns.lineplot(ax=axes, x='YearMonth', y='GrothRate', data=tx_revenue)\n",
        "plt.show()"
      ],
      "execution_count": 37,
      "outputs": [
        {
          "output_type": "display_data",
          "data": {
            "image/png": "[encoded data removed]",
            "text/plain": [
              "<Figure size 2160x576 with 1 Axes>"
            ]
          },
          "metadata": {
            "needs_background": "light"
          }
        }
      ]
    },
    {
      "cell_type": "markdown",
      "metadata": {
        "id": "5NtJ0-Rw_VFO"
      },
      "source": [
        "### Monthy Order Count"
      ]
    },
    {
      "cell_type": "code",
      "metadata": {
        "colab": {
          "base_uri": "https://localhost:8080/",
          "height": 0
        },
        "id": "h9tOF9_1-IkC",
        "outputId": "7966364a-8345-40f8-b8f4-5967c15ba46a"
      },
      "source": [
        "tx_revenue = sales_data1.groupby(['YearMonth'])['Quantity'].sum().reset_index()\n",
        "tx_revenue"
      ],
      "execution_count": 38,
      "outputs": [
        {
          "output_type": "execute_result",
          "data": {
            "text/html": [
              "<div>\n",
              "<style scoped>\n",
              "    .dataframe tbody tr th:only-of-type {\n",
              "        vertical-align: middle;\n",
              "    }\n",
              "\n",
              "    .dataframe tbody tr th {\n",
              "        vertical-align: top;\n",
              "    }\n",
              "\n",
              "    .dataframe thead th {\n",
              "        text-align: right;\n",
              "    }\n",
              "</style>\n",
              "<table border=\"1\" class=\"dataframe\">\n",
              "  <thead>\n",
              "    <tr style=\"text-align: right;\">\n",
              "      <th></th>\n",
              "      <th>YearMonth</th>\n",
              "      <th>Quantity</th>\n",
              "    </tr>\n",
              "  </thead>\n",
              "  <tbody>\n",
              "    <tr>\n",
              "      <th>0</th>\n",
              "      <td>201901</td>\n",
              "      <td>372096.00</td>\n",
              "    </tr>\n",
              "    <tr>\n",
              "      <th>1</th>\n",
              "      <td>201902</td>\n",
              "      <td>243576.00</td>\n",
              "    </tr>\n",
              "    <tr>\n",
              "      <th>2</th>\n",
              "      <td>201903</td>\n",
              "      <td>760144.00</td>\n",
              "    </tr>\n",
              "    <tr>\n",
              "      <th>3</th>\n",
              "      <td>201904</td>\n",
              "      <td>514888.00</td>\n",
              "    </tr>\n",
              "    <tr>\n",
              "      <th>4</th>\n",
              "      <td>201905</td>\n",
              "      <td>489304.00</td>\n",
              "    </tr>\n",
              "    <tr>\n",
              "      <th>5</th>\n",
              "      <td>201906</td>\n",
              "      <td>406304.00</td>\n",
              "    </tr>\n",
              "    <tr>\n",
              "      <th>6</th>\n",
              "      <td>201907</td>\n",
              "      <td>407536.00</td>\n",
              "    </tr>\n",
              "    <tr>\n",
              "      <th>7</th>\n",
              "      <td>201908</td>\n",
              "      <td>449040.00</td>\n",
              "    </tr>\n",
              "    <tr>\n",
              "      <th>8</th>\n",
              "      <td>201909</td>\n",
              "      <td>453488.00</td>\n",
              "    </tr>\n",
              "    <tr>\n",
              "      <th>9</th>\n",
              "      <td>201910</td>\n",
              "      <td>648960.00</td>\n",
              "    </tr>\n",
              "    <tr>\n",
              "      <th>10</th>\n",
              "      <td>201911</td>\n",
              "      <td>574872.00</td>\n",
              "    </tr>\n",
              "    <tr>\n",
              "      <th>11</th>\n",
              "      <td>201912</td>\n",
              "      <td>450968.00</td>\n",
              "    </tr>\n",
              "    <tr>\n",
              "      <th>12</th>\n",
              "      <td>202001</td>\n",
              "      <td>361064.00</td>\n",
              "    </tr>\n",
              "    <tr>\n",
              "      <th>13</th>\n",
              "      <td>202002</td>\n",
              "      <td>523568.00</td>\n",
              "    </tr>\n",
              "    <tr>\n",
              "      <th>14</th>\n",
              "      <td>202003</td>\n",
              "      <td>530288.00</td>\n",
              "    </tr>\n",
              "    <tr>\n",
              "      <th>15</th>\n",
              "      <td>202004</td>\n",
              "      <td>460344.00</td>\n",
              "    </tr>\n",
              "    <tr>\n",
              "      <th>16</th>\n",
              "      <td>202005</td>\n",
              "      <td>536848.00</td>\n",
              "    </tr>\n",
              "    <tr>\n",
              "      <th>17</th>\n",
              "      <td>202006</td>\n",
              "      <td>593544.00</td>\n",
              "    </tr>\n",
              "    <tr>\n",
              "      <th>18</th>\n",
              "      <td>202007</td>\n",
              "      <td>427928.00</td>\n",
              "    </tr>\n",
              "    <tr>\n",
              "      <th>19</th>\n",
              "      <td>202008</td>\n",
              "      <td>486128.00</td>\n",
              "    </tr>\n",
              "    <tr>\n",
              "      <th>20</th>\n",
              "      <td>202009</td>\n",
              "      <td>418432.00</td>\n",
              "    </tr>\n",
              "    <tr>\n",
              "      <th>21</th>\n",
              "      <td>202010</td>\n",
              "      <td>423960.00</td>\n",
              "    </tr>\n",
              "    <tr>\n",
              "      <th>22</th>\n",
              "      <td>202011</td>\n",
              "      <td>460448.00</td>\n",
              "    </tr>\n",
              "    <tr>\n",
              "      <th>23</th>\n",
              "      <td>202012</td>\n",
              "      <td>443616.00</td>\n",
              "    </tr>\n",
              "  </tbody>\n",
              "</table>\n",
              "</div>"
            ],
            "text/plain": [
              "    YearMonth  Quantity\n",
              "0      201901 372096.00\n",
              "1      201902 243576.00\n",
              "2      201903 760144.00\n",
              "3      201904 514888.00\n",
              "4      201905 489304.00\n",
              "5      201906 406304.00\n",
              "6      201907 407536.00\n",
              "7      201908 449040.00\n",
              "8      201909 453488.00\n",
              "9      201910 648960.00\n",
              "10     201911 574872.00\n",
              "11     201912 450968.00\n",
              "12     202001 361064.00\n",
              "13     202002 523568.00\n",
              "14     202003 530288.00\n",
              "15     202004 460344.00\n",
              "16     202005 536848.00\n",
              "17     202006 593544.00\n",
              "18     202007 427928.00\n",
              "19     202008 486128.00\n",
              "20     202009 418432.00\n",
              "21     202010 423960.00\n",
              "22     202011 460448.00\n",
              "23     202012 443616.00"
            ]
          },
          "metadata": {},
          "execution_count": 38
        }
      ]
    },
    {
      "cell_type": "code",
      "metadata": {
        "colab": {
          "base_uri": "https://localhost:8080/"
        },
        "id": "eMBIi5-K-ewA",
        "outputId": "11a65f54-1614-40d5-b5c4-ae11cd44ee51"
      },
      "source": [
        "tx_revenue.info()"
      ],
      "execution_count": 39,
      "outputs": [
        {
          "output_type": "stream",
          "name": "stdout",
          "text": [
            "<class 'pandas.core.frame.DataFrame'>\n",
            "RangeIndex: 24 entries, 0 to 23\n",
            "Data columns (total 2 columns):\n",
            " #   Column     Non-Null Count  Dtype  \n",
            "---  ------     --------------  -----  \n",
            " 0   YearMonth  24 non-null     int64  \n",
            " 1   Quantity   24 non-null     float64\n",
            "dtypes: float64(1), int64(1)\n",
            "memory usage: 512.0 bytes\n"
          ]
        }
      ]
    },
    {
      "cell_type": "code",
      "metadata": {
        "colab": {
          "base_uri": "https://localhost:8080/"
        },
        "id": "qAvC2yNz-jwG",
        "outputId": "2223d5e5-575b-442d-fd08-71c84ef126ad"
      },
      "source": [
        "tx_revenue['YearMonth'] = tx_revenue['YearMonth'].astype(str)\n",
        "tx_revenue.info()"
      ],
      "execution_count": 40,
      "outputs": [
        {
          "output_type": "stream",
          "name": "stdout",
          "text": [
            "<class 'pandas.core.frame.DataFrame'>\n",
            "RangeIndex: 24 entries, 0 to 23\n",
            "Data columns (total 2 columns):\n",
            " #   Column     Non-Null Count  Dtype  \n",
            "---  ------     --------------  -----  \n",
            " 0   YearMonth  24 non-null     object \n",
            " 1   Quantity   24 non-null     float64\n",
            "dtypes: float64(1), object(1)\n",
            "memory usage: 512.0+ bytes\n"
          ]
        }
      ]
    },
    {
      "cell_type": "code",
      "metadata": {
        "colab": {
          "base_uri": "https://localhost:8080/",
          "height": 0
        },
        "id": "aNmrqojQ-yzX",
        "outputId": "9f018241-6806-4703-e856-f56fe710eb7e"
      },
      "source": [
        "figure,axes = plt.subplots(figsize=(20,6))\n",
        "sns.lineplot(ax=axes, x='YearMonth', y='Quantity', data=tx_revenue)\n",
        "sns.barplot(ax=axes, x='YearMonth', y='Quantity', data=tx_revenue)\n",
        "plt.show()"
      ],
      "execution_count": 41,
      "outputs": [
        {
          "output_type": "display_data",
          "data": {
            "image/png": "[encoded data removed]",
            "text/plain": [
              "<Figure size 1440x432 with 1 Axes>"
            ]
          },
          "metadata": {
            "needs_background": "light"
          }
        }
      ]
    },
    {
      "cell_type": "markdown",
      "metadata": {
        "id": "gEwJCNzdA1fX"
      },
      "source": [
        "### Average Revenue per Order"
      ]
    },
    {
      "cell_type": "code",
      "metadata": {
        "colab": {
          "base_uri": "https://localhost:8080/",
          "height": 0
        },
        "id": "IrHPvpZAA0rW",
        "outputId": "19ce1961-c647-4010-c8c9-41a8faef5034"
      },
      "source": [
        "tx_revenue_avg = sales_data1.groupby(['YearMonth'])['Revenue'].mean().reset_index()\n",
        "tx_revenue_avg"
      ],
      "execution_count": 42,
      "outputs": [
        {
          "output_type": "execute_result",
          "data": {
            "text/html": [
              "<div>\n",
              "<style scoped>\n",
              "    .dataframe tbody tr th:only-of-type {\n",
              "        vertical-align: middle;\n",
              "    }\n",
              "\n",
              "    .dataframe tbody tr th {\n",
              "        vertical-align: top;\n",
              "    }\n",
              "\n",
              "    .dataframe thead th {\n",
              "        text-align: right;\n",
              "    }\n",
              "</style>\n",
              "<table border=\"1\" class=\"dataframe\">\n",
              "  <thead>\n",
              "    <tr style=\"text-align: right;\">\n",
              "      <th></th>\n",
              "      <th>YearMonth</th>\n",
              "      <th>Revenue</th>\n",
              "    </tr>\n",
              "  </thead>\n",
              "  <tbody>\n",
              "    <tr>\n",
              "      <th>0</th>\n",
              "      <td>201901</td>\n",
              "      <td>9859.97</td>\n",
              "    </tr>\n",
              "    <tr>\n",
              "      <th>1</th>\n",
              "      <td>201902</td>\n",
              "      <td>10893.93</td>\n",
              "    </tr>\n",
              "    <tr>\n",
              "      <th>2</th>\n",
              "      <td>201903</td>\n",
              "      <td>9157.61</td>\n",
              "    </tr>\n",
              "    <tr>\n",
              "      <th>3</th>\n",
              "      <td>201904</td>\n",
              "      <td>10094.59</td>\n",
              "    </tr>\n",
              "    <tr>\n",
              "      <th>4</th>\n",
              "      <td>201905</td>\n",
              "      <td>10560.05</td>\n",
              "    </tr>\n",
              "    <tr>\n",
              "      <th>5</th>\n",
              "      <td>201906</td>\n",
              "      <td>10836.53</td>\n",
              "    </tr>\n",
              "    <tr>\n",
              "      <th>6</th>\n",
              "      <td>201907</td>\n",
              "      <td>11346.94</td>\n",
              "    </tr>\n",
              "    <tr>\n",
              "      <th>7</th>\n",
              "      <td>201908</td>\n",
              "      <td>10429.33</td>\n",
              "    </tr>\n",
              "    <tr>\n",
              "      <th>8</th>\n",
              "      <td>201909</td>\n",
              "      <td>11319.58</td>\n",
              "    </tr>\n",
              "    <tr>\n",
              "      <th>9</th>\n",
              "      <td>201910</td>\n",
              "      <td>13218.15</td>\n",
              "    </tr>\n",
              "    <tr>\n",
              "      <th>10</th>\n",
              "      <td>201911</td>\n",
              "      <td>12175.91</td>\n",
              "    </tr>\n",
              "    <tr>\n",
              "      <th>11</th>\n",
              "      <td>201912</td>\n",
              "      <td>14846.21</td>\n",
              "    </tr>\n",
              "    <tr>\n",
              "      <th>12</th>\n",
              "      <td>202001</td>\n",
              "      <td>14354.44</td>\n",
              "    </tr>\n",
              "    <tr>\n",
              "      <th>13</th>\n",
              "      <td>202002</td>\n",
              "      <td>10503.92</td>\n",
              "    </tr>\n",
              "    <tr>\n",
              "      <th>14</th>\n",
              "      <td>202003</td>\n",
              "      <td>10383.85</td>\n",
              "    </tr>\n",
              "    <tr>\n",
              "      <th>15</th>\n",
              "      <td>202004</td>\n",
              "      <td>11274.96</td>\n",
              "    </tr>\n",
              "    <tr>\n",
              "      <th>16</th>\n",
              "      <td>202005</td>\n",
              "      <td>10876.34</td>\n",
              "    </tr>\n",
              "    <tr>\n",
              "      <th>17</th>\n",
              "      <td>202006</td>\n",
              "      <td>9711.98</td>\n",
              "    </tr>\n",
              "    <tr>\n",
              "      <th>18</th>\n",
              "      <td>202007</td>\n",
              "      <td>10116.72</td>\n",
              "    </tr>\n",
              "    <tr>\n",
              "      <th>19</th>\n",
              "      <td>202008</td>\n",
              "      <td>9831.31</td>\n",
              "    </tr>\n",
              "    <tr>\n",
              "      <th>20</th>\n",
              "      <td>202009</td>\n",
              "      <td>11248.43</td>\n",
              "    </tr>\n",
              "    <tr>\n",
              "      <th>21</th>\n",
              "      <td>202010</td>\n",
              "      <td>11122.92</td>\n",
              "    </tr>\n",
              "    <tr>\n",
              "      <th>22</th>\n",
              "      <td>202011</td>\n",
              "      <td>11634.75</td>\n",
              "    </tr>\n",
              "    <tr>\n",
              "      <th>23</th>\n",
              "      <td>202012</td>\n",
              "      <td>12144.49</td>\n",
              "    </tr>\n",
              "  </tbody>\n",
              "</table>\n",
              "</div>"
            ],
            "text/plain": [
              "    YearMonth  Revenue\n",
              "0      201901  9859.97\n",
              "1      201902 10893.93\n",
              "2      201903  9157.61\n",
              "3      201904 10094.59\n",
              "4      201905 10560.05\n",
              "5      201906 10836.53\n",
              "6      201907 11346.94\n",
              "7      201908 10429.33\n",
              "8      201909 11319.58\n",
              "9      201910 13218.15\n",
              "10     201911 12175.91\n",
              "11     201912 14846.21\n",
              "12     202001 14354.44\n",
              "13     202002 10503.92\n",
              "14     202003 10383.85\n",
              "15     202004 11274.96\n",
              "16     202005 10876.34\n",
              "17     202006  9711.98\n",
              "18     202007 10116.72\n",
              "19     202008  9831.31\n",
              "20     202009 11248.43\n",
              "21     202010 11122.92\n",
              "22     202011 11634.75\n",
              "23     202012 12144.49"
            ]
          },
          "metadata": {},
          "execution_count": 42
        }
      ]
    },
    {
      "cell_type": "code",
      "metadata": {
        "id": "ChQ4sUdPA1Dg"
      },
      "source": [
        "tx_revenue_avg['YearMonth'] = tx_revenue_avg['YearMonth'].astype(str)"
      ],
      "execution_count": 43,
      "outputs": []
    },
    {
      "cell_type": "code",
      "metadata": {
        "colab": {
          "base_uri": "https://localhost:8080/",
          "height": 0
        },
        "id": "5qTXse2UA1IK",
        "outputId": "4186ac3a-1e1b-4dfd-e4a9-2e72d17af2bf"
      },
      "source": [
        "figure,axes = plt.subplots(2,1,figsize=(20,6))\n",
        "sns.lineplot(ax=axes[0], x='YearMonth', y='Revenue', data=tx_revenue_avg)\n",
        "sns.barplot(ax=axes[1], x='YearMonth', y='Revenue', data=tx_revenue_avg)\n",
        "plt.show()"
      ],
      "execution_count": 44,
      "outputs": [
        {
          "output_type": "display_data",
          "data": {
            "image/png": "[encoded data removed]",
            "text/plain": [
              "<Figure size 1440x432 with 2 Axes>"
            ]
          },
          "metadata": {
            "needs_background": "light"
          }
        }
      ]
    },
    {
      "cell_type": "markdown",
      "metadata": {
        "id": "RopxaxezDeEx"
      },
      "source": [
        "### Monthly Activate Customers"
      ]
    },
    {
      "cell_type": "code",
      "metadata": {
        "colab": {
          "base_uri": "https://localhost:8080/",
          "height": 0
        },
        "id": "l6_zoQAnDdiZ",
        "outputId": "491f4e1e-4fbc-4e98-e33d-f8a288d3d5c2"
      },
      "source": [
        "tx_monthly_activate = sales_data1.groupby(['YearMonth'])['CustomerID'].nunique().reset_index()\n",
        "tx_monthly_activate"
      ],
      "execution_count": 45,
      "outputs": [
        {
          "output_type": "execute_result",
          "data": {
            "text/html": [
              "<div>\n",
              "<style scoped>\n",
              "    .dataframe tbody tr th:only-of-type {\n",
              "        vertical-align: middle;\n",
              "    }\n",
              "\n",
              "    .dataframe tbody tr th {\n",
              "        vertical-align: top;\n",
              "    }\n",
              "\n",
              "    .dataframe thead th {\n",
              "        text-align: right;\n",
              "    }\n",
              "</style>\n",
              "<table border=\"1\" class=\"dataframe\">\n",
              "  <thead>\n",
              "    <tr style=\"text-align: right;\">\n",
              "      <th></th>\n",
              "      <th>YearMonth</th>\n",
              "      <th>CustomerID</th>\n",
              "    </tr>\n",
              "  </thead>\n",
              "  <tbody>\n",
              "    <tr>\n",
              "      <th>0</th>\n",
              "      <td>201901</td>\n",
              "      <td>11061</td>\n",
              "    </tr>\n",
              "    <tr>\n",
              "      <th>1</th>\n",
              "      <td>201902</td>\n",
              "      <td>8593</td>\n",
              "    </tr>\n",
              "    <tr>\n",
              "      <th>2</th>\n",
              "      <td>201903</td>\n",
              "      <td>15972</td>\n",
              "    </tr>\n",
              "    <tr>\n",
              "      <th>3</th>\n",
              "      <td>201904</td>\n",
              "      <td>11846</td>\n",
              "    </tr>\n",
              "    <tr>\n",
              "      <th>4</th>\n",
              "      <td>201905</td>\n",
              "      <td>12569</td>\n",
              "    </tr>\n",
              "    <tr>\n",
              "      <th>5</th>\n",
              "      <td>201906</td>\n",
              "      <td>11159</td>\n",
              "    </tr>\n",
              "    <tr>\n",
              "      <th>6</th>\n",
              "      <td>201907</td>\n",
              "      <td>10981</td>\n",
              "    </tr>\n",
              "    <tr>\n",
              "      <th>7</th>\n",
              "      <td>201908</td>\n",
              "      <td>12747</td>\n",
              "    </tr>\n",
              "    <tr>\n",
              "      <th>8</th>\n",
              "      <td>201909</td>\n",
              "      <td>12498</td>\n",
              "    </tr>\n",
              "    <tr>\n",
              "      <th>9</th>\n",
              "      <td>201910</td>\n",
              "      <td>14506</td>\n",
              "    </tr>\n",
              "    <tr>\n",
              "      <th>10</th>\n",
              "      <td>201911</td>\n",
              "      <td>12519</td>\n",
              "    </tr>\n",
              "    <tr>\n",
              "      <th>11</th>\n",
              "      <td>201912</td>\n",
              "      <td>12041</td>\n",
              "    </tr>\n",
              "    <tr>\n",
              "      <th>12</th>\n",
              "      <td>202001</td>\n",
              "      <td>10110</td>\n",
              "    </tr>\n",
              "    <tr>\n",
              "      <th>13</th>\n",
              "      <td>202002</td>\n",
              "      <td>13004</td>\n",
              "    </tr>\n",
              "    <tr>\n",
              "      <th>14</th>\n",
              "      <td>202003</td>\n",
              "      <td>11979</td>\n",
              "    </tr>\n",
              "    <tr>\n",
              "      <th>15</th>\n",
              "      <td>202004</td>\n",
              "      <td>11456</td>\n",
              "    </tr>\n",
              "    <tr>\n",
              "      <th>16</th>\n",
              "      <td>202005</td>\n",
              "      <td>14775</td>\n",
              "    </tr>\n",
              "    <tr>\n",
              "      <th>17</th>\n",
              "      <td>202006</td>\n",
              "      <td>13852</td>\n",
              "    </tr>\n",
              "    <tr>\n",
              "      <th>18</th>\n",
              "      <td>202007</td>\n",
              "      <td>10547</td>\n",
              "    </tr>\n",
              "    <tr>\n",
              "      <th>19</th>\n",
              "      <td>202008</td>\n",
              "      <td>12189</td>\n",
              "    </tr>\n",
              "    <tr>\n",
              "      <th>20</th>\n",
              "      <td>202009</td>\n",
              "      <td>10873</td>\n",
              "    </tr>\n",
              "    <tr>\n",
              "      <th>21</th>\n",
              "      <td>202010</td>\n",
              "      <td>11476</td>\n",
              "    </tr>\n",
              "    <tr>\n",
              "      <th>22</th>\n",
              "      <td>202011</td>\n",
              "      <td>12820</td>\n",
              "    </tr>\n",
              "    <tr>\n",
              "      <th>23</th>\n",
              "      <td>202012</td>\n",
              "      <td>12108</td>\n",
              "    </tr>\n",
              "  </tbody>\n",
              "</table>\n",
              "</div>"
            ],
            "text/plain": [
              "    YearMonth  CustomerID\n",
              "0      201901       11061\n",
              "1      201902        8593\n",
              "2      201903       15972\n",
              "3      201904       11846\n",
              "4      201905       12569\n",
              "5      201906       11159\n",
              "6      201907       10981\n",
              "7      201908       12747\n",
              "8      201909       12498\n",
              "9      201910       14506\n",
              "10     201911       12519\n",
              "11     201912       12041\n",
              "12     202001       10110\n",
              "13     202002       13004\n",
              "14     202003       11979\n",
              "15     202004       11456\n",
              "16     202005       14775\n",
              "17     202006       13852\n",
              "18     202007       10547\n",
              "19     202008       12189\n",
              "20     202009       10873\n",
              "21     202010       11476\n",
              "22     202011       12820\n",
              "23     202012       12108"
            ]
          },
          "metadata": {},
          "execution_count": 45
        }
      ]
    },
    {
      "cell_type": "code",
      "metadata": {
        "colab": {
          "base_uri": "https://localhost:8080/"
        },
        "id": "O5UCNPLJDdlb",
        "outputId": "90183d53-9954-40a6-87b6-a40f7703f76d"
      },
      "source": [
        "tx_monthly_activate['YearMonth'] = tx_revenue_avg['YearMonth'].astype(str)\n",
        "tx_monthly_activate.info()"
      ],
      "execution_count": 46,
      "outputs": [
        {
          "output_type": "stream",
          "name": "stdout",
          "text": [
            "<class 'pandas.core.frame.DataFrame'>\n",
            "RangeIndex: 24 entries, 0 to 23\n",
            "Data columns (total 2 columns):\n",
            " #   Column      Non-Null Count  Dtype \n",
            "---  ------      --------------  ----- \n",
            " 0   YearMonth   24 non-null     object\n",
            " 1   CustomerID  24 non-null     int64 \n",
            "dtypes: int64(1), object(1)\n",
            "memory usage: 512.0+ bytes\n"
          ]
        }
      ]
    },
    {
      "cell_type": "code",
      "metadata": {
        "colab": {
          "base_uri": "https://localhost:8080/",
          "height": 0
        },
        "id": "khzsJh6kGPWN",
        "outputId": "6bc172f3-c896-4a07-92af-5d5c80b9c1c7"
      },
      "source": [
        "figure,axes1 = plt.subplots(figsize=(20,6))\n",
        "sns.barplot(ax=axes1, x='YearMonth', y='CustomerID', data=tx_monthly_activate)\n",
        "axes2 = axes1.twinx()\n",
        "sns.lineplot(ax=axes2, x='YearMonth', y='CustomerID', data=tx_monthly_activate)\n",
        "plt.show()"
      ],
      "execution_count": 47,
      "outputs": [
        {
          "output_type": "display_data",
          "data": {
            "image/png": "[encoded data removed]",
            "text/plain": [
              "<Figure size 1440x432 with 2 Axes>"
            ]
          },
          "metadata": {
            "needs_background": "light"
          }
        }
      ]
    },
    {
      "cell_type": "code",
      "source": [
        "sales_data1.head()"
      ],
      "metadata": {
        "colab": {
          "base_uri": "https://localhost:8080/",
          "height": 0
        },
        "id": "SKdZtf69Yrt7",
        "outputId": "246ebb89-9975-4e3f-e965-d0abc6efe83c"
      },
      "execution_count": 48,
      "outputs": [
        {
          "output_type": "execute_result",
          "data": {
            "text/html": [
              "<div>\n",
              "<style scoped>\n",
              "    .dataframe tbody tr th:only-of-type {\n",
              "        vertical-align: middle;\n",
              "    }\n",
              "\n",
              "    .dataframe tbody tr th {\n",
              "        vertical-align: top;\n",
              "    }\n",
              "\n",
              "    .dataframe thead th {\n",
              "        text-align: right;\n",
              "    }\n",
              "</style>\n",
              "<table border=\"1\" class=\"dataframe\">\n",
              "  <thead>\n",
              "    <tr style=\"text-align: right;\">\n",
              "      <th></th>\n",
              "      <th>InvoiceNo</th>\n",
              "      <th>StockCode</th>\n",
              "      <th>Description</th>\n",
              "      <th>Quantity</th>\n",
              "      <th>InvoiceDate</th>\n",
              "      <th>UnitPrice</th>\n",
              "      <th>CustomerID</th>\n",
              "      <th>Country</th>\n",
              "      <th>member_start_date</th>\n",
              "      <th>first_trans_date</th>\n",
              "      <th>Revenue</th>\n",
              "      <th>YearMonth</th>\n",
              "    </tr>\n",
              "  </thead>\n",
              "  <tbody>\n",
              "    <tr>\n",
              "      <th>0</th>\n",
              "      <td>PS5327001158</td>\n",
              "      <td>JA01</td>\n",
              "      <td>晶淬雪潔顏乳100ml</td>\n",
              "      <td>8.00</td>\n",
              "      <td>2019-01-01</td>\n",
              "      <td>1259.00</td>\n",
              "      <td>9100002488768.00</td>\n",
              "      <td>中區</td>\n",
              "      <td>2019-12-09</td>\n",
              "      <td>2018-06-24</td>\n",
              "      <td>10072.00</td>\n",
              "      <td>201901</td>\n",
              "    </tr>\n",
              "    <tr>\n",
              "      <th>1</th>\n",
              "      <td>PS5335020955</td>\n",
              "      <td>KG06</td>\n",
              "      <td>多肽亮眼乳霜20g-保濕型</td>\n",
              "      <td>8.00</td>\n",
              "      <td>2019-01-01</td>\n",
              "      <td>839.00</td>\n",
              "      <td>9100002556566.00</td>\n",
              "      <td>中區</td>\n",
              "      <td>2018-10-21</td>\n",
              "      <td>2018-10-21</td>\n",
              "      <td>6712.00</td>\n",
              "      <td>201901</td>\n",
              "    </tr>\n",
              "    <tr>\n",
              "      <th>2</th>\n",
              "      <td>PS5335020955</td>\n",
              "      <td>BJ102</td>\n",
              "      <td>檸檬精油10ml MUI</td>\n",
              "      <td>8.00</td>\n",
              "      <td>2019-01-01</td>\n",
              "      <td>839.00</td>\n",
              "      <td>9100002556566.00</td>\n",
              "      <td>中區</td>\n",
              "      <td>2018-10-21</td>\n",
              "      <td>2018-10-21</td>\n",
              "      <td>6712.00</td>\n",
              "      <td>201901</td>\n",
              "    </tr>\n",
              "    <tr>\n",
              "      <th>3</th>\n",
              "      <td>PS5335020955</td>\n",
              "      <td>JZA3G1</td>\n",
              "      <td>柚見快樂精油15ml MUI</td>\n",
              "      <td>-8.00</td>\n",
              "      <td>2019-01-01</td>\n",
              "      <td>-1501.00</td>\n",
              "      <td>9100002556566.00</td>\n",
              "      <td>中區</td>\n",
              "      <td>2018-10-21</td>\n",
              "      <td>2018-10-21</td>\n",
              "      <td>-12008.00</td>\n",
              "      <td>201901</td>\n",
              "    </tr>\n",
              "    <tr>\n",
              "      <th>4</th>\n",
              "      <td>PS5444006919</td>\n",
              "      <td>BJ103</td>\n",
              "      <td>細花冬青香氛油10ml MUI</td>\n",
              "      <td>8.00</td>\n",
              "      <td>2019-01-01</td>\n",
              "      <td>672.00</td>\n",
              "      <td>9100002582077.00</td>\n",
              "      <td>南區</td>\n",
              "      <td>2018-12-04</td>\n",
              "      <td>2018-12-04</td>\n",
              "      <td>5376.00</td>\n",
              "      <td>201901</td>\n",
              "    </tr>\n",
              "  </tbody>\n",
              "</table>\n",
              "</div>"
            ],
            "text/plain": [
              "      InvoiceNo StockCode  ...   Revenue  YearMonth\n",
              "0  PS5327001158      JA01  ...  10072.00     201901\n",
              "1  PS5335020955      KG06  ...   6712.00     201901\n",
              "2  PS5335020955     BJ102  ...   6712.00     201901\n",
              "3  PS5335020955    JZA3G1  ... -12008.00     201901\n",
              "4  PS5444006919     BJ103  ...   5376.00     201901\n",
              "\n",
              "[5 rows x 12 columns]"
            ]
          },
          "metadata": {},
          "execution_count": 48
        }
      ]
    },
    {
      "cell_type": "markdown",
      "source": [
        "### Recency"
      ],
      "metadata": {
        "id": "IQ5zEie-Y62_"
      }
    },
    {
      "cell_type": "code",
      "source": [
        "#create tx_user for assigning clustering\n",
        "sales_data_user = pd.DataFrame(sales_data1['CustomerID'].unique())\n",
        "sales_data_user.columns = ['CustomerID']\n",
        "\n",
        "#get the max purchase date for each customer and create a dataframe with it \n",
        "tx_max_purchase = sales_data1.groupby('CustomerID').InvoiceDate.max().reset_index()\n",
        "tx_max_purchase.columns = ['CustomerID','MaxPurchaseDate']\n",
        "tx_max_purchase['Recency'] = (tx_max_purchase['MaxPurchaseDate'].max() - tx_max_purchase['MaxPurchaseDate']).dt.days\n",
        "#on:主鍵\n",
        "sales_data_user = pd.merge(sales_data_user, tx_max_purchase[['CustomerID', 'Recency']], on='CustomerID')\n",
        "\n",
        "#we take our observation point as the max invoice data in our dataset\n",
        "#tx_max_purchase['Recency'] = ((tx_max_purchase['MaxPurchaseDate'].max() - tx_max_purchase['MaxPurchaseDate']))/np.timedelta64(1,)\n",
        "sales_data_user"
      ],
      "metadata": {
        "colab": {
          "base_uri": "https://localhost:8080/",
          "height": 423
        },
        "id": "fRnNUZyhYrzT",
        "outputId": "61f2d06b-dc1f-4d83-9180-ab734d1043ea"
      },
      "execution_count": 49,
      "outputs": [
        {
          "output_type": "execute_result",
          "data": {
            "text/html": [
              "<div>\n",
              "<style scoped>\n",
              "    .dataframe tbody tr th:only-of-type {\n",
              "        vertical-align: middle;\n",
              "    }\n",
              "\n",
              "    .dataframe tbody tr th {\n",
              "        vertical-align: top;\n",
              "    }\n",
              "\n",
              "    .dataframe thead th {\n",
              "        text-align: right;\n",
              "    }\n",
              "</style>\n",
              "<table border=\"1\" class=\"dataframe\">\n",
              "  <thead>\n",
              "    <tr style=\"text-align: right;\">\n",
              "      <th></th>\n",
              "      <th>CustomerID</th>\n",
              "      <th>Recency</th>\n",
              "    </tr>\n",
              "  </thead>\n",
              "  <tbody>\n",
              "    <tr>\n",
              "      <th>0</th>\n",
              "      <td>9100002488768.00</td>\n",
              "      <td>123</td>\n",
              "    </tr>\n",
              "    <tr>\n",
              "      <th>1</th>\n",
              "      <td>9100002556566.00</td>\n",
              "      <td>186</td>\n",
              "    </tr>\n",
              "    <tr>\n",
              "      <th>2</th>\n",
              "      <td>9100002582077.00</td>\n",
              "      <td>301</td>\n",
              "    </tr>\n",
              "    <tr>\n",
              "      <th>3</th>\n",
              "      <td>9100002426142.00</td>\n",
              "      <td>555</td>\n",
              "    </tr>\n",
              "    <tr>\n",
              "      <th>4</th>\n",
              "      <td>9100000301403.00</td>\n",
              "      <td>82</td>\n",
              "    </tr>\n",
              "    <tr>\n",
              "      <th>...</th>\n",
              "      <td>...</td>\n",
              "      <td>...</td>\n",
              "    </tr>\n",
              "    <tr>\n",
              "      <th>78439</th>\n",
              "      <td>9100003057270.00</td>\n",
              "      <td>0</td>\n",
              "    </tr>\n",
              "    <tr>\n",
              "      <th>78440</th>\n",
              "      <td>9100003057284.00</td>\n",
              "      <td>0</td>\n",
              "    </tr>\n",
              "    <tr>\n",
              "      <th>78441</th>\n",
              "      <td>9100001069371.00</td>\n",
              "      <td>0</td>\n",
              "    </tr>\n",
              "    <tr>\n",
              "      <th>78442</th>\n",
              "      <td>9100000262193.00</td>\n",
              "      <td>0</td>\n",
              "    </tr>\n",
              "    <tr>\n",
              "      <th>78443</th>\n",
              "      <td>9100003057444.00</td>\n",
              "      <td>0</td>\n",
              "    </tr>\n",
              "  </tbody>\n",
              "</table>\n",
              "<p>78444 rows × 2 columns</p>\n",
              "</div>"
            ],
            "text/plain": [
              "            CustomerID  Recency\n",
              "0     9100002488768.00      123\n",
              "1     9100002556566.00      186\n",
              "2     9100002582077.00      301\n",
              "3     9100002426142.00      555\n",
              "4     9100000301403.00       82\n",
              "...                ...      ...\n",
              "78439 9100003057270.00        0\n",
              "78440 9100003057284.00        0\n",
              "78441 9100001069371.00        0\n",
              "78442 9100000262193.00        0\n",
              "78443 9100003057444.00        0\n",
              "\n",
              "[78444 rows x 2 columns]"
            ]
          },
          "metadata": {},
          "execution_count": 49
        }
      ]
    },
    {
      "cell_type": "code",
      "source": [
        "fig,axes = plt.subplots(figsize=(16,6))\n",
        "sns.histplot(data=sales_data_user['Recency'],ax=axes)\n",
        "plt.show()"
      ],
      "metadata": {
        "colab": {
          "base_uri": "https://localhost:8080/",
          "height": 388
        },
        "id": "O5R-EtC4ej2u",
        "outputId": "09efbc8e-9d93-4eab-8412-091b03176e90"
      },
      "execution_count": 50,
      "outputs": [
        {
          "output_type": "display_data",
          "data": {
            "image/png": "[encoded data removed]",
            "text/plain": [
              "<Figure size 1152x432 with 1 Axes>"
            ]
          },
          "metadata": {
            "needs_background": "light"
          }
        }
      ]
    },
    {
      "cell_type": "code",
      "source": [
        "sales_data_user.Recency.describe()"
      ],
      "metadata": {
        "colab": {
          "base_uri": "https://localhost:8080/"
        },
        "id": "z0Em9KANfLfJ",
        "outputId": "d9e55be1-7d17-4d0f-c70d-1d5b5c0ae950"
      },
      "execution_count": 51,
      "outputs": [
        {
          "output_type": "execute_result",
          "data": {
            "text/plain": [
              "count   78444.00\n",
              "mean      259.36\n",
              "std       216.96\n",
              "min         0.00\n",
              "25%        57.00\n",
              "50%       212.00\n",
              "75%       428.00\n",
              "max       730.00\n",
              "Name: Recency, dtype: float64"
            ]
          },
          "metadata": {},
          "execution_count": 51
        }
      ]
    },
    {
      "cell_type": "code",
      "source": [
        "# function for ordering cluster numbers\n",
        "# 把cluster做排序\n",
        "def order_cluster(cluster_field_name, target_field_name,df,ascending):\n",
        "  new_cluster_field_name = 'new_' + cluster_field_name\n",
        "  df_new = df.groupby(cluster_field_name)[target_field_name].mean().reset_index()\n",
        "  df_new = df_new.sort_values(by=target_field_name, ascending=ascending).reset_index(drop=True)\n",
        "  df_new['index'] = df_new.index\n",
        "  df_final = pd.merge(df,df_new[[cluster_field_name,'index']], on=cluster_field_name)\n",
        "  df_final = df_final.drop([cluster_field_name],axis=1)\n",
        "  df_final = df_final.rename(columns={\"index\":cluster_field_name})\n",
        "  return df_final"
      ],
      "metadata": {
        "id": "IhiqSvpGfMDp"
      },
      "execution_count": 52,
      "outputs": []
    },
    {
      "cell_type": "code",
      "source": [
        "from sklearn.cluster import KMeans\n",
        "\n",
        "sse={}\n",
        "tx_recency = sales_data_user[['Recency']]\n",
        "for k in range(1,10):\n",
        "  kmeans = KMeans(n_clusters=k, max_iter=1000).fit(tx_recency)\n",
        "  tx_recency[\"clusters\"] = kmeans.labels_\n",
        "  sse[k] = kmeans.inertia_\n",
        "plt.figure()\n",
        "plt.plot(list(sse.keys()),list(sse.values()))\n",
        "plt.xlabel(\"Number of cluster\")\n",
        "plt.show()"
      ],
      "metadata": {
        "colab": {
          "base_uri": "https://localhost:8080/",
          "height": 290
        },
        "id": "5ZR2eigwhUUk",
        "outputId": "31b61172-8c5b-4b26-907a-9911680918cf"
      },
      "execution_count": 53,
      "outputs": [
        {
          "output_type": "display_data",
          "data": {
            "image/png": "[encoded data removed]",
            "text/plain": [
              "<Figure size 432x288 with 1 Axes>"
            ]
          },
          "metadata": {
            "needs_background": "light"
          }
        }
      ]
    },
    {
      "cell_type": "code",
      "source": [
        "kmeans = KMeans(n_clusters=4)\n",
        "kmeans.fit(sales_data_user[['Recency']])\n",
        "sales_data_user['RecencyCluster'] = kmeans.predict(sales_data_user[['Recency']])\n",
        "#false降冪\n",
        "sales_data_user = order_cluster('RecencyCluster','Recency', sales_data_user, False)\n",
        "\n",
        "sales_data_user.groupby('RecencyCluster')['Recency'].describe()"
      ],
      "metadata": {
        "colab": {
          "base_uri": "https://localhost:8080/",
          "height": 206
        },
        "id": "NKXzVUwWi_jh",
        "outputId": "d90b3201-8856-4b15-bf7c-a027ada4dfe2"
      },
      "execution_count": 54,
      "outputs": [
        {
          "output_type": "execute_result",
          "data": {
            "text/html": [
              "<div>\n",
              "<style scoped>\n",
              "    .dataframe tbody tr th:only-of-type {\n",
              "        vertical-align: middle;\n",
              "    }\n",
              "\n",
              "    .dataframe tbody tr th {\n",
              "        vertical-align: top;\n",
              "    }\n",
              "\n",
              "    .dataframe thead th {\n",
              "        text-align: right;\n",
              "    }\n",
              "</style>\n",
              "<table border=\"1\" class=\"dataframe\">\n",
              "  <thead>\n",
              "    <tr style=\"text-align: right;\">\n",
              "      <th></th>\n",
              "      <th>count</th>\n",
              "      <th>mean</th>\n",
              "      <th>std</th>\n",
              "      <th>min</th>\n",
              "      <th>25%</th>\n",
              "      <th>50%</th>\n",
              "      <th>75%</th>\n",
              "      <th>max</th>\n",
              "    </tr>\n",
              "    <tr>\n",
              "      <th>RecencyCluster</th>\n",
              "      <th></th>\n",
              "      <th></th>\n",
              "      <th></th>\n",
              "      <th></th>\n",
              "      <th></th>\n",
              "      <th></th>\n",
              "      <th></th>\n",
              "      <th></th>\n",
              "    </tr>\n",
              "  </thead>\n",
              "  <tbody>\n",
              "    <tr>\n",
              "      <th>0</th>\n",
              "      <td>12708.00</td>\n",
              "      <td>622.40</td>\n",
              "      <td>56.70</td>\n",
              "      <td>524.00</td>\n",
              "      <td>577.00</td>\n",
              "      <td>619.00</td>\n",
              "      <td>669.00</td>\n",
              "      <td>730.00</td>\n",
              "    </tr>\n",
              "    <tr>\n",
              "      <th>1</th>\n",
              "      <td>15650.00</td>\n",
              "      <td>423.84</td>\n",
              "      <td>53.25</td>\n",
              "      <td>329.00</td>\n",
              "      <td>377.00</td>\n",
              "      <td>427.00</td>\n",
              "      <td>464.75</td>\n",
              "      <td>523.00</td>\n",
              "    </tr>\n",
              "    <tr>\n",
              "      <th>2</th>\n",
              "      <td>17805.00</td>\n",
              "      <td>232.51</td>\n",
              "      <td>52.25</td>\n",
              "      <td>143.00</td>\n",
              "      <td>189.00</td>\n",
              "      <td>224.00</td>\n",
              "      <td>279.00</td>\n",
              "      <td>328.00</td>\n",
              "    </tr>\n",
              "    <tr>\n",
              "      <th>3</th>\n",
              "      <td>32281.00</td>\n",
              "      <td>51.51</td>\n",
              "      <td>40.47</td>\n",
              "      <td>0.00</td>\n",
              "      <td>17.00</td>\n",
              "      <td>42.00</td>\n",
              "      <td>81.00</td>\n",
              "      <td>142.00</td>\n",
              "    </tr>\n",
              "  </tbody>\n",
              "</table>\n",
              "</div>"
            ],
            "text/plain": [
              "                  count   mean   std    min    25%    50%    75%    max\n",
              "RecencyCluster                                                         \n",
              "0              12708.00 622.40 56.70 524.00 577.00 619.00 669.00 730.00\n",
              "1              15650.00 423.84 53.25 329.00 377.00 427.00 464.75 523.00\n",
              "2              17805.00 232.51 52.25 143.00 189.00 224.00 279.00 328.00\n",
              "3              32281.00  51.51 40.47   0.00  17.00  42.00  81.00 142.00"
            ]
          },
          "metadata": {},
          "execution_count": 54
        }
      ]
    },
    {
      "cell_type": "markdown",
      "source": [
        "### Frequency"
      ],
      "metadata": {
        "id": "AsFRi-mwo4jk"
      }
    },
    {
      "cell_type": "code",
      "source": [
        "#get order counts for each user and create a dataframe with it\n",
        "tx_frequency = sales_data1.groupby('CustomerID').InvoiceDate.count().reset_index()\n",
        "tx_frequency.columns = ['CustomerID','Frequency']\n",
        "\n",
        "#add this data to our main dataframe\n",
        "sales_data_user = pd.merge(sales_data_user, tx_frequency, on='CustomerID')\n",
        "sales_data_user"
      ],
      "metadata": {
        "colab": {
          "base_uri": "https://localhost:8080/",
          "height": 423
        },
        "id": "Px_waqj3i_lv",
        "outputId": "7ac67e51-3831-445b-fdb6-a366b1ff648f"
      },
      "execution_count": 55,
      "outputs": [
        {
          "output_type": "execute_result",
          "data": {
            "text/html": [
              "<div>\n",
              "<style scoped>\n",
              "    .dataframe tbody tr th:only-of-type {\n",
              "        vertical-align: middle;\n",
              "    }\n",
              "\n",
              "    .dataframe tbody tr th {\n",
              "        vertical-align: top;\n",
              "    }\n",
              "\n",
              "    .dataframe thead th {\n",
              "        text-align: right;\n",
              "    }\n",
              "</style>\n",
              "<table border=\"1\" class=\"dataframe\">\n",
              "  <thead>\n",
              "    <tr style=\"text-align: right;\">\n",
              "      <th></th>\n",
              "      <th>CustomerID</th>\n",
              "      <th>Recency</th>\n",
              "      <th>RecencyCluster</th>\n",
              "      <th>Frequency</th>\n",
              "    </tr>\n",
              "  </thead>\n",
              "  <tbody>\n",
              "    <tr>\n",
              "      <th>0</th>\n",
              "      <td>9100002488768.00</td>\n",
              "      <td>123</td>\n",
              "      <td>3</td>\n",
              "      <td>23</td>\n",
              "    </tr>\n",
              "    <tr>\n",
              "      <th>1</th>\n",
              "      <td>9100000301403.00</td>\n",
              "      <td>82</td>\n",
              "      <td>3</td>\n",
              "      <td>37</td>\n",
              "    </tr>\n",
              "    <tr>\n",
              "      <th>2</th>\n",
              "      <td>9100000382303.00</td>\n",
              "      <td>13</td>\n",
              "      <td>3</td>\n",
              "      <td>76</td>\n",
              "    </tr>\n",
              "    <tr>\n",
              "      <th>3</th>\n",
              "      <td>9100000045758.00</td>\n",
              "      <td>54</td>\n",
              "      <td>3</td>\n",
              "      <td>91</td>\n",
              "    </tr>\n",
              "    <tr>\n",
              "      <th>4</th>\n",
              "      <td>9100000190649.00</td>\n",
              "      <td>34</td>\n",
              "      <td>3</td>\n",
              "      <td>104</td>\n",
              "    </tr>\n",
              "    <tr>\n",
              "      <th>...</th>\n",
              "      <td>...</td>\n",
              "      <td>...</td>\n",
              "      <td>...</td>\n",
              "      <td>...</td>\n",
              "    </tr>\n",
              "    <tr>\n",
              "      <th>78439</th>\n",
              "      <td>9100002763223.00</td>\n",
              "      <td>329</td>\n",
              "      <td>1</td>\n",
              "      <td>1</td>\n",
              "    </tr>\n",
              "    <tr>\n",
              "      <th>78440</th>\n",
              "      <td>9100002763049.00</td>\n",
              "      <td>329</td>\n",
              "      <td>1</td>\n",
              "      <td>2</td>\n",
              "    </tr>\n",
              "    <tr>\n",
              "      <th>78441</th>\n",
              "      <td>9100002763216.00</td>\n",
              "      <td>329</td>\n",
              "      <td>1</td>\n",
              "      <td>1</td>\n",
              "    </tr>\n",
              "    <tr>\n",
              "      <th>78442</th>\n",
              "      <td>9100002763240.00</td>\n",
              "      <td>329</td>\n",
              "      <td>1</td>\n",
              "      <td>2</td>\n",
              "    </tr>\n",
              "    <tr>\n",
              "      <th>78443</th>\n",
              "      <td>9100002763261.00</td>\n",
              "      <td>329</td>\n",
              "      <td>1</td>\n",
              "      <td>1</td>\n",
              "    </tr>\n",
              "  </tbody>\n",
              "</table>\n",
              "<p>78444 rows × 4 columns</p>\n",
              "</div>"
            ],
            "text/plain": [
              "            CustomerID  Recency  RecencyCluster  Frequency\n",
              "0     9100002488768.00      123               3         23\n",
              "1     9100000301403.00       82               3         37\n",
              "2     9100000382303.00       13               3         76\n",
              "3     9100000045758.00       54               3         91\n",
              "4     9100000190649.00       34               3        104\n",
              "...                ...      ...             ...        ...\n",
              "78439 9100002763223.00      329               1          1\n",
              "78440 9100002763049.00      329               1          2\n",
              "78441 9100002763216.00      329               1          1\n",
              "78442 9100002763240.00      329               1          2\n",
              "78443 9100002763261.00      329               1          1\n",
              "\n",
              "[78444 rows x 4 columns]"
            ]
          },
          "metadata": {},
          "execution_count": 55
        }
      ]
    },
    {
      "cell_type": "code",
      "source": [
        "fig, axes = plt.subplots(figsize=(16,6))\n",
        "sns.histplot(data=sales_data_user['Frequency'], ax=axes)\n",
        "plt.show()"
      ],
      "metadata": {
        "colab": {
          "base_uri": "https://localhost:8080/",
          "height": 388
        },
        "id": "xS2wBuN6hUX0",
        "outputId": "3e1dafa1-5cbf-4ceb-9fc2-8bf84f4cc3fd"
      },
      "execution_count": 56,
      "outputs": [
        {
          "output_type": "display_data",
          "data": {
            "image/png": "[encoded data removed]",
            "text/plain": [
              "<Figure size 1152x432 with 1 Axes>"
            ]
          },
          "metadata": {
            "needs_background": "light"
          }
        }
      ]
    },
    {
      "cell_type": "code",
      "source": [
        "tx_frequency.Frequency.describe()"
      ],
      "metadata": {
        "colab": {
          "base_uri": "https://localhost:8080/"
        },
        "id": "WgfnyeJnhUcC",
        "outputId": "f5d01776-ac53-4a38-bf54-8d37ed20bd00"
      },
      "execution_count": 57,
      "outputs": [
        {
          "output_type": "execute_result",
          "data": {
            "text/plain": [
              "count   78444.00\n",
              "mean       15.06\n",
              "std        29.15\n",
              "min         1.00\n",
              "25%         2.00\n",
              "50%         5.00\n",
              "75%        18.00\n",
              "max      2723.00\n",
              "Name: Frequency, dtype: float64"
            ]
          },
          "metadata": {},
          "execution_count": 57
        }
      ]
    },
    {
      "cell_type": "code",
      "source": [
        "#k-means\n",
        "kmeans = KMeans(n_clusters=4)\n",
        "kmeans.fit(sales_data_user[['Frequency']])\n",
        "sales_data_user['FrequencyCluster'] = kmeans.predict(sales_data_user[['Frequency']])\n",
        "#false降冪\n",
        "sales_data_user = order_cluster('FrequencyCluster','Frequency', sales_data_user, True)\n",
        "\n",
        "#see details of each cluster\n",
        "sales_data_user.groupby('FrequencyCluster')['Frequency'].describe()"
      ],
      "metadata": {
        "colab": {
          "base_uri": "https://localhost:8080/",
          "height": 206
        },
        "id": "GFeKbc45q5QK",
        "outputId": "02628ca6-630b-44d5-dc96-d9af16c684f8"
      },
      "execution_count": 58,
      "outputs": [
        {
          "output_type": "execute_result",
          "data": {
            "text/html": [
              "<div>\n",
              "<style scoped>\n",
              "    .dataframe tbody tr th:only-of-type {\n",
              "        vertical-align: middle;\n",
              "    }\n",
              "\n",
              "    .dataframe tbody tr th {\n",
              "        vertical-align: top;\n",
              "    }\n",
              "\n",
              "    .dataframe thead th {\n",
              "        text-align: right;\n",
              "    }\n",
              "</style>\n",
              "<table border=\"1\" class=\"dataframe\">\n",
              "  <thead>\n",
              "    <tr style=\"text-align: right;\">\n",
              "      <th></th>\n",
              "      <th>count</th>\n",
              "      <th>mean</th>\n",
              "      <th>std</th>\n",
              "      <th>min</th>\n",
              "      <th>25%</th>\n",
              "      <th>50%</th>\n",
              "      <th>75%</th>\n",
              "      <th>max</th>\n",
              "    </tr>\n",
              "    <tr>\n",
              "      <th>FrequencyCluster</th>\n",
              "      <th></th>\n",
              "      <th></th>\n",
              "      <th></th>\n",
              "      <th></th>\n",
              "      <th></th>\n",
              "      <th></th>\n",
              "      <th></th>\n",
              "      <th></th>\n",
              "    </tr>\n",
              "  </thead>\n",
              "  <tbody>\n",
              "    <tr>\n",
              "      <th>0</th>\n",
              "      <td>65770.00</td>\n",
              "      <td>6.53</td>\n",
              "      <td>6.86</td>\n",
              "      <td>1.00</td>\n",
              "      <td>1.00</td>\n",
              "      <td>3.00</td>\n",
              "      <td>10.00</td>\n",
              "      <td>27.00</td>\n",
              "    </tr>\n",
              "    <tr>\n",
              "      <th>1</th>\n",
              "      <td>11164.00</td>\n",
              "      <td>47.83</td>\n",
              "      <td>16.92</td>\n",
              "      <td>28.00</td>\n",
              "      <td>34.00</td>\n",
              "      <td>43.00</td>\n",
              "      <td>58.00</td>\n",
              "      <td>94.00</td>\n",
              "    </tr>\n",
              "    <tr>\n",
              "      <th>2</th>\n",
              "      <td>1507.00</td>\n",
              "      <td>140.42</td>\n",
              "      <td>63.06</td>\n",
              "      <td>95.00</td>\n",
              "      <td>106.00</td>\n",
              "      <td>122.00</td>\n",
              "      <td>150.00</td>\n",
              "      <td>1026.00</td>\n",
              "    </tr>\n",
              "    <tr>\n",
              "      <th>3</th>\n",
              "      <td>3.00</td>\n",
              "      <td>2121.00</td>\n",
              "      <td>549.93</td>\n",
              "      <td>1645.00</td>\n",
              "      <td>1820.00</td>\n",
              "      <td>1995.00</td>\n",
              "      <td>2359.00</td>\n",
              "      <td>2723.00</td>\n",
              "    </tr>\n",
              "  </tbody>\n",
              "</table>\n",
              "</div>"
            ],
            "text/plain": [
              "                    count    mean    std  ...     50%     75%     max\n",
              "FrequencyCluster                          ...                        \n",
              "0                65770.00    6.53   6.86  ...    3.00   10.00   27.00\n",
              "1                11164.00   47.83  16.92  ...   43.00   58.00   94.00\n",
              "2                 1507.00  140.42  63.06  ...  122.00  150.00 1026.00\n",
              "3                    3.00 2121.00 549.93  ... 1995.00 2359.00 2723.00\n",
              "\n",
              "[4 rows x 8 columns]"
            ]
          },
          "metadata": {},
          "execution_count": 58
        }
      ]
    },
    {
      "cell_type": "code",
      "source": [
        "tx_frequency"
      ],
      "metadata": {
        "colab": {
          "base_uri": "https://localhost:8080/",
          "height": 423
        },
        "id": "c1nK6-z8q5TX",
        "outputId": "02f86546-cc57-4b25-f59a-652759820624"
      },
      "execution_count": 59,
      "outputs": [
        {
          "output_type": "execute_result",
          "data": {
            "text/html": [
              "<div>\n",
              "<style scoped>\n",
              "    .dataframe tbody tr th:only-of-type {\n",
              "        vertical-align: middle;\n",
              "    }\n",
              "\n",
              "    .dataframe tbody tr th {\n",
              "        vertical-align: top;\n",
              "    }\n",
              "\n",
              "    .dataframe thead th {\n",
              "        text-align: right;\n",
              "    }\n",
              "</style>\n",
              "<table border=\"1\" class=\"dataframe\">\n",
              "  <thead>\n",
              "    <tr style=\"text-align: right;\">\n",
              "      <th></th>\n",
              "      <th>CustomerID</th>\n",
              "      <th>Frequency</th>\n",
              "    </tr>\n",
              "  </thead>\n",
              "  <tbody>\n",
              "    <tr>\n",
              "      <th>0</th>\n",
              "      <td>9100000000061.00</td>\n",
              "      <td>15</td>\n",
              "    </tr>\n",
              "    <tr>\n",
              "      <th>1</th>\n",
              "      <td>9100000000085.00</td>\n",
              "      <td>21</td>\n",
              "    </tr>\n",
              "    <tr>\n",
              "      <th>2</th>\n",
              "      <td>9100000000092.00</td>\n",
              "      <td>6</td>\n",
              "    </tr>\n",
              "    <tr>\n",
              "      <th>3</th>\n",
              "      <td>9100000000115.00</td>\n",
              "      <td>17</td>\n",
              "    </tr>\n",
              "    <tr>\n",
              "      <th>4</th>\n",
              "      <td>9100000000170.00</td>\n",
              "      <td>2</td>\n",
              "    </tr>\n",
              "    <tr>\n",
              "      <th>...</th>\n",
              "      <td>...</td>\n",
              "      <td>...</td>\n",
              "    </tr>\n",
              "    <tr>\n",
              "      <th>78439</th>\n",
              "      <td>9100003125563.00</td>\n",
              "      <td>1</td>\n",
              "    </tr>\n",
              "    <tr>\n",
              "      <th>78440</th>\n",
              "      <td>9100003140535.00</td>\n",
              "      <td>1</td>\n",
              "    </tr>\n",
              "    <tr>\n",
              "      <th>78441</th>\n",
              "      <td>9100003149890.00</td>\n",
              "      <td>2</td>\n",
              "    </tr>\n",
              "    <tr>\n",
              "      <th>78442</th>\n",
              "      <td>9100003151982.00</td>\n",
              "      <td>2</td>\n",
              "    </tr>\n",
              "    <tr>\n",
              "      <th>78443</th>\n",
              "      <td>9100003171280.00</td>\n",
              "      <td>39</td>\n",
              "    </tr>\n",
              "  </tbody>\n",
              "</table>\n",
              "<p>78444 rows × 2 columns</p>\n",
              "</div>"
            ],
            "text/plain": [
              "            CustomerID  Frequency\n",
              "0     9100000000061.00         15\n",
              "1     9100000000085.00         21\n",
              "2     9100000000092.00          6\n",
              "3     9100000000115.00         17\n",
              "4     9100000000170.00          2\n",
              "...                ...        ...\n",
              "78439 9100003125563.00          1\n",
              "78440 9100003140535.00          1\n",
              "78441 9100003149890.00          2\n",
              "78442 9100003151982.00          2\n",
              "78443 9100003171280.00         39\n",
              "\n",
              "[78444 rows x 2 columns]"
            ]
          },
          "metadata": {},
          "execution_count": 59
        }
      ]
    },
    {
      "cell_type": "code",
      "source": [
        "lowerbound, highbound = Outlier_treatment(sales_data_user['Frequency'])\n",
        "sales_data_user[(sales_data_user['Frequency']<lowerbound) | (sales_data_user['Frequency']>highbound)]"
      ],
      "metadata": {
        "colab": {
          "base_uri": "https://localhost:8080/",
          "height": 423
        },
        "id": "d3szK8b4u_-a",
        "outputId": "6c21684d-22e1-4dbb-86e3-a21b0b379fb8"
      },
      "execution_count": 60,
      "outputs": [
        {
          "output_type": "execute_result",
          "data": {
            "text/html": [
              "<div>\n",
              "<style scoped>\n",
              "    .dataframe tbody tr th:only-of-type {\n",
              "        vertical-align: middle;\n",
              "    }\n",
              "\n",
              "    .dataframe tbody tr th {\n",
              "        vertical-align: top;\n",
              "    }\n",
              "\n",
              "    .dataframe thead th {\n",
              "        text-align: right;\n",
              "    }\n",
              "</style>\n",
              "<table border=\"1\" class=\"dataframe\">\n",
              "  <thead>\n",
              "    <tr style=\"text-align: right;\">\n",
              "      <th></th>\n",
              "      <th>CustomerID</th>\n",
              "      <th>Recency</th>\n",
              "      <th>RecencyCluster</th>\n",
              "      <th>Frequency</th>\n",
              "      <th>FrequencyCluster</th>\n",
              "    </tr>\n",
              "  </thead>\n",
              "  <tbody>\n",
              "    <tr>\n",
              "      <th>65771</th>\n",
              "      <td>9100000382303.00</td>\n",
              "      <td>13</td>\n",
              "      <td>3</td>\n",
              "      <td>76</td>\n",
              "      <td>1</td>\n",
              "    </tr>\n",
              "    <tr>\n",
              "      <th>65772</th>\n",
              "      <td>9100000045758.00</td>\n",
              "      <td>54</td>\n",
              "      <td>3</td>\n",
              "      <td>91</td>\n",
              "      <td>1</td>\n",
              "    </tr>\n",
              "    <tr>\n",
              "      <th>65773</th>\n",
              "      <td>9100002165225.00</td>\n",
              "      <td>103</td>\n",
              "      <td>3</td>\n",
              "      <td>50</td>\n",
              "      <td>1</td>\n",
              "    </tr>\n",
              "    <tr>\n",
              "      <th>65774</th>\n",
              "      <td>9100002432426.00</td>\n",
              "      <td>50</td>\n",
              "      <td>3</td>\n",
              "      <td>63</td>\n",
              "      <td>1</td>\n",
              "    </tr>\n",
              "    <tr>\n",
              "      <th>65776</th>\n",
              "      <td>9100000161946.00</td>\n",
              "      <td>14</td>\n",
              "      <td>3</td>\n",
              "      <td>85</td>\n",
              "      <td>1</td>\n",
              "    </tr>\n",
              "    <tr>\n",
              "      <th>...</th>\n",
              "      <td>...</td>\n",
              "      <td>...</td>\n",
              "      <td>...</td>\n",
              "      <td>...</td>\n",
              "      <td>...</td>\n",
              "    </tr>\n",
              "    <tr>\n",
              "      <th>78439</th>\n",
              "      <td>9100000502619.00</td>\n",
              "      <td>366</td>\n",
              "      <td>1</td>\n",
              "      <td>104</td>\n",
              "      <td>2</td>\n",
              "    </tr>\n",
              "    <tr>\n",
              "      <th>78440</th>\n",
              "      <td>9100000240023.00</td>\n",
              "      <td>349</td>\n",
              "      <td>1</td>\n",
              "      <td>124</td>\n",
              "      <td>2</td>\n",
              "    </tr>\n",
              "    <tr>\n",
              "      <th>78441</th>\n",
              "      <td>9100000092219.00</td>\n",
              "      <td>31</td>\n",
              "      <td>3</td>\n",
              "      <td>1995</td>\n",
              "      <td>3</td>\n",
              "    </tr>\n",
              "    <tr>\n",
              "      <th>78442</th>\n",
              "      <td>9100000300536.00</td>\n",
              "      <td>2</td>\n",
              "      <td>3</td>\n",
              "      <td>1645</td>\n",
              "      <td>3</td>\n",
              "    </tr>\n",
              "    <tr>\n",
              "      <th>78443</th>\n",
              "      <td>9100000624390.00</td>\n",
              "      <td>6</td>\n",
              "      <td>3</td>\n",
              "      <td>2723</td>\n",
              "      <td>3</td>\n",
              "    </tr>\n",
              "  </tbody>\n",
              "</table>\n",
              "<p>7239 rows × 5 columns</p>\n",
              "</div>"
            ],
            "text/plain": [
              "            CustomerID  Recency  RecencyCluster  Frequency  FrequencyCluster\n",
              "65771 9100000382303.00       13               3         76                 1\n",
              "65772 9100000045758.00       54               3         91                 1\n",
              "65773 9100002165225.00      103               3         50                 1\n",
              "65774 9100002432426.00       50               3         63                 1\n",
              "65776 9100000161946.00       14               3         85                 1\n",
              "...                ...      ...             ...        ...               ...\n",
              "78439 9100000502619.00      366               1        104                 2\n",
              "78440 9100000240023.00      349               1        124                 2\n",
              "78441 9100000092219.00       31               3       1995                 3\n",
              "78442 9100000300536.00        2               3       1645                 3\n",
              "78443 9100000624390.00        6               3       2723                 3\n",
              "\n",
              "[7239 rows x 5 columns]"
            ]
          },
          "metadata": {},
          "execution_count": 60
        }
      ]
    },
    {
      "cell_type": "code",
      "source": [
        "sales_data_user.drop(sales_data_user[(sales_data_user['Frequency']<lowerbound) | (sales_data_user['Frequency']>highbound)].index, inplace=True) "
      ],
      "metadata": {
        "id": "pzxk-54osesw"
      },
      "execution_count": 61,
      "outputs": []
    },
    {
      "cell_type": "code",
      "source": [
        "kmeans = KMeans(n_clusters=4)\n",
        "kmeans.fit(sales_data_user[['Frequency']])\n",
        "sales_data_user['FrequencyCluster'] = kmeans.predict(sales_data_user[['Frequency']])\n",
        "#false降冪\n",
        "sales_data_user = order_cluster('FrequencyCluster','Frequency', sales_data_user, True)\n",
        "\n",
        "#see details of each cluster\n",
        "sales_data_user.groupby('FrequencyCluster')['Frequency'].describe()"
      ],
      "metadata": {
        "colab": {
          "base_uri": "https://localhost:8080/",
          "height": 206
        },
        "id": "CfvQ_-oOt7JD",
        "outputId": "42fed230-9203-4c7b-b7a8-31ca8bc7ce87"
      },
      "execution_count": 62,
      "outputs": [
        {
          "output_type": "execute_result",
          "data": {
            "text/html": [
              "<div>\n",
              "<style scoped>\n",
              "    .dataframe tbody tr th:only-of-type {\n",
              "        vertical-align: middle;\n",
              "    }\n",
              "\n",
              "    .dataframe tbody tr th {\n",
              "        vertical-align: top;\n",
              "    }\n",
              "\n",
              "    .dataframe thead th {\n",
              "        text-align: right;\n",
              "    }\n",
              "</style>\n",
              "<table border=\"1\" class=\"dataframe\">\n",
              "  <thead>\n",
              "    <tr style=\"text-align: right;\">\n",
              "      <th></th>\n",
              "      <th>count</th>\n",
              "      <th>mean</th>\n",
              "      <th>std</th>\n",
              "      <th>min</th>\n",
              "      <th>25%</th>\n",
              "      <th>50%</th>\n",
              "      <th>75%</th>\n",
              "      <th>max</th>\n",
              "    </tr>\n",
              "    <tr>\n",
              "      <th>FrequencyCluster</th>\n",
              "      <th></th>\n",
              "      <th></th>\n",
              "      <th></th>\n",
              "      <th></th>\n",
              "      <th></th>\n",
              "      <th></th>\n",
              "      <th></th>\n",
              "      <th></th>\n",
              "    </tr>\n",
              "  </thead>\n",
              "  <tbody>\n",
              "    <tr>\n",
              "      <th>0</th>\n",
              "      <td>40255.00</td>\n",
              "      <td>2.04</td>\n",
              "      <td>1.22</td>\n",
              "      <td>1.00</td>\n",
              "      <td>1.00</td>\n",
              "      <td>2.00</td>\n",
              "      <td>3.00</td>\n",
              "      <td>5.00</td>\n",
              "    </tr>\n",
              "    <tr>\n",
              "      <th>1</th>\n",
              "      <td>15448.00</td>\n",
              "      <td>9.35</td>\n",
              "      <td>2.55</td>\n",
              "      <td>6.00</td>\n",
              "      <td>7.00</td>\n",
              "      <td>9.00</td>\n",
              "      <td>11.00</td>\n",
              "      <td>14.00</td>\n",
              "    </tr>\n",
              "    <tr>\n",
              "      <th>2</th>\n",
              "      <td>9541.00</td>\n",
              "      <td>19.75</td>\n",
              "      <td>3.41</td>\n",
              "      <td>15.00</td>\n",
              "      <td>17.00</td>\n",
              "      <td>19.00</td>\n",
              "      <td>23.00</td>\n",
              "      <td>26.00</td>\n",
              "    </tr>\n",
              "    <tr>\n",
              "      <th>3</th>\n",
              "      <td>5961.00</td>\n",
              "      <td>33.50</td>\n",
              "      <td>4.52</td>\n",
              "      <td>27.00</td>\n",
              "      <td>30.00</td>\n",
              "      <td>33.00</td>\n",
              "      <td>37.00</td>\n",
              "      <td>42.00</td>\n",
              "    </tr>\n",
              "  </tbody>\n",
              "</table>\n",
              "</div>"
            ],
            "text/plain": [
              "                    count  mean  std   min   25%   50%   75%   max\n",
              "FrequencyCluster                                                  \n",
              "0                40255.00  2.04 1.22  1.00  1.00  2.00  3.00  5.00\n",
              "1                15448.00  9.35 2.55  6.00  7.00  9.00 11.00 14.00\n",
              "2                 9541.00 19.75 3.41 15.00 17.00 19.00 23.00 26.00\n",
              "3                 5961.00 33.50 4.52 27.00 30.00 33.00 37.00 42.00"
            ]
          },
          "metadata": {},
          "execution_count": 62
        }
      ]
    },
    {
      "cell_type": "markdown",
      "source": [
        "## Monetary"
      ],
      "metadata": {
        "id": "u1cRigAiy0uV"
      }
    },
    {
      "cell_type": "code",
      "source": [
        "tx_revenue = sales_data1.groupby('CustomerID').Revenue.sum().reset_index()\n",
        "\n",
        "#add this data to our main dataframe\n",
        "sales_data_user = pd.merge(sales_data_user, tx_revenue, on='CustomerID')\n",
        "sales_data_user.head()"
      ],
      "metadata": {
        "colab": {
          "base_uri": "https://localhost:8080/",
          "height": 206
        },
        "id": "B0l86WINt55L",
        "outputId": "9130bfad-4ddb-4174-9be8-98a8ad26c52f"
      },
      "execution_count": 63,
      "outputs": [
        {
          "output_type": "execute_result",
          "data": {
            "text/html": [
              "<div>\n",
              "<style scoped>\n",
              "    .dataframe tbody tr th:only-of-type {\n",
              "        vertical-align: middle;\n",
              "    }\n",
              "\n",
              "    .dataframe tbody tr th {\n",
              "        vertical-align: top;\n",
              "    }\n",
              "\n",
              "    .dataframe thead th {\n",
              "        text-align: right;\n",
              "    }\n",
              "</style>\n",
              "<table border=\"1\" class=\"dataframe\">\n",
              "  <thead>\n",
              "    <tr style=\"text-align: right;\">\n",
              "      <th></th>\n",
              "      <th>CustomerID</th>\n",
              "      <th>Recency</th>\n",
              "      <th>RecencyCluster</th>\n",
              "      <th>Frequency</th>\n",
              "      <th>FrequencyCluster</th>\n",
              "      <th>Revenue</th>\n",
              "    </tr>\n",
              "  </thead>\n",
              "  <tbody>\n",
              "    <tr>\n",
              "      <th>0</th>\n",
              "      <td>9100002488768.00</td>\n",
              "      <td>123</td>\n",
              "      <td>3</td>\n",
              "      <td>23</td>\n",
              "      <td>2</td>\n",
              "      <td>268088.00</td>\n",
              "    </tr>\n",
              "    <tr>\n",
              "      <th>1</th>\n",
              "      <td>9100002508831.00</td>\n",
              "      <td>16</td>\n",
              "      <td>3</td>\n",
              "      <td>25</td>\n",
              "      <td>2</td>\n",
              "      <td>276824.00</td>\n",
              "    </tr>\n",
              "    <tr>\n",
              "      <th>2</th>\n",
              "      <td>9100001761848.00</td>\n",
              "      <td>61</td>\n",
              "      <td>3</td>\n",
              "      <td>20</td>\n",
              "      <td>2</td>\n",
              "      <td>197248.00</td>\n",
              "    </tr>\n",
              "    <tr>\n",
              "      <th>3</th>\n",
              "      <td>9100002514344.00</td>\n",
              "      <td>32</td>\n",
              "      <td>3</td>\n",
              "      <td>15</td>\n",
              "      <td>2</td>\n",
              "      <td>219224.00</td>\n",
              "    </tr>\n",
              "    <tr>\n",
              "      <th>4</th>\n",
              "      <td>9100002106044.00</td>\n",
              "      <td>1</td>\n",
              "      <td>3</td>\n",
              "      <td>20</td>\n",
              "      <td>2</td>\n",
              "      <td>165816.00</td>\n",
              "    </tr>\n",
              "  </tbody>\n",
              "</table>\n",
              "</div>"
            ],
            "text/plain": [
              "        CustomerID  Recency  ...  FrequencyCluster   Revenue\n",
              "0 9100002488768.00      123  ...                 2 268088.00\n",
              "1 9100002508831.00       16  ...                 2 276824.00\n",
              "2 9100001761848.00       61  ...                 2 197248.00\n",
              "3 9100002514344.00       32  ...                 2 219224.00\n",
              "4 9100002106044.00        1  ...                 2 165816.00\n",
              "\n",
              "[5 rows x 6 columns]"
            ]
          },
          "metadata": {},
          "execution_count": 63
        }
      ]
    },
    {
      "cell_type": "code",
      "source": [
        "sales_data_user.Revenue.describe()"
      ],
      "metadata": {
        "id": "G9rgiTPv1-rm",
        "outputId": "f1e4810f-0fb7-4b88-929e-a96b1a76198f",
        "colab": {
          "base_uri": "https://localhost:8080/"
        }
      },
      "execution_count": 64,
      "outputs": [
        {
          "output_type": "execute_result",
          "data": {
            "text/plain": [
              "count     71205.00\n",
              "mean      89194.74\n",
              "std      120487.65\n",
              "min      -24584.00\n",
              "25%        8048.00\n",
              "50%       31776.00\n",
              "75%      129592.00\n",
              "max     1049096.00\n",
              "Name: Revenue, dtype: float64"
            ]
          },
          "metadata": {},
          "execution_count": 64
        }
      ]
    },
    {
      "cell_type": "code",
      "source": [
        "fig, axes = plt.subplots(figsize=(16,6))\n",
        "sns.histplot(data=sales_data_user['Revenue'], ax=axes)\n",
        "plt.show()"
      ],
      "metadata": {
        "colab": {
          "base_uri": "https://localhost:8080/",
          "height": 388
        },
        "id": "udG9_eaYt5-5",
        "outputId": "a5accca1-662a-4155-982e-1bd131704cf6"
      },
      "execution_count": 65,
      "outputs": [
        {
          "output_type": "display_data",
          "data": {
            "image/png": "[encoded data removed]",
            "text/plain": [
              "<Figure size 1152x432 with 1 Axes>"
            ]
          },
          "metadata": {
            "needs_background": "light"
          }
        }
      ]
    },
    {
      "cell_type": "code",
      "source": [
        "kmeans = KMeans(n_clusters=4)\n",
        "kmeans.fit(sales_data_user[['Revenue']])\n",
        "sales_data_user['RevenueCluster'] = kmeans.predict(sales_data_user[['Revenue']])\n",
        "#false降冪\n",
        "sales_data_user = order_cluster('RevenueCluster','Revenue', sales_data_user, True)\n",
        "\n",
        "#see details of each cluster\n",
        "sales_data_user.groupby('RevenueCluster')['Revenue'].describe()"
      ],
      "metadata": {
        "id": "1bIqjdRO2Q06",
        "outputId": "f21fc08d-3cb8-4642-ebeb-bbecfd535b34",
        "colab": {
          "base_uri": "https://localhost:8080/",
          "height": 206
        }
      },
      "execution_count": 66,
      "outputs": [
        {
          "output_type": "execute_result",
          "data": {
            "text/html": [
              "<div>\n",
              "<style scoped>\n",
              "    .dataframe tbody tr th:only-of-type {\n",
              "        vertical-align: middle;\n",
              "    }\n",
              "\n",
              "    .dataframe tbody tr th {\n",
              "        vertical-align: top;\n",
              "    }\n",
              "\n",
              "    .dataframe thead th {\n",
              "        text-align: right;\n",
              "    }\n",
              "</style>\n",
              "<table border=\"1\" class=\"dataframe\">\n",
              "  <thead>\n",
              "    <tr style=\"text-align: right;\">\n",
              "      <th></th>\n",
              "      <th>count</th>\n",
              "      <th>mean</th>\n",
              "      <th>std</th>\n",
              "      <th>min</th>\n",
              "      <th>25%</th>\n",
              "      <th>50%</th>\n",
              "      <th>75%</th>\n",
              "      <th>max</th>\n",
              "    </tr>\n",
              "    <tr>\n",
              "      <th>RevenueCluster</th>\n",
              "      <th></th>\n",
              "      <th></th>\n",
              "      <th></th>\n",
              "      <th></th>\n",
              "      <th></th>\n",
              "      <th></th>\n",
              "      <th></th>\n",
              "      <th></th>\n",
              "    </tr>\n",
              "  </thead>\n",
              "  <tbody>\n",
              "    <tr>\n",
              "      <th>0</th>\n",
              "      <td>44053.00</td>\n",
              "      <td>16769.55</td>\n",
              "      <td>17522.58</td>\n",
              "      <td>-24584.00</td>\n",
              "      <td>5272.00</td>\n",
              "      <td>8928.00</td>\n",
              "      <td>23096.00</td>\n",
              "      <td>68584.00</td>\n",
              "    </tr>\n",
              "    <tr>\n",
              "      <th>1</th>\n",
              "      <td>15275.00</td>\n",
              "      <td>120504.91</td>\n",
              "      <td>34886.26</td>\n",
              "      <td>68600.00</td>\n",
              "      <td>89888.00</td>\n",
              "      <td>115776.00</td>\n",
              "      <td>148728.00</td>\n",
              "      <td>191304.00</td>\n",
              "    </tr>\n",
              "    <tr>\n",
              "      <th>2</th>\n",
              "      <td>8470.00</td>\n",
              "      <td>261890.57</td>\n",
              "      <td>47529.72</td>\n",
              "      <td>191360.00</td>\n",
              "      <td>219594.00</td>\n",
              "      <td>256500.00</td>\n",
              "      <td>299736.00</td>\n",
              "      <td>359328.00</td>\n",
              "    </tr>\n",
              "    <tr>\n",
              "      <th>3</th>\n",
              "      <td>3407.00</td>\n",
              "      <td>455954.43</td>\n",
              "      <td>86522.31</td>\n",
              "      <td>359360.00</td>\n",
              "      <td>391184.00</td>\n",
              "      <td>433664.00</td>\n",
              "      <td>491936.00</td>\n",
              "      <td>1049096.00</td>\n",
              "    </tr>\n",
              "  </tbody>\n",
              "</table>\n",
              "</div>"
            ],
            "text/plain": [
              "                  count      mean      std  ...       50%       75%        max\n",
              "RevenueCluster                              ...                               \n",
              "0              44053.00  16769.55 17522.58  ...   8928.00  23096.00   68584.00\n",
              "1              15275.00 120504.91 34886.26  ... 115776.00 148728.00  191304.00\n",
              "2               8470.00 261890.57 47529.72  ... 256500.00 299736.00  359328.00\n",
              "3               3407.00 455954.43 86522.31  ... 433664.00 491936.00 1049096.00\n",
              "\n",
              "[4 rows x 8 columns]"
            ]
          },
          "metadata": {},
          "execution_count": 66
        }
      ]
    },
    {
      "cell_type": "markdown",
      "source": [
        "## Customer lifetime value"
      ],
      "metadata": {
        "id": "O_y9EKRV3l-8"
      }
    },
    {
      "cell_type": "code",
      "source": [
        "sales_data_user['OverallScore'] = sales_data_user['FrequencyCluster'] + sales_data_user['FrequencyCluster']+ sales_data_user['RevenueCluster']\n",
        "\n",
        "print(sales_data_user.groupby('OverallScore')['Recency'].mean())\n",
        "print(sales_data_user.groupby('OverallScore')['Frequency'].mean())\n",
        "print(sales_data_user.groupby('OverallScore')['Revenue'].mean())"
      ],
      "metadata": {
        "id": "XNVD3XXs3gJw",
        "outputId": "8dd24b44-f2ad-4b4c-dfc8-891e4242b174",
        "colab": {
          "base_uri": "https://localhost:8080/"
        }
      },
      "execution_count": 67,
      "outputs": [
        {
          "output_type": "stream",
          "name": "stdout",
          "text": [
            "OverallScore\n",
            "0   371.09\n",
            "1   308.53\n",
            "2   242.99\n",
            "3   206.58\n",
            "4   197.40\n",
            "5   139.23\n",
            "6   126.85\n",
            "7   138.65\n",
            "8    84.01\n",
            "9    82.51\n",
            "Name: Recency, dtype: float64\n",
            "OverallScore\n",
            "0    1.98\n",
            "1    4.20\n",
            "2    7.66\n",
            "3    9.98\n",
            "4   12.70\n",
            "5   18.12\n",
            "6   20.83\n",
            "7   25.25\n",
            "8   31.94\n",
            "9   35.23\n",
            "Name: Frequency, dtype: float64\n",
            "OverallScore\n",
            "0    13049.57\n",
            "1    89749.37\n",
            "2    46096.86\n",
            "3   112234.64\n",
            "4   202569.46\n",
            "5   147606.80\n",
            "6   251350.14\n",
            "7   337361.96\n",
            "8   289640.82\n",
            "9   463190.02\n",
            "Name: Revenue, dtype: float64\n"
          ]
        }
      ]
    },
    {
      "cell_type": "markdown",
      "source": [
        "## Labelng"
      ],
      "metadata": {
        "id": "Nlw3pPM-477C"
      }
    },
    {
      "cell_type": "code",
      "source": [
        "sales_data_user['Segment'] = 'Low-Value'\n",
        "sales_data_user.loc[sales_data_user['OverallScore']>2,'Segment'] = 'Mid-Value'\n",
        "sales_data_user.loc[sales_data_user['OverallScore']>4,'Segment'] = 'High-Value'\n",
        "sales_data_user"
      ],
      "metadata": {
        "id": "IfhDjrQP46I1",
        "outputId": "008f68c8-a15c-4627-fc76-f7c4c0f9f0df",
        "colab": {
          "base_uri": "https://localhost:8080/",
          "height": 423
        }
      },
      "execution_count": 68,
      "outputs": [
        {
          "output_type": "execute_result",
          "data": {
            "text/html": [
              "<div>\n",
              "<style scoped>\n",
              "    .dataframe tbody tr th:only-of-type {\n",
              "        vertical-align: middle;\n",
              "    }\n",
              "\n",
              "    .dataframe tbody tr th {\n",
              "        vertical-align: top;\n",
              "    }\n",
              "\n",
              "    .dataframe thead th {\n",
              "        text-align: right;\n",
              "    }\n",
              "</style>\n",
              "<table border=\"1\" class=\"dataframe\">\n",
              "  <thead>\n",
              "    <tr style=\"text-align: right;\">\n",
              "      <th></th>\n",
              "      <th>CustomerID</th>\n",
              "      <th>Recency</th>\n",
              "      <th>RecencyCluster</th>\n",
              "      <th>Frequency</th>\n",
              "      <th>FrequencyCluster</th>\n",
              "      <th>Revenue</th>\n",
              "      <th>RevenueCluster</th>\n",
              "      <th>OverallScore</th>\n",
              "      <th>Segment</th>\n",
              "    </tr>\n",
              "  </thead>\n",
              "  <tbody>\n",
              "    <tr>\n",
              "      <th>0</th>\n",
              "      <td>9100002488768.00</td>\n",
              "      <td>123</td>\n",
              "      <td>3</td>\n",
              "      <td>23</td>\n",
              "      <td>2</td>\n",
              "      <td>268088.00</td>\n",
              "      <td>2</td>\n",
              "      <td>6</td>\n",
              "      <td>High-Value</td>\n",
              "    </tr>\n",
              "    <tr>\n",
              "      <th>1</th>\n",
              "      <td>9100002508831.00</td>\n",
              "      <td>16</td>\n",
              "      <td>3</td>\n",
              "      <td>25</td>\n",
              "      <td>2</td>\n",
              "      <td>276824.00</td>\n",
              "      <td>2</td>\n",
              "      <td>6</td>\n",
              "      <td>High-Value</td>\n",
              "    </tr>\n",
              "    <tr>\n",
              "      <th>2</th>\n",
              "      <td>9100001761848.00</td>\n",
              "      <td>61</td>\n",
              "      <td>3</td>\n",
              "      <td>20</td>\n",
              "      <td>2</td>\n",
              "      <td>197248.00</td>\n",
              "      <td>2</td>\n",
              "      <td>6</td>\n",
              "      <td>High-Value</td>\n",
              "    </tr>\n",
              "    <tr>\n",
              "      <th>3</th>\n",
              "      <td>9100002514344.00</td>\n",
              "      <td>32</td>\n",
              "      <td>3</td>\n",
              "      <td>15</td>\n",
              "      <td>2</td>\n",
              "      <td>219224.00</td>\n",
              "      <td>2</td>\n",
              "      <td>6</td>\n",
              "      <td>High-Value</td>\n",
              "    </tr>\n",
              "    <tr>\n",
              "      <th>4</th>\n",
              "      <td>9100002184202.00</td>\n",
              "      <td>18</td>\n",
              "      <td>3</td>\n",
              "      <td>20</td>\n",
              "      <td>2</td>\n",
              "      <td>235864.00</td>\n",
              "      <td>2</td>\n",
              "      <td>6</td>\n",
              "      <td>High-Value</td>\n",
              "    </tr>\n",
              "    <tr>\n",
              "      <th>...</th>\n",
              "      <td>...</td>\n",
              "      <td>...</td>\n",
              "      <td>...</td>\n",
              "      <td>...</td>\n",
              "      <td>...</td>\n",
              "      <td>...</td>\n",
              "      <td>...</td>\n",
              "      <td>...</td>\n",
              "      <td>...</td>\n",
              "    </tr>\n",
              "    <tr>\n",
              "      <th>71200</th>\n",
              "      <td>9100002763223.00</td>\n",
              "      <td>329</td>\n",
              "      <td>1</td>\n",
              "      <td>1</td>\n",
              "      <td>0</td>\n",
              "      <td>5272.00</td>\n",
              "      <td>0</td>\n",
              "      <td>0</td>\n",
              "      <td>Low-Value</td>\n",
              "    </tr>\n",
              "    <tr>\n",
              "      <th>71201</th>\n",
              "      <td>9100002763049.00</td>\n",
              "      <td>329</td>\n",
              "      <td>1</td>\n",
              "      <td>2</td>\n",
              "      <td>0</td>\n",
              "      <td>8048.00</td>\n",
              "      <td>0</td>\n",
              "      <td>0</td>\n",
              "      <td>Low-Value</td>\n",
              "    </tr>\n",
              "    <tr>\n",
              "      <th>71202</th>\n",
              "      <td>9100002763216.00</td>\n",
              "      <td>329</td>\n",
              "      <td>1</td>\n",
              "      <td>1</td>\n",
              "      <td>0</td>\n",
              "      <td>5272.00</td>\n",
              "      <td>0</td>\n",
              "      <td>0</td>\n",
              "      <td>Low-Value</td>\n",
              "    </tr>\n",
              "    <tr>\n",
              "      <th>71203</th>\n",
              "      <td>9100002763240.00</td>\n",
              "      <td>329</td>\n",
              "      <td>1</td>\n",
              "      <td>2</td>\n",
              "      <td>0</td>\n",
              "      <td>8048.00</td>\n",
              "      <td>0</td>\n",
              "      <td>0</td>\n",
              "      <td>Low-Value</td>\n",
              "    </tr>\n",
              "    <tr>\n",
              "      <th>71204</th>\n",
              "      <td>9100002763261.00</td>\n",
              "      <td>329</td>\n",
              "      <td>1</td>\n",
              "      <td>1</td>\n",
              "      <td>0</td>\n",
              "      <td>5272.00</td>\n",
              "      <td>0</td>\n",
              "      <td>0</td>\n",
              "      <td>Low-Value</td>\n",
              "    </tr>\n",
              "  </tbody>\n",
              "</table>\n",
              "<p>71205 rows × 9 columns</p>\n",
              "</div>"
            ],
            "text/plain": [
              "            CustomerID  Recency  ...  OverallScore     Segment\n",
              "0     9100002488768.00      123  ...             6  High-Value\n",
              "1     9100002508831.00       16  ...             6  High-Value\n",
              "2     9100001761848.00       61  ...             6  High-Value\n",
              "3     9100002514344.00       32  ...             6  High-Value\n",
              "4     9100002184202.00       18  ...             6  High-Value\n",
              "...                ...      ...  ...           ...         ...\n",
              "71200 9100002763223.00      329  ...             0   Low-Value\n",
              "71201 9100002763049.00      329  ...             0   Low-Value\n",
              "71202 9100002763216.00      329  ...             0   Low-Value\n",
              "71203 9100002763240.00      329  ...             0   Low-Value\n",
              "71204 9100002763261.00      329  ...             0   Low-Value\n",
              "\n",
              "[71205 rows x 9 columns]"
            ]
          },
          "metadata": {},
          "execution_count": 68
        }
      ]
    },
    {
      "cell_type": "code",
      "source": [
        "sales_data_user.to_csv(\"/content/drive/MyDrive/data/new.csv\")"
      ],
      "metadata": {
        "id": "Soc25FMJ46La"
      },
      "execution_count": 69,
      "outputs": []
    }
  ]
}