{
  "nbformat": 4,
  "nbformat_minor": 0,
  "metadata": {
    "colab": {
      "name": "LTV_predict.ipynb",
      "provenance": [],
      "authorship_tag": "ABX9TyMpGJ1/BGrnlvx989PXl2eO",
      "include_colab_link": true
    },
    "kernelspec": {
      "name": "python3",
      "display_name": "Python 3"
    },
    "language_info": {
      "name": "python"
    }
  },
  "cells": [
    {
      "cell_type": "markdown",
      "metadata": {
        "id": "view-in-github",
        "colab_type": "text"
      },
      "source": [
        "<a href=\"https://colab.research.google.com/github/LiuYiShan613/EDA/blob/main/LTV_predict.ipynb\" target=\"_parent\"><img src=\"https://colab.research.google.com/assets/colab-badge.svg\" alt=\"Open In Colab\"/></a>"
      ]
    },
    {
      "cell_type": "code",
      "source": [
        "from google.colab import drive\n",
        "drive.mount('/content/drive')"
      ],
      "metadata": {
        "colab": {
          "base_uri": "https://localhost:8080/"
        },
        "id": "zgVG52_0kdVR",
        "outputId": "c6faef88-34eb-4b77-9142-bb57b53bcb13"
      },
      "execution_count": null,
      "outputs": [
        {
          "output_type": "stream",
          "name": "stdout",
          "text": [
            "Drive already mounted at /content/drive; to attempt to forcibly remount, call drive.mount(\"/content/drive\", force_remount=True).\n"
          ]
        }
      ]
    },
    {
      "cell_type": "code",
      "execution_count": null,
      "metadata": {
        "id": "PhXYCufajrm6"
      },
      "outputs": [],
      "source": [
        "import numpy as np\n",
        "import pandas as pd\n",
        "import matplotlib.pyplot as plt\n",
        "pd.set_option('display.float_format', lambda x:'%.2f'% x)"
      ]
    },
    {
      "cell_type": "code",
      "source": [
        "customer_value = pd.read_csv('/content/drive/MyDrive/data/new.csv')\n",
        "#查看前5筆檔案欄位資訊\n",
        "customer_value.head(5)"
      ],
      "metadata": {
        "colab": {
          "base_uri": "https://localhost:8080/",
          "height": 206
        },
        "id": "BmhJLr9hkKsj",
        "outputId": "45e17a0a-254f-4f92-c25c-ff7aae22a5db"
      },
      "execution_count": null,
      "outputs": [
        {
          "output_type": "execute_result",
          "data": {
            "text/html": [
              "\n",
              "  <div id=\"df-48d5984b-fb19-46bc-ba20-9ac1d9e79c68\">\n",
              "    <div class=\"colab-df-container\">\n",
              "      <div>\n",
              "<style scoped>\n",
              "    .dataframe tbody tr th:only-of-type {\n",
              "        vertical-align: middle;\n",
              "    }\n",
              "\n",
              "    .dataframe tbody tr th {\n",
              "        vertical-align: top;\n",
              "    }\n",
              "\n",
              "    .dataframe thead th {\n",
              "        text-align: right;\n",
              "    }\n",
              "</style>\n",
              "<table border=\"1\" class=\"dataframe\">\n",
              "  <thead>\n",
              "    <tr style=\"text-align: right;\">\n",
              "      <th></th>\n",
              "      <th>Unnamed: 0</th>\n",
              "      <th>CustomerID</th>\n",
              "      <th>Recency</th>\n",
              "      <th>RecencyCluster</th>\n",
              "      <th>Frequency</th>\n",
              "      <th>FrequencyCluster</th>\n",
              "      <th>Revenue</th>\n",
              "      <th>RevenueCluster</th>\n",
              "      <th>OverallScore</th>\n",
              "      <th>Segment</th>\n",
              "    </tr>\n",
              "  </thead>\n",
              "  <tbody>\n",
              "    <tr>\n",
              "      <th>0</th>\n",
              "      <td>0</td>\n",
              "      <td>9100002488768.00</td>\n",
              "      <td>123</td>\n",
              "      <td>3</td>\n",
              "      <td>23</td>\n",
              "      <td>2</td>\n",
              "      <td>268088.00</td>\n",
              "      <td>2</td>\n",
              "      <td>7</td>\n",
              "      <td>High-Value</td>\n",
              "    </tr>\n",
              "    <tr>\n",
              "      <th>1</th>\n",
              "      <td>1</td>\n",
              "      <td>9100002508831.00</td>\n",
              "      <td>16</td>\n",
              "      <td>3</td>\n",
              "      <td>25</td>\n",
              "      <td>2</td>\n",
              "      <td>276824.00</td>\n",
              "      <td>2</td>\n",
              "      <td>7</td>\n",
              "      <td>High-Value</td>\n",
              "    </tr>\n",
              "    <tr>\n",
              "      <th>2</th>\n",
              "      <td>2</td>\n",
              "      <td>9100001761848.00</td>\n",
              "      <td>61</td>\n",
              "      <td>3</td>\n",
              "      <td>20</td>\n",
              "      <td>2</td>\n",
              "      <td>197248.00</td>\n",
              "      <td>2</td>\n",
              "      <td>7</td>\n",
              "      <td>High-Value</td>\n",
              "    </tr>\n",
              "    <tr>\n",
              "      <th>3</th>\n",
              "      <td>3</td>\n",
              "      <td>9100002514344.00</td>\n",
              "      <td>32</td>\n",
              "      <td>3</td>\n",
              "      <td>15</td>\n",
              "      <td>2</td>\n",
              "      <td>219224.00</td>\n",
              "      <td>2</td>\n",
              "      <td>7</td>\n",
              "      <td>High-Value</td>\n",
              "    </tr>\n",
              "    <tr>\n",
              "      <th>4</th>\n",
              "      <td>4</td>\n",
              "      <td>9100002184202.00</td>\n",
              "      <td>18</td>\n",
              "      <td>3</td>\n",
              "      <td>20</td>\n",
              "      <td>2</td>\n",
              "      <td>235864.00</td>\n",
              "      <td>2</td>\n",
              "      <td>7</td>\n",
              "      <td>High-Value</td>\n",
              "    </tr>\n",
              "  </tbody>\n",
              "</table>\n",
              "</div>\n",
              "      <button class=\"colab-df-convert\" onclick=\"convertToInteractive('df-48d5984b-fb19-46bc-ba20-9ac1d9e79c68')\"\n",
              "              title=\"Convert this dataframe to an interactive table.\"\n",
              "              style=\"display:none;\">\n",
              "        \n",
              "  <svg xmlns=\"http://www.w3.org/2000/svg\" height=\"24px\"viewBox=\"0 0 24 24\"\n",
              "       width=\"24px\">\n",
              "    <path d=\"M0 0h24v24H0V0z\" fill=\"none\"/>\n",
              "    <path d=\"M18.56 5.44l.94 2.06.94-2.06 2.06-.94-2.06-.94-.94-2.06-.94 2.06-2.06.94zm-11 1L8.5 8.5l.94-2.06 2.06-.94-2.06-.94L8.5 2.5l-.94 2.06-2.06.94zm10 10l.94 2.06.94-2.06 2.06-.94-2.06-.94-.94-2.06-.94 2.06-2.06.94z\"/><path d=\"M17.41 7.96l-1.37-1.37c-.4-.4-.92-.59-1.43-.59-.52 0-1.04.2-1.43.59L10.3 9.45l-7.72 7.72c-.78.78-.78 2.05 0 2.83L4 21.41c.39.39.9.59 1.41.59.51 0 1.02-.2 1.41-.59l7.78-7.78 2.81-2.81c.8-.78.8-2.07 0-2.86zM5.41 20L4 18.59l7.72-7.72 1.47 1.35L5.41 20z\"/>\n",
              "  </svg>\n",
              "      </button>\n",
              "      \n",
              "  <style>\n",
              "    .colab-df-container {\n",
              "      display:flex;\n",
              "      flex-wrap:wrap;\n",
              "      gap: 12px;\n",
              "    }\n",
              "\n",
              "    .colab-df-convert {\n",
              "      background-color: #E8F0FE;\n",
              "      border: none;\n",
              "      border-radius: 50%;\n",
              "      cursor: pointer;\n",
              "      display: none;\n",
              "      fill: #1967D2;\n",
              "      height: 32px;\n",
              "      padding: 0 0 0 0;\n",
              "      width: 32px;\n",
              "    }\n",
              "\n",
              "    .colab-df-convert:hover {\n",
              "      background-color: #E2EBFA;\n",
              "      box-shadow: 0px 1px 2px rgba(60, 64, 67, 0.3), 0px 1px 3px 1px rgba(60, 64, 67, 0.15);\n",
              "      fill: #174EA6;\n",
              "    }\n",
              "\n",
              "    [theme=dark] .colab-df-convert {\n",
              "      background-color: #3B4455;\n",
              "      fill: #D2E3FC;\n",
              "    }\n",
              "\n",
              "    [theme=dark] .colab-df-convert:hover {\n",
              "      background-color: #434B5C;\n",
              "      box-shadow: 0px 1px 3px 1px rgba(0, 0, 0, 0.15);\n",
              "      filter: drop-shadow(0px 1px 2px rgba(0, 0, 0, 0.3));\n",
              "      fill: #FFFFFF;\n",
              "    }\n",
              "  </style>\n",
              "\n",
              "      <script>\n",
              "        const buttonEl =\n",
              "          document.querySelector('#df-48d5984b-fb19-46bc-ba20-9ac1d9e79c68 button.colab-df-convert');\n",
              "        buttonEl.style.display =\n",
              "          google.colab.kernel.accessAllowed ? 'block' : 'none';\n",
              "\n",
              "        async function convertToInteractive(key) {\n",
              "          const element = document.querySelector('#df-48d5984b-fb19-46bc-ba20-9ac1d9e79c68');\n",
              "          const dataTable =\n",
              "            await google.colab.kernel.invokeFunction('convertToInteractive',\n",
              "                                                     [key], {});\n",
              "          if (!dataTable) return;\n",
              "\n",
              "          const docLinkHtml = 'Like what you see? Visit the ' +\n",
              "            '<a target=\"_blank\" href=https://colab.research.google.com/notebooks/data_table.ipynb>data table notebook</a>'\n",
              "            + ' to learn more about interactive tables.';\n",
              "          element.innerHTML = '';\n",
              "          dataTable['output_type'] = 'display_data';\n",
              "          await google.colab.output.renderOutput(dataTable, element);\n",
              "          const docLink = document.createElement('div');\n",
              "          docLink.innerHTML = docLinkHtml;\n",
              "          element.appendChild(docLink);\n",
              "        }\n",
              "      </script>\n",
              "    </div>\n",
              "  </div>\n",
              "  "
            ],
            "text/plain": [
              "   Unnamed: 0       CustomerID  ...  OverallScore     Segment\n",
              "0           0 9100002488768.00  ...             7  High-Value\n",
              "1           1 9100002508831.00  ...             7  High-Value\n",
              "2           2 9100001761848.00  ...             7  High-Value\n",
              "3           3 9100002514344.00  ...             7  High-Value\n",
              "4           4 9100002184202.00  ...             7  High-Value\n",
              "\n",
              "[5 rows x 10 columns]"
            ]
          },
          "metadata": {},
          "execution_count": 76
        }
      ]
    },
    {
      "cell_type": "code",
      "source": [
        "customer_value = customer_value.drop('Unnamed: 0',axis = 1)\n",
        "customer_value"
      ],
      "metadata": {
        "colab": {
          "base_uri": "https://localhost:8080/",
          "height": 423
        },
        "id": "CUYzBiwlkK2O",
        "outputId": "35bd231e-1bd9-46f8-f31b-8d4342911df2"
      },
      "execution_count": null,
      "outputs": [
        {
          "output_type": "execute_result",
          "data": {
            "text/html": [
              "\n",
              "  <div id=\"df-88ae9709-c69e-487c-b523-5e31c1b13405\">\n",
              "    <div class=\"colab-df-container\">\n",
              "      <div>\n",
              "<style scoped>\n",
              "    .dataframe tbody tr th:only-of-type {\n",
              "        vertical-align: middle;\n",
              "    }\n",
              "\n",
              "    .dataframe tbody tr th {\n",
              "        vertical-align: top;\n",
              "    }\n",
              "\n",
              "    .dataframe thead th {\n",
              "        text-align: right;\n",
              "    }\n",
              "</style>\n",
              "<table border=\"1\" class=\"dataframe\">\n",
              "  <thead>\n",
              "    <tr style=\"text-align: right;\">\n",
              "      <th></th>\n",
              "      <th>CustomerID</th>\n",
              "      <th>Recency</th>\n",
              "      <th>RecencyCluster</th>\n",
              "      <th>Frequency</th>\n",
              "      <th>FrequencyCluster</th>\n",
              "      <th>Revenue</th>\n",
              "      <th>RevenueCluster</th>\n",
              "      <th>OverallScore</th>\n",
              "      <th>Segment</th>\n",
              "    </tr>\n",
              "  </thead>\n",
              "  <tbody>\n",
              "    <tr>\n",
              "      <th>0</th>\n",
              "      <td>9100002488768.00</td>\n",
              "      <td>123</td>\n",
              "      <td>3</td>\n",
              "      <td>23</td>\n",
              "      <td>2</td>\n",
              "      <td>268088.00</td>\n",
              "      <td>2</td>\n",
              "      <td>7</td>\n",
              "      <td>High-Value</td>\n",
              "    </tr>\n",
              "    <tr>\n",
              "      <th>1</th>\n",
              "      <td>9100002508831.00</td>\n",
              "      <td>16</td>\n",
              "      <td>3</td>\n",
              "      <td>25</td>\n",
              "      <td>2</td>\n",
              "      <td>276824.00</td>\n",
              "      <td>2</td>\n",
              "      <td>7</td>\n",
              "      <td>High-Value</td>\n",
              "    </tr>\n",
              "    <tr>\n",
              "      <th>2</th>\n",
              "      <td>9100001761848.00</td>\n",
              "      <td>61</td>\n",
              "      <td>3</td>\n",
              "      <td>20</td>\n",
              "      <td>2</td>\n",
              "      <td>197248.00</td>\n",
              "      <td>2</td>\n",
              "      <td>7</td>\n",
              "      <td>High-Value</td>\n",
              "    </tr>\n",
              "    <tr>\n",
              "      <th>3</th>\n",
              "      <td>9100002514344.00</td>\n",
              "      <td>32</td>\n",
              "      <td>3</td>\n",
              "      <td>15</td>\n",
              "      <td>2</td>\n",
              "      <td>219224.00</td>\n",
              "      <td>2</td>\n",
              "      <td>7</td>\n",
              "      <td>High-Value</td>\n",
              "    </tr>\n",
              "    <tr>\n",
              "      <th>4</th>\n",
              "      <td>9100002184202.00</td>\n",
              "      <td>18</td>\n",
              "      <td>3</td>\n",
              "      <td>20</td>\n",
              "      <td>2</td>\n",
              "      <td>235864.00</td>\n",
              "      <td>2</td>\n",
              "      <td>7</td>\n",
              "      <td>High-Value</td>\n",
              "    </tr>\n",
              "    <tr>\n",
              "      <th>...</th>\n",
              "      <td>...</td>\n",
              "      <td>...</td>\n",
              "      <td>...</td>\n",
              "      <td>...</td>\n",
              "      <td>...</td>\n",
              "      <td>...</td>\n",
              "      <td>...</td>\n",
              "      <td>...</td>\n",
              "      <td>...</td>\n",
              "    </tr>\n",
              "    <tr>\n",
              "      <th>71200</th>\n",
              "      <td>9100001558486.00</td>\n",
              "      <td>113</td>\n",
              "      <td>3</td>\n",
              "      <td>38</td>\n",
              "      <td>3</td>\n",
              "      <td>45080.00</td>\n",
              "      <td>0</td>\n",
              "      <td>6</td>\n",
              "      <td>High-Value</td>\n",
              "    </tr>\n",
              "    <tr>\n",
              "      <th>71201</th>\n",
              "      <td>9100001384559.00</td>\n",
              "      <td>39</td>\n",
              "      <td>3</td>\n",
              "      <td>33</td>\n",
              "      <td>3</td>\n",
              "      <td>38816.00</td>\n",
              "      <td>0</td>\n",
              "      <td>6</td>\n",
              "      <td>High-Value</td>\n",
              "    </tr>\n",
              "    <tr>\n",
              "      <th>71202</th>\n",
              "      <td>9100001270685.00</td>\n",
              "      <td>33</td>\n",
              "      <td>3</td>\n",
              "      <td>31</td>\n",
              "      <td>3</td>\n",
              "      <td>67568.00</td>\n",
              "      <td>0</td>\n",
              "      <td>6</td>\n",
              "      <td>High-Value</td>\n",
              "    </tr>\n",
              "    <tr>\n",
              "      <th>71203</th>\n",
              "      <td>9100000258929.00</td>\n",
              "      <td>149</td>\n",
              "      <td>2</td>\n",
              "      <td>27</td>\n",
              "      <td>3</td>\n",
              "      <td>58896.00</td>\n",
              "      <td>0</td>\n",
              "      <td>5</td>\n",
              "      <td>High-Value</td>\n",
              "    </tr>\n",
              "    <tr>\n",
              "      <th>71204</th>\n",
              "      <td>9100001176611.00</td>\n",
              "      <td>590</td>\n",
              "      <td>0</td>\n",
              "      <td>33</td>\n",
              "      <td>3</td>\n",
              "      <td>34512.00</td>\n",
              "      <td>0</td>\n",
              "      <td>3</td>\n",
              "      <td>Mid-Value</td>\n",
              "    </tr>\n",
              "  </tbody>\n",
              "</table>\n",
              "<p>71205 rows × 9 columns</p>\n",
              "</div>\n",
              "      <button class=\"colab-df-convert\" onclick=\"convertToInteractive('df-88ae9709-c69e-487c-b523-5e31c1b13405')\"\n",
              "              title=\"Convert this dataframe to an interactive table.\"\n",
              "              style=\"display:none;\">\n",
              "        \n",
              "  <svg xmlns=\"http://www.w3.org/2000/svg\" height=\"24px\"viewBox=\"0 0 24 24\"\n",
              "       width=\"24px\">\n",
              "    <path d=\"M0 0h24v24H0V0z\" fill=\"none\"/>\n",
              "    <path d=\"M18.56 5.44l.94 2.06.94-2.06 2.06-.94-2.06-.94-.94-2.06-.94 2.06-2.06.94zm-11 1L8.5 8.5l.94-2.06 2.06-.94-2.06-.94L8.5 2.5l-.94 2.06-2.06.94zm10 10l.94 2.06.94-2.06 2.06-.94-2.06-.94-.94-2.06-.94 2.06-2.06.94z\"/><path d=\"M17.41 7.96l-1.37-1.37c-.4-.4-.92-.59-1.43-.59-.52 0-1.04.2-1.43.59L10.3 9.45l-7.72 7.72c-.78.78-.78 2.05 0 2.83L4 21.41c.39.39.9.59 1.41.59.51 0 1.02-.2 1.41-.59l7.78-7.78 2.81-2.81c.8-.78.8-2.07 0-2.86zM5.41 20L4 18.59l7.72-7.72 1.47 1.35L5.41 20z\"/>\n",
              "  </svg>\n",
              "      </button>\n",
              "      \n",
              "  <style>\n",
              "    .colab-df-container {\n",
              "      display:flex;\n",
              "      flex-wrap:wrap;\n",
              "      gap: 12px;\n",
              "    }\n",
              "\n",
              "    .colab-df-convert {\n",
              "      background-color: #E8F0FE;\n",
              "      border: none;\n",
              "      border-radius: 50%;\n",
              "      cursor: pointer;\n",
              "      display: none;\n",
              "      fill: #1967D2;\n",
              "      height: 32px;\n",
              "      padding: 0 0 0 0;\n",
              "      width: 32px;\n",
              "    }\n",
              "\n",
              "    .colab-df-convert:hover {\n",
              "      background-color: #E2EBFA;\n",
              "      box-shadow: 0px 1px 2px rgba(60, 64, 67, 0.3), 0px 1px 3px 1px rgba(60, 64, 67, 0.15);\n",
              "      fill: #174EA6;\n",
              "    }\n",
              "\n",
              "    [theme=dark] .colab-df-convert {\n",
              "      background-color: #3B4455;\n",
              "      fill: #D2E3FC;\n",
              "    }\n",
              "\n",
              "    [theme=dark] .colab-df-convert:hover {\n",
              "      background-color: #434B5C;\n",
              "      box-shadow: 0px 1px 3px 1px rgba(0, 0, 0, 0.15);\n",
              "      filter: drop-shadow(0px 1px 2px rgba(0, 0, 0, 0.3));\n",
              "      fill: #FFFFFF;\n",
              "    }\n",
              "  </style>\n",
              "\n",
              "      <script>\n",
              "        const buttonEl =\n",
              "          document.querySelector('#df-88ae9709-c69e-487c-b523-5e31c1b13405 button.colab-df-convert');\n",
              "        buttonEl.style.display =\n",
              "          google.colab.kernel.accessAllowed ? 'block' : 'none';\n",
              "\n",
              "        async function convertToInteractive(key) {\n",
              "          const element = document.querySelector('#df-88ae9709-c69e-487c-b523-5e31c1b13405');\n",
              "          const dataTable =\n",
              "            await google.colab.kernel.invokeFunction('convertToInteractive',\n",
              "                                                     [key], {});\n",
              "          if (!dataTable) return;\n",
              "\n",
              "          const docLinkHtml = 'Like what you see? Visit the ' +\n",
              "            '<a target=\"_blank\" href=https://colab.research.google.com/notebooks/data_table.ipynb>data table notebook</a>'\n",
              "            + ' to learn more about interactive tables.';\n",
              "          element.innerHTML = '';\n",
              "          dataTable['output_type'] = 'display_data';\n",
              "          await google.colab.output.renderOutput(dataTable, element);\n",
              "          const docLink = document.createElement('div');\n",
              "          docLink.innerHTML = docLinkHtml;\n",
              "          element.appendChild(docLink);\n",
              "        }\n",
              "      </script>\n",
              "    </div>\n",
              "  </div>\n",
              "  "
            ],
            "text/plain": [
              "            CustomerID  Recency  ...  OverallScore     Segment\n",
              "0     9100002488768.00      123  ...             7  High-Value\n",
              "1     9100002508831.00       16  ...             7  High-Value\n",
              "2     9100001761848.00       61  ...             7  High-Value\n",
              "3     9100002514344.00       32  ...             7  High-Value\n",
              "4     9100002184202.00       18  ...             7  High-Value\n",
              "...                ...      ...  ...           ...         ...\n",
              "71200 9100001558486.00      113  ...             6  High-Value\n",
              "71201 9100001384559.00       39  ...             6  High-Value\n",
              "71202 9100001270685.00       33  ...             6  High-Value\n",
              "71203 9100000258929.00      149  ...             5  High-Value\n",
              "71204 9100001176611.00      590  ...             3   Mid-Value\n",
              "\n",
              "[71205 rows x 9 columns]"
            ]
          },
          "metadata": {},
          "execution_count": 77
        }
      ]
    },
    {
      "cell_type": "markdown",
      "source": [
        "# Label encoding"
      ],
      "metadata": {
        "id": "GUirvB3qpaak"
      }
    },
    {
      "cell_type": "code",
      "source": [
        "from sklearn.preprocessing import LabelEncoder\n",
        "labelencoder = LabelEncoder()\n",
        "customer_value['Segment'] = labelencoder.fit_transform(customer_value['Segment'])\n",
        "customer_value.head()"
      ],
      "metadata": {
        "colab": {
          "base_uri": "https://localhost:8080/",
          "height": 206
        },
        "id": "o_Z0JUKwlWlM",
        "outputId": "bcaf68e0-c6aa-4601-bbff-a1f3f619c7be"
      },
      "execution_count": null,
      "outputs": [
        {
          "output_type": "execute_result",
          "data": {
            "text/html": [
              "\n",
              "  <div id=\"df-c34c871f-8ca9-4d99-a3ae-f11877583817\">\n",
              "    <div class=\"colab-df-container\">\n",
              "      <div>\n",
              "<style scoped>\n",
              "    .dataframe tbody tr th:only-of-type {\n",
              "        vertical-align: middle;\n",
              "    }\n",
              "\n",
              "    .dataframe tbody tr th {\n",
              "        vertical-align: top;\n",
              "    }\n",
              "\n",
              "    .dataframe thead th {\n",
              "        text-align: right;\n",
              "    }\n",
              "</style>\n",
              "<table border=\"1\" class=\"dataframe\">\n",
              "  <thead>\n",
              "    <tr style=\"text-align: right;\">\n",
              "      <th></th>\n",
              "      <th>CustomerID</th>\n",
              "      <th>Recency</th>\n",
              "      <th>RecencyCluster</th>\n",
              "      <th>Frequency</th>\n",
              "      <th>FrequencyCluster</th>\n",
              "      <th>Revenue</th>\n",
              "      <th>RevenueCluster</th>\n",
              "      <th>OverallScore</th>\n",
              "      <th>Segment</th>\n",
              "    </tr>\n",
              "  </thead>\n",
              "  <tbody>\n",
              "    <tr>\n",
              "      <th>0</th>\n",
              "      <td>9100002488768.00</td>\n",
              "      <td>123</td>\n",
              "      <td>3</td>\n",
              "      <td>23</td>\n",
              "      <td>2</td>\n",
              "      <td>268088.00</td>\n",
              "      <td>2</td>\n",
              "      <td>7</td>\n",
              "      <td>0</td>\n",
              "    </tr>\n",
              "    <tr>\n",
              "      <th>1</th>\n",
              "      <td>9100002508831.00</td>\n",
              "      <td>16</td>\n",
              "      <td>3</td>\n",
              "      <td>25</td>\n",
              "      <td>2</td>\n",
              "      <td>276824.00</td>\n",
              "      <td>2</td>\n",
              "      <td>7</td>\n",
              "      <td>0</td>\n",
              "    </tr>\n",
              "    <tr>\n",
              "      <th>2</th>\n",
              "      <td>9100001761848.00</td>\n",
              "      <td>61</td>\n",
              "      <td>3</td>\n",
              "      <td>20</td>\n",
              "      <td>2</td>\n",
              "      <td>197248.00</td>\n",
              "      <td>2</td>\n",
              "      <td>7</td>\n",
              "      <td>0</td>\n",
              "    </tr>\n",
              "    <tr>\n",
              "      <th>3</th>\n",
              "      <td>9100002514344.00</td>\n",
              "      <td>32</td>\n",
              "      <td>3</td>\n",
              "      <td>15</td>\n",
              "      <td>2</td>\n",
              "      <td>219224.00</td>\n",
              "      <td>2</td>\n",
              "      <td>7</td>\n",
              "      <td>0</td>\n",
              "    </tr>\n",
              "    <tr>\n",
              "      <th>4</th>\n",
              "      <td>9100002184202.00</td>\n",
              "      <td>18</td>\n",
              "      <td>3</td>\n",
              "      <td>20</td>\n",
              "      <td>2</td>\n",
              "      <td>235864.00</td>\n",
              "      <td>2</td>\n",
              "      <td>7</td>\n",
              "      <td>0</td>\n",
              "    </tr>\n",
              "  </tbody>\n",
              "</table>\n",
              "</div>\n",
              "      <button class=\"colab-df-convert\" onclick=\"convertToInteractive('df-c34c871f-8ca9-4d99-a3ae-f11877583817')\"\n",
              "              title=\"Convert this dataframe to an interactive table.\"\n",
              "              style=\"display:none;\">\n",
              "        \n",
              "  <svg xmlns=\"http://www.w3.org/2000/svg\" height=\"24px\"viewBox=\"0 0 24 24\"\n",
              "       width=\"24px\">\n",
              "    <path d=\"M0 0h24v24H0V0z\" fill=\"none\"/>\n",
              "    <path d=\"M18.56 5.44l.94 2.06.94-2.06 2.06-.94-2.06-.94-.94-2.06-.94 2.06-2.06.94zm-11 1L8.5 8.5l.94-2.06 2.06-.94-2.06-.94L8.5 2.5l-.94 2.06-2.06.94zm10 10l.94 2.06.94-2.06 2.06-.94-2.06-.94-.94-2.06-.94 2.06-2.06.94z\"/><path d=\"M17.41 7.96l-1.37-1.37c-.4-.4-.92-.59-1.43-.59-.52 0-1.04.2-1.43.59L10.3 9.45l-7.72 7.72c-.78.78-.78 2.05 0 2.83L4 21.41c.39.39.9.59 1.41.59.51 0 1.02-.2 1.41-.59l7.78-7.78 2.81-2.81c.8-.78.8-2.07 0-2.86zM5.41 20L4 18.59l7.72-7.72 1.47 1.35L5.41 20z\"/>\n",
              "  </svg>\n",
              "      </button>\n",
              "      \n",
              "  <style>\n",
              "    .colab-df-container {\n",
              "      display:flex;\n",
              "      flex-wrap:wrap;\n",
              "      gap: 12px;\n",
              "    }\n",
              "\n",
              "    .colab-df-convert {\n",
              "      background-color: #E8F0FE;\n",
              "      border: none;\n",
              "      border-radius: 50%;\n",
              "      cursor: pointer;\n",
              "      display: none;\n",
              "      fill: #1967D2;\n",
              "      height: 32px;\n",
              "      padding: 0 0 0 0;\n",
              "      width: 32px;\n",
              "    }\n",
              "\n",
              "    .colab-df-convert:hover {\n",
              "      background-color: #E2EBFA;\n",
              "      box-shadow: 0px 1px 2px rgba(60, 64, 67, 0.3), 0px 1px 3px 1px rgba(60, 64, 67, 0.15);\n",
              "      fill: #174EA6;\n",
              "    }\n",
              "\n",
              "    [theme=dark] .colab-df-convert {\n",
              "      background-color: #3B4455;\n",
              "      fill: #D2E3FC;\n",
              "    }\n",
              "\n",
              "    [theme=dark] .colab-df-convert:hover {\n",
              "      background-color: #434B5C;\n",
              "      box-shadow: 0px 1px 3px 1px rgba(0, 0, 0, 0.15);\n",
              "      filter: drop-shadow(0px 1px 2px rgba(0, 0, 0, 0.3));\n",
              "      fill: #FFFFFF;\n",
              "    }\n",
              "  </style>\n",
              "\n",
              "      <script>\n",
              "        const buttonEl =\n",
              "          document.querySelector('#df-c34c871f-8ca9-4d99-a3ae-f11877583817 button.colab-df-convert');\n",
              "        buttonEl.style.display =\n",
              "          google.colab.kernel.accessAllowed ? 'block' : 'none';\n",
              "\n",
              "        async function convertToInteractive(key) {\n",
              "          const element = document.querySelector('#df-c34c871f-8ca9-4d99-a3ae-f11877583817');\n",
              "          const dataTable =\n",
              "            await google.colab.kernel.invokeFunction('convertToInteractive',\n",
              "                                                     [key], {});\n",
              "          if (!dataTable) return;\n",
              "\n",
              "          const docLinkHtml = 'Like what you see? Visit the ' +\n",
              "            '<a target=\"_blank\" href=https://colab.research.google.com/notebooks/data_table.ipynb>data table notebook</a>'\n",
              "            + ' to learn more about interactive tables.';\n",
              "          element.innerHTML = '';\n",
              "          dataTable['output_type'] = 'display_data';\n",
              "          await google.colab.output.renderOutput(dataTable, element);\n",
              "          const docLink = document.createElement('div');\n",
              "          docLink.innerHTML = docLinkHtml;\n",
              "          element.appendChild(docLink);\n",
              "        }\n",
              "      </script>\n",
              "    </div>\n",
              "  </div>\n",
              "  "
            ],
            "text/plain": [
              "        CustomerID  Recency  ...  OverallScore  Segment\n",
              "0 9100002488768.00      123  ...             7        0\n",
              "1 9100002508831.00       16  ...             7        0\n",
              "2 9100001761848.00       61  ...             7        0\n",
              "3 9100002514344.00       32  ...             7        0\n",
              "4 9100002184202.00       18  ...             7        0\n",
              "\n",
              "[5 rows x 9 columns]"
            ]
          },
          "metadata": {},
          "execution_count": 78
        }
      ]
    },
    {
      "cell_type": "code",
      "source": [
        "labelencoder.classes_"
      ],
      "metadata": {
        "colab": {
          "base_uri": "https://localhost:8080/"
        },
        "id": "SnMyntyD-Kpl",
        "outputId": "574e0197-06fe-497f-837b-4c4e686478d1"
      },
      "execution_count": null,
      "outputs": [
        {
          "output_type": "execute_result",
          "data": {
            "text/plain": [
              "array(['High-Value', 'Low-Value', 'Mid-Value'], dtype=object)"
            ]
          },
          "metadata": {},
          "execution_count": 114
        }
      ]
    },
    {
      "cell_type": "markdown",
      "source": [
        "# Calculate and Show correlations"
      ],
      "metadata": {
        "id": "Z6ou8XhPnSwW"
      }
    },
    {
      "cell_type": "code",
      "source": [
        "#看兩個變數之間的差異程度，愈相似愈靠近1。有正相關和負相關，-1~1\n",
        "corr_matrix = customer_value.corr()\n",
        "corr_matrix\n",
        "#相關係數對角線都會是1\n",
        "#feature量不夠多，所以才會出現很多1，因為很多資料根本沒什麼差異"
      ],
      "metadata": {
        "colab": {
          "base_uri": "https://localhost:8080/",
          "height": 331
        },
        "id": "BcuNOmCymnFY",
        "outputId": "f76432d0-2e70-4789-c980-56618580c41c"
      },
      "execution_count": null,
      "outputs": [
        {
          "output_type": "execute_result",
          "data": {
            "text/html": [
              "\n",
              "  <div id=\"df-0acaf20b-2c8b-42df-8445-10c67954ffc1\">\n",
              "    <div class=\"colab-df-container\">\n",
              "      <div>\n",
              "<style scoped>\n",
              "    .dataframe tbody tr th:only-of-type {\n",
              "        vertical-align: middle;\n",
              "    }\n",
              "\n",
              "    .dataframe tbody tr th {\n",
              "        vertical-align: top;\n",
              "    }\n",
              "\n",
              "    .dataframe thead th {\n",
              "        text-align: right;\n",
              "    }\n",
              "</style>\n",
              "<table border=\"1\" class=\"dataframe\">\n",
              "  <thead>\n",
              "    <tr style=\"text-align: right;\">\n",
              "      <th></th>\n",
              "      <th>CustomerID</th>\n",
              "      <th>Recency</th>\n",
              "      <th>RecencyCluster</th>\n",
              "      <th>Frequency</th>\n",
              "      <th>FrequencyCluster</th>\n",
              "      <th>Revenue</th>\n",
              "      <th>RevenueCluster</th>\n",
              "      <th>OverallScore</th>\n",
              "      <th>Segment</th>\n",
              "    </tr>\n",
              "  </thead>\n",
              "  <tbody>\n",
              "    <tr>\n",
              "      <th>CustomerID</th>\n",
              "      <td>1.00</td>\n",
              "      <td>0.13</td>\n",
              "      <td>-0.13</td>\n",
              "      <td>-0.29</td>\n",
              "      <td>-0.29</td>\n",
              "      <td>-0.30</td>\n",
              "      <td>-0.29</td>\n",
              "      <td>-0.27</td>\n",
              "      <td>0.16</td>\n",
              "    </tr>\n",
              "    <tr>\n",
              "      <th>Recency</th>\n",
              "      <td>0.13</td>\n",
              "      <td>1.00</td>\n",
              "      <td>-0.97</td>\n",
              "      <td>-0.47</td>\n",
              "      <td>-0.48</td>\n",
              "      <td>-0.44</td>\n",
              "      <td>-0.45</td>\n",
              "      <td>-0.77</td>\n",
              "      <td>0.17</td>\n",
              "    </tr>\n",
              "    <tr>\n",
              "      <th>RecencyCluster</th>\n",
              "      <td>-0.13</td>\n",
              "      <td>-0.97</td>\n",
              "      <td>1.00</td>\n",
              "      <td>0.47</td>\n",
              "      <td>0.48</td>\n",
              "      <td>0.44</td>\n",
              "      <td>0.44</td>\n",
              "      <td>0.78</td>\n",
              "      <td>-0.17</td>\n",
              "    </tr>\n",
              "    <tr>\n",
              "      <th>Frequency</th>\n",
              "      <td>-0.29</td>\n",
              "      <td>-0.47</td>\n",
              "      <td>0.47</td>\n",
              "      <td>1.00</td>\n",
              "      <td>0.96</td>\n",
              "      <td>0.93</td>\n",
              "      <td>0.91</td>\n",
              "      <td>0.89</td>\n",
              "      <td>-0.59</td>\n",
              "    </tr>\n",
              "    <tr>\n",
              "      <th>FrequencyCluster</th>\n",
              "      <td>-0.29</td>\n",
              "      <td>-0.48</td>\n",
              "      <td>0.48</td>\n",
              "      <td>0.96</td>\n",
              "      <td>1.00</td>\n",
              "      <td>0.89</td>\n",
              "      <td>0.89</td>\n",
              "      <td>0.91</td>\n",
              "      <td>-0.58</td>\n",
              "    </tr>\n",
              "    <tr>\n",
              "      <th>Revenue</th>\n",
              "      <td>-0.30</td>\n",
              "      <td>-0.44</td>\n",
              "      <td>0.44</td>\n",
              "      <td>0.93</td>\n",
              "      <td>0.89</td>\n",
              "      <td>1.00</td>\n",
              "      <td>0.95</td>\n",
              "      <td>0.87</td>\n",
              "      <td>-0.57</td>\n",
              "    </tr>\n",
              "    <tr>\n",
              "      <th>RevenueCluster</th>\n",
              "      <td>-0.29</td>\n",
              "      <td>-0.45</td>\n",
              "      <td>0.44</td>\n",
              "      <td>0.91</td>\n",
              "      <td>0.89</td>\n",
              "      <td>0.95</td>\n",
              "      <td>1.00</td>\n",
              "      <td>0.89</td>\n",
              "      <td>-0.61</td>\n",
              "    </tr>\n",
              "    <tr>\n",
              "      <th>OverallScore</th>\n",
              "      <td>-0.27</td>\n",
              "      <td>-0.77</td>\n",
              "      <td>0.78</td>\n",
              "      <td>0.89</td>\n",
              "      <td>0.91</td>\n",
              "      <td>0.87</td>\n",
              "      <td>0.89</td>\n",
              "      <td>1.00</td>\n",
              "      <td>-0.51</td>\n",
              "    </tr>\n",
              "    <tr>\n",
              "      <th>Segment</th>\n",
              "      <td>0.16</td>\n",
              "      <td>0.17</td>\n",
              "      <td>-0.17</td>\n",
              "      <td>-0.59</td>\n",
              "      <td>-0.58</td>\n",
              "      <td>-0.57</td>\n",
              "      <td>-0.61</td>\n",
              "      <td>-0.51</td>\n",
              "      <td>1.00</td>\n",
              "    </tr>\n",
              "  </tbody>\n",
              "</table>\n",
              "</div>\n",
              "      <button class=\"colab-df-convert\" onclick=\"convertToInteractive('df-0acaf20b-2c8b-42df-8445-10c67954ffc1')\"\n",
              "              title=\"Convert this dataframe to an interactive table.\"\n",
              "              style=\"display:none;\">\n",
              "        \n",
              "  <svg xmlns=\"http://www.w3.org/2000/svg\" height=\"24px\"viewBox=\"0 0 24 24\"\n",
              "       width=\"24px\">\n",
              "    <path d=\"M0 0h24v24H0V0z\" fill=\"none\"/>\n",
              "    <path d=\"M18.56 5.44l.94 2.06.94-2.06 2.06-.94-2.06-.94-.94-2.06-.94 2.06-2.06.94zm-11 1L8.5 8.5l.94-2.06 2.06-.94-2.06-.94L8.5 2.5l-.94 2.06-2.06.94zm10 10l.94 2.06.94-2.06 2.06-.94-2.06-.94-.94-2.06-.94 2.06-2.06.94z\"/><path d=\"M17.41 7.96l-1.37-1.37c-.4-.4-.92-.59-1.43-.59-.52 0-1.04.2-1.43.59L10.3 9.45l-7.72 7.72c-.78.78-.78 2.05 0 2.83L4 21.41c.39.39.9.59 1.41.59.51 0 1.02-.2 1.41-.59l7.78-7.78 2.81-2.81c.8-.78.8-2.07 0-2.86zM5.41 20L4 18.59l7.72-7.72 1.47 1.35L5.41 20z\"/>\n",
              "  </svg>\n",
              "      </button>\n",
              "      \n",
              "  <style>\n",
              "    .colab-df-container {\n",
              "      display:flex;\n",
              "      flex-wrap:wrap;\n",
              "      gap: 12px;\n",
              "    }\n",
              "\n",
              "    .colab-df-convert {\n",
              "      background-color: #E8F0FE;\n",
              "      border: none;\n",
              "      border-radius: 50%;\n",
              "      cursor: pointer;\n",
              "      display: none;\n",
              "      fill: #1967D2;\n",
              "      height: 32px;\n",
              "      padding: 0 0 0 0;\n",
              "      width: 32px;\n",
              "    }\n",
              "\n",
              "    .colab-df-convert:hover {\n",
              "      background-color: #E2EBFA;\n",
              "      box-shadow: 0px 1px 2px rgba(60, 64, 67, 0.3), 0px 1px 3px 1px rgba(60, 64, 67, 0.15);\n",
              "      fill: #174EA6;\n",
              "    }\n",
              "\n",
              "    [theme=dark] .colab-df-convert {\n",
              "      background-color: #3B4455;\n",
              "      fill: #D2E3FC;\n",
              "    }\n",
              "\n",
              "    [theme=dark] .colab-df-convert:hover {\n",
              "      background-color: #434B5C;\n",
              "      box-shadow: 0px 1px 3px 1px rgba(0, 0, 0, 0.15);\n",
              "      filter: drop-shadow(0px 1px 2px rgba(0, 0, 0, 0.3));\n",
              "      fill: #FFFFFF;\n",
              "    }\n",
              "  </style>\n",
              "\n",
              "      <script>\n",
              "        const buttonEl =\n",
              "          document.querySelector('#df-0acaf20b-2c8b-42df-8445-10c67954ffc1 button.colab-df-convert');\n",
              "        buttonEl.style.display =\n",
              "          google.colab.kernel.accessAllowed ? 'block' : 'none';\n",
              "\n",
              "        async function convertToInteractive(key) {\n",
              "          const element = document.querySelector('#df-0acaf20b-2c8b-42df-8445-10c67954ffc1');\n",
              "          const dataTable =\n",
              "            await google.colab.kernel.invokeFunction('convertToInteractive',\n",
              "                                                     [key], {});\n",
              "          if (!dataTable) return;\n",
              "\n",
              "          const docLinkHtml = 'Like what you see? Visit the ' +\n",
              "            '<a target=\"_blank\" href=https://colab.research.google.com/notebooks/data_table.ipynb>data table notebook</a>'\n",
              "            + ' to learn more about interactive tables.';\n",
              "          element.innerHTML = '';\n",
              "          dataTable['output_type'] = 'display_data';\n",
              "          await google.colab.output.renderOutput(dataTable, element);\n",
              "          const docLink = document.createElement('div');\n",
              "          docLink.innerHTML = docLinkHtml;\n",
              "          element.appendChild(docLink);\n",
              "        }\n",
              "      </script>\n",
              "    </div>\n",
              "  </div>\n",
              "  "
            ],
            "text/plain": [
              "                  CustomerID  Recency  ...  OverallScore  Segment\n",
              "CustomerID              1.00     0.13  ...         -0.27     0.16\n",
              "Recency                 0.13     1.00  ...         -0.77     0.17\n",
              "RecencyCluster         -0.13    -0.97  ...          0.78    -0.17\n",
              "Frequency              -0.29    -0.47  ...          0.89    -0.59\n",
              "FrequencyCluster       -0.29    -0.48  ...          0.91    -0.58\n",
              "Revenue                -0.30    -0.44  ...          0.87    -0.57\n",
              "RevenueCluster         -0.29    -0.45  ...          0.89    -0.61\n",
              "OverallScore           -0.27    -0.77  ...          1.00    -0.51\n",
              "Segment                 0.16     0.17  ...         -0.51     1.00\n",
              "\n",
              "[9 rows x 9 columns]"
            ]
          },
          "metadata": {},
          "execution_count": 79
        }
      ]
    },
    {
      "cell_type": "code",
      "source": [
        "corr_matrix['Segment'].sort_values(ascending=False)\n",
        "print(corr_matrix['Segment'].sort_values(ascending=False))"
      ],
      "metadata": {
        "colab": {
          "base_uri": "https://localhost:8080/"
        },
        "id": "6fVXAxIJmnIu",
        "outputId": "c96f514a-d346-4564-84ce-c6ac2f685490"
      },
      "execution_count": null,
      "outputs": [
        {
          "output_type": "stream",
          "name": "stdout",
          "text": [
            "Segment             1.00\n",
            "Recency             0.17\n",
            "CustomerID          0.16\n",
            "RecencyCluster     -0.17\n",
            "OverallScore       -0.51\n",
            "Revenue            -0.57\n",
            "FrequencyCluster   -0.58\n",
            "Frequency          -0.59\n",
            "RevenueCluster     -0.61\n",
            "Name: Segment, dtype: float64\n"
          ]
        }
      ]
    },
    {
      "cell_type": "markdown",
      "source": [
        "# **Standaration**"
      ],
      "metadata": {
        "id": "0iXHUYoQozmh"
      }
    },
    {
      "cell_type": "code",
      "source": [
        "from sklearn.preprocessing import StandardScaler\n",
        "scalar = StandardScaler()\n",
        "x = scalar.fit_transform(customer_value[['Recency', 'Frequency', 'RecencyCluster', 'FrequencyCluster', 'Revenue', 'RevenueCluster']])\n",
        "#x = scalar.fit_transform(customer_value[['Recency', 'Frequency', 'Revenue']])\n",
        "# 結果\n",
        "y = customer_value['Segment']"
      ],
      "metadata": {
        "id": "FjtKXVEdoyZ8"
      },
      "execution_count": null,
      "outputs": []
    },
    {
      "cell_type": "code",
      "source": [
        "x,y"
      ],
      "metadata": {
        "colab": {
          "base_uri": "https://localhost:8080/"
        },
        "id": "Hm4qOEuqoygy",
        "outputId": "54365d17-ad4b-47a3-d6e1-234a46074ad9"
      },
      "execution_count": null,
      "outputs": [
        {
          "output_type": "execute_result",
          "data": {
            "text/plain": [
              "(array([[-0.73342026,  1.44730373,  1.09562677,  1.28693312,  1.48475403,\n",
              "          1.59312044],\n",
              "        [-1.23016427,  1.64879703,  1.09562677,  1.28693312,  1.55725989,\n",
              "          1.59312044],\n",
              "        [-1.02125323,  1.14506377,  1.09562677,  1.28693312,  0.89680581,\n",
              "          1.59312044],\n",
              "        ...,\n",
              "        [-1.15124232,  2.25327694,  1.09562677,  2.30514564, -0.17949467,\n",
              "         -0.68157934],\n",
              "        [-0.61271611,  1.85029033,  0.20341501,  2.30514564, -0.25146935,\n",
              "         -0.68157934],\n",
              "        [ 1.434612  ,  2.45477025, -1.58100852,  2.30514564, -0.45384837,\n",
              "         -0.68157934]]), 0        0\n",
              " 1        0\n",
              " 2        0\n",
              " 3        0\n",
              " 4        0\n",
              "         ..\n",
              " 71200    0\n",
              " 71201    0\n",
              " 71202    0\n",
              " 71203    0\n",
              " 71204    2\n",
              " Name: Segment, Length: 71205, dtype: int64)"
            ]
          },
          "metadata": {},
          "execution_count": 102
        }
      ]
    },
    {
      "cell_type": "markdown",
      "source": [
        "# Split Test and Train"
      ],
      "metadata": {
        "id": "y1GJQd_mrx3Y"
      }
    },
    {
      "cell_type": "code",
      "source": [
        "from sklearn.model_selection import train_test_split\n",
        "X_train, X_test, y_train, y_test = train_test_split(x, y, test_size=0.5, random_state=56)"
      ],
      "metadata": {
        "id": "hyJDx7GNp5yx"
      },
      "execution_count": null,
      "outputs": []
    },
    {
      "cell_type": "code",
      "source": [
        "X_train,y_train"
      ],
      "metadata": {
        "colab": {
          "base_uri": "https://localhost:8080/"
        },
        "id": "MbX_PZxnrdc-",
        "outputId": "8bef9829-d371-43e2-b69d-2e18ee9989a6"
      },
      "execution_count": null,
      "outputs": [
        {
          "output_type": "execute_result",
          "data": {
            "text/plain": [
              "(array([[-0.17632418, -0.26538936,  0.20341501,  0.26872059, -0.01316939,\n",
              "          0.45577055],\n",
              "        [-1.04446557, -0.56762932,  1.09562677, -0.74949193, -0.70111197,\n",
              "         -0.68157934],\n",
              "        [ 0.34827463, -0.06389606, -0.68879675,  0.26872059, -0.25950343,\n",
              "         -0.68157934],\n",
              "        ...,\n",
              "        [-1.10017518,  2.5555169 ,  1.09562677,  2.30514564,  2.98978196,\n",
              "          2.73047033],\n",
              "        [-1.28123141,  1.14506377,  1.09562677,  1.28693312,  1.20017514,\n",
              "          1.59312044],\n",
              "        [-1.12338752, -0.36613601,  1.09562677, -0.74949193, -0.52157363,\n",
              "         -0.68157934]]), 19289    2\n",
              " 33942    2\n",
              " 31778    1\n",
              " 64818    1\n",
              " 47781    1\n",
              "         ..\n",
              " 65769    1\n",
              " 42106    1\n",
              " 25835    0\n",
              " 3264     0\n",
              " 33167    2\n",
              " Name: Segment, Length: 35602, dtype: int64)"
            ]
          },
          "metadata": {},
          "execution_count": 104
        }
      ]
    },
    {
      "cell_type": "markdown",
      "source": [
        "# Support Vector Machine"
      ],
      "metadata": {
        "id": "nbenzBSRsCjQ"
      }
    },
    {
      "cell_type": "code",
      "source": [
        "#參數\n",
        "#1. 核函數 kernel - 在模型裡面，我們可以選擇各式各樣的核函數，包含線性、多項式、高斯、sigmoid等等\n",
        "#2. 參數C - C為懲罰係數。 C愈大代表錯誤的容忍程度愈低，在訓練集樣本中會區分的愈精細，因此設定太大容易造成過度擬和的問題。反之，設定太小則會造成低度擬合的問題。若沒設定，模型中預設為1。\n",
        "#3. 參數gamma - gamma參數決定支援向量的多寡，並影響訓練速度與預測速度 。此參數有兩個自動運算選擇，分別為’scale’與’auto’，或是也可以直接指定數值，設定後會以下列方式算出隱含參數，以決定資料映射到新特徵空間後的分佈，在未設定下預設為’scale’。\n",
        "\n",
        "from sklearn import svm\n",
        "from sklearn.model_selection import KFold, cross_val_score\n",
        "\n",
        "clf = svm.SVC(kernel='rbf',C=1,gamma='auto')\n",
        "clf.fit(X_train, y_train)\n",
        "\n",
        "clf.predict(X_test)"
      ],
      "metadata": {
        "colab": {
          "base_uri": "https://localhost:8080/"
        },
        "id": "fmCaS6jXsOTw",
        "outputId": "83287654-76d8-4b28-d149-606991f5361f"
      },
      "execution_count": null,
      "outputs": [
        {
          "output_type": "execute_result",
          "data": {
            "text/plain": [
              "array([1, 1, 2, ..., 1, 2, 0])"
            ]
          },
          "metadata": {},
          "execution_count": 105
        }
      ]
    },
    {
      "cell_type": "code",
      "source": [
        "print(clf.score(X_train, y_train))\n",
        "print(clf.score(X_test, y_test))\n",
        "\n",
        "#交叉驗證\n",
        "scores = cross_val_score(clf, X_train, y_train, cv=5, scoring='accuracy')\n",
        "print(scores)\n",
        "print(scores.mean())"
      ],
      "metadata": {
        "colab": {
          "base_uri": "https://localhost:8080/"
        },
        "id": "z97A5g1Dt9xh",
        "outputId": "dc822461-ac8b-40e0-835c-c9a372546e67"
      },
      "execution_count": null,
      "outputs": [
        {
          "output_type": "stream",
          "name": "stdout",
          "text": [
            "1.0\n",
            "1.0\n",
            "[1.         1.         1.         1.         0.99985955]\n",
            "0.9999719101123595\n"
          ]
        }
      ]
    },
    {
      "cell_type": "markdown",
      "source": [
        "# Logistic Regression"
      ],
      "metadata": {
        "id": "xL1teP43sCl5"
      }
    },
    {
      "cell_type": "code",
      "source": [
        "from sklearn.linear_model import LogisticRegression\n",
        "from sklearn import metrics\n",
        "\n",
        "logreg = LogisticRegression()\n",
        "logreg.fit(X_train, y_train)\n",
        "\n",
        "y_prd = logreg.predict(X_test)\n",
        "\n",
        "print(logreg.score(X_train, y_train))\n",
        "print(logreg.score(X_test, y_test))"
      ],
      "metadata": {
        "colab": {
          "base_uri": "https://localhost:8080/"
        },
        "id": "2OjYQpIkvn0t",
        "outputId": "b1c58b7c-3bf2-48a1-ec5d-bac96fc8285b"
      },
      "execution_count": null,
      "outputs": [
        {
          "output_type": "stream",
          "name": "stdout",
          "text": [
            "1.0\n",
            "1.0\n"
          ]
        }
      ]
    },
    {
      "cell_type": "markdown",
      "source": [
        "# Naive Bytes"
      ],
      "metadata": {
        "id": "UCk4XXiE1BnQ"
      }
    },
    {
      "cell_type": "code",
      "source": [
        "from sklearn.naive_bayes import GaussianNB\n",
        "\n",
        "model = GaussianNB()\n",
        "model.fit(X_train, y_train)\n",
        "\n",
        "y_pred = model.predict(X_test)\n",
        "print(model.score(X_train, y_train))\n",
        "print(model.score(X_test, y_test))"
      ],
      "metadata": {
        "colab": {
          "base_uri": "https://localhost:8080/"
        },
        "id": "oTV52Dt4vn6H",
        "outputId": "d6c7d0e6-7ee5-4aff-cc81-f0cb6d23d48e"
      },
      "execution_count": null,
      "outputs": [
        {
          "output_type": "stream",
          "name": "stdout",
          "text": [
            "0.889416324925566\n",
            "0.8890823806982557\n"
          ]
        }
      ]
    },
    {
      "cell_type": "markdown",
      "source": [
        "# K-Nearest Neighbors"
      ],
      "metadata": {
        "id": "Y8VQitbssCor"
      }
    },
    {
      "cell_type": "code",
      "source": [
        "from sklearn.neighbors import KNeighborsClassifier\n",
        "\n",
        "model = KNeighborsClassifier()\n",
        "model.fit(X_train, y_train)\n",
        "\n",
        "y_pred = model.predict(X_test)\n",
        "print(model.score(X_train, y_train))\n",
        "print(model.score(X_test, y_test))"
      ],
      "metadata": {
        "colab": {
          "base_uri": "https://localhost:8080/"
        },
        "id": "uryeIr5t6hty",
        "outputId": "20de6b55-5006-4937-9247-8946446c2abf"
      },
      "execution_count": null,
      "outputs": [
        {
          "output_type": "stream",
          "name": "stdout",
          "text": [
            "0.999943823380709\n",
            "0.9999438249585709\n"
          ]
        }
      ]
    },
    {
      "cell_type": "markdown",
      "source": [
        "# Decision Tree"
      ],
      "metadata": {
        "id": "X_jQSqeT7UE3"
      }
    },
    {
      "cell_type": "code",
      "source": [
        "from sklearn.tree import DecisionTreeClassifier\n",
        "\n",
        "model = DecisionTreeClassifier(max_depth=2,criterion='entropy')\n",
        "model.fit(X_train, y_train)\n",
        "\n",
        "y_pred = model.predict(X_test)\n",
        "\n",
        "print(model.score(X_train, y_train))\n",
        "print(model.score(X_test, y_test))"
      ],
      "metadata": {
        "colab": {
          "base_uri": "https://localhost:8080/"
        },
        "id": "CHiVINZP63Ff",
        "outputId": "43919233-dc32-4259-f70d-aaac82106b49"
      },
      "execution_count": null,
      "outputs": [
        {
          "output_type": "stream",
          "name": "stdout",
          "text": [
            "0.8986854671085894\n",
            "0.8962727860011797\n"
          ]
        }
      ]
    },
    {
      "cell_type": "code",
      "source": [
        "from sklearn.tree import export_graphviz\n",
        "from sklearn import tree\n",
        "tree.plot_tree(model)"
      ],
      "metadata": {
        "colab": {
          "base_uri": "https://localhost:8080/",
          "height": 375
        },
        "id": "WZqvydEm7ZIO",
        "outputId": "eef9b085-f2d0-4665-86f5-d60e81a9624a"
      },
      "execution_count": null,
      "outputs": [
        {
          "output_type": "execute_result",
          "data": {
            "text/plain": [
              "[Text(167.4, 181.2, 'X[4] <= -0.173\\nentropy = 1.507\\nsamples = 35602\\nvalue = [10080, 17394, 8128]'),\n",
              " Text(83.7, 108.72, 'X[2] <= 0.65\\nentropy = 0.803\\nsamples = 22076\\nvalue = [23, 16799, 5254]'),\n",
              " Text(41.85, 36.23999999999998, 'entropy = 0.252\\nsamples = 17539\\nvalue = [0, 16799, 740]'),\n",
              " Text(125.55000000000001, 36.23999999999998, 'entropy = 0.046\\nsamples = 4537\\nvalue = [23, 0, 4514]'),\n",
              " Text(251.10000000000002, 108.72, 'X[0] <= -0.652\\nentropy = 0.991\\nsamples = 13526\\nvalue = [10057, 595, 2874]'),\n",
              " Text(209.25, 36.23999999999998, 'entropy = 0.138\\nsamples = 8122\\nvalue = [7965, 0, 157]'),\n",
              " Text(292.95, 36.23999999999998, 'entropy = 1.379\\nsamples = 5404\\nvalue = [2092, 595, 2717]')]"
            ]
          },
          "metadata": {},
          "execution_count": 111
        },
        {
          "output_type": "display_data",
          "data": {
            "image/png": "[encoded data removed]",
            "text/plain": [
              "<Figure size 432x288 with 1 Axes>"
            ]
          },
          "metadata": {
            "needs_background": "light"
          }
        }
      ]
    },
    {
      "cell_type": "markdown",
      "source": [
        "# xgboost"
      ],
      "metadata": {
        "id": "9wht4Wfe7rCi"
      }
    },
    {
      "cell_type": "code",
      "source": [
        "from xgboost import XGBClassifier\n",
        "xgbc = XGBClassifier()\n",
        "xgbc.fit(X_train, y_train)\n",
        "\n",
        "print(model.score(X_train, y_train))\n",
        "print(model.score(X_test, y_test))"
      ],
      "metadata": {
        "colab": {
          "base_uri": "https://localhost:8080/"
        },
        "id": "NaZFxIz28Nk-",
        "outputId": "67a48a88-6f65-4d09-ef71-005c2a714e37"
      },
      "execution_count": null,
      "outputs": [
        {
          "output_type": "stream",
          "name": "stdout",
          "text": [
            "0.999943823380709\n",
            "0.9999438249585709\n"
          ]
        }
      ]
    }
  ]
}